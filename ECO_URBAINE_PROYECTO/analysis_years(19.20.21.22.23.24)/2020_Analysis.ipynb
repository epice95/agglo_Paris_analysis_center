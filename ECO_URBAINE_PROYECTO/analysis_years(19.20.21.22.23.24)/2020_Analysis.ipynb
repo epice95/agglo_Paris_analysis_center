{
 "cells": [
  {
   "cell_type": "markdown",
   "id": "49f8a323-1dbb-4412-a6ae-a1e1af359214",
   "metadata": {},
   "source": [
    "### Analysis of 2024 (entire year available in the official website of data.gouv.fr)"
   ]
  },
  {
   "cell_type": "markdown",
   "id": "47fc420d-6f62-4b65-a23e-3070e7238884",
   "metadata": {},
   "source": [
    "We import the file, then we check by 'chunk' (to not work too much the machine) the first lines in purpose to ensure validity"
   ]
  },
  {
   "cell_type": "code",
   "execution_count": 1,
   "id": "e218f1bc-118d-46f9-a494-af90b0ad77eb",
   "metadata": {},
   "outputs": [
    {
     "name": "stdout",
     "output_type": "stream",
     "text": [
      "  Date mutation Valeur fonciere  Code postal    Commune  \\\n",
      "0    07/01/2020         8000,00       1250.0  CEYZERIAT   \n",
      "1    02/01/2020         2175,00       1290.0       LAIZ   \n",
      "2    02/01/2020         2175,00       1290.0       LAIZ   \n",
      "3    02/01/2020         2175,00       1290.0       LAIZ   \n",
      "4    02/01/2020         2175,00       1290.0       LAIZ   \n",
      "\n",
      "  Surface Carrez du 1er lot  Nombre de lots Type local  Surface reelle bati  \n",
      "0                       NaN               0        NaN                  NaN  \n",
      "1                       NaN               0        NaN                  NaN  \n",
      "2                       NaN               0        NaN                  NaN  \n",
      "3                       NaN               0        NaN                  NaN  \n",
      "4                       NaN               0        NaN                  NaN  \n"
     ]
    }
   ],
   "source": [
    "import pandas as pd\n",
    "\n",
    "# path of the file (adjust it according to your computer)\n",
    "file_path = 'C:/Users/NEZHA/OneDrive/Documents/DVF/ValeursFoncieres-2020.txt'\n",
    "\n",
    "# Columns that we conserve to our little check, we will display their first lines \n",
    "cols_to_keep = ['Date mutation', 'Valeur fonciere', 'Code postal', 'Commune', \n",
    "                'Surface Carrez du 1er lot', 'Nombre de lots', 'Type local', 'Surface reelle bati']\n",
    "\n",
    "# 100 000 lines at a time\n",
    "chunksize = 100000\n",
    "chunks = pd.read_csv(file_path, delimiter='|', encoding='utf-8', chunksize=chunksize, usecols=cols_to_keep, low_memory=False)\n",
    "\n",
    "# We display five lines to check if the importation is valid\n",
    "for chunk in chunks:\n",
    "    print(chunk.head())\n",
    "    break  # We stop after the first chunk... that's enough"
   ]
  },
  {
   "cell_type": "markdown",
   "id": "0aad2943-b419-45ed-bdba-c906638376d7",
   "metadata": {},
   "source": [
    "it works perfectly ! let's keep going... Now we filter and keep the data which corresponds to the postal codes for the center of Paris metropolitan area (we consider that the center is Paris intra-muros), and we check the first lines..."
   ]
  },
  {
   "cell_type": "code",
   "execution_count": 10,
   "id": "70b8acb6-ffd1-4e2d-b0cb-63eb6de3459c",
   "metadata": {},
   "outputs": [
    {
     "name": "stdout",
     "output_type": "stream",
     "text": [
      "         Identifiant de document  Reference document  1 Articles CGI  \\\n",
      "3250492                      NaN                 NaN             NaN   \n",
      "3250511                      NaN                 NaN             NaN   \n",
      "3250554                      NaN                 NaN             NaN   \n",
      "3250861                      NaN                 NaN             NaN   \n",
      "3250955                      NaN                 NaN             NaN   \n",
      "\n",
      "         2 Articles CGI  3 Articles CGI  4 Articles CGI  5 Articles CGI  \\\n",
      "3250492             NaN             NaN             NaN             NaN   \n",
      "3250511             NaN             NaN             NaN             NaN   \n",
      "3250554             NaN             NaN             NaN             NaN   \n",
      "3250861             NaN             NaN             NaN             NaN   \n",
      "3250955             NaN             NaN             NaN             NaN   \n",
      "\n",
      "         No disposition Date mutation Nature mutation Valeur fonciere  \\\n",
      "3250492               1    17/01/2020           Vente      3400000,00   \n",
      "3250511               1    22/01/2020           Vente       908200,00   \n",
      "3250554               1    20/01/2020           Vente       600000,00   \n",
      "3250861               1    30/01/2020           Vente       509900,00   \n",
      "3250955               1    28/01/2020           Vente       775125,00   \n",
      "\n",
      "         No voie B/T/Q Type de voie Code voie               Voie  Code postal  \\\n",
      "3250492     11.0   NaN           AV      3520  FERDINAND BUISSON      75016.0   \n",
      "3250511     30.0   NaN          RUE      6660  NUNGESSER ET COLI      75016.0   \n",
      "3250554     47.0   NaN           AV      3520  FERDINAND BUISSON      75016.0   \n",
      "3250861     47.0   NaN           AV      3520  FERDINAND BUISSON      75016.0   \n",
      "3250955     35.0   NaN           AV      3520  FERDINAND BUISSON      75016.0   \n",
      "\n",
      "                      Commune Code departement  Code commune  \\\n",
      "3250492  BOULOGNE-BILLANCOURT               92            12   \n",
      "3250511  BOULOGNE-BILLANCOURT               92            12   \n",
      "3250554  BOULOGNE-BILLANCOURT               92            12   \n",
      "3250861  BOULOGNE-BILLANCOURT               92            12   \n",
      "3250955  BOULOGNE-BILLANCOURT               92            12   \n",
      "\n",
      "         Prefixe de section Section  No plan  No Volume 1er lot  \\\n",
      "3250492                 NaN      BO       63        NaN   167.0   \n",
      "3250511                 NaN       U       49        NaN    20.0   \n",
      "3250554                 NaN       X      100        NaN    38.0   \n",
      "3250861                 NaN       X      100        NaN    89.0   \n",
      "3250955                 NaN      AS       81        NaN    75.0   \n",
      "\n",
      "        Surface Carrez du 1er lot 2eme lot Surface Carrez du 2eme lot  \\\n",
      "3250492                       NaN    168.0                     307,61   \n",
      "3250511                     79,86     58.0                        NaN   \n",
      "3250554                     75,81     39.0                        NaN   \n",
      "3250861                       NaN     90.0                        NaN   \n",
      "3250955                       NaN      NaN                        NaN   \n",
      "\n",
      "         3eme lot Surface Carrez du 3eme lot  4eme lot  \\\n",
      "3250492       NaN                        NaN       NaN   \n",
      "3250511       NaN                        NaN       NaN   \n",
      "3250554      40.0                        NaN      41.0   \n",
      "3250861      91.0                        NaN       NaN   \n",
      "3250955       NaN                        NaN       NaN   \n",
      "\n",
      "        Surface Carrez du 4eme lot  5eme lot Surface Carrez du 5eme lot  \\\n",
      "3250492                        NaN       NaN                        NaN   \n",
      "3250511                        NaN       NaN                        NaN   \n",
      "3250554                        NaN       NaN                        NaN   \n",
      "3250861                        NaN       NaN                        NaN   \n",
      "3250955                        NaN       NaN                        NaN   \n",
      "\n",
      "         Nombre de lots  Code type local  \\\n",
      "3250492               2              4.0   \n",
      "3250511               2              2.0   \n",
      "3250554               4              2.0   \n",
      "3250861               3              2.0   \n",
      "3250955               1              2.0   \n",
      "\n",
      "                                       Type local  Identifiant local  \\\n",
      "3250492  Local industriel. commercial ou assimilé                NaN   \n",
      "3250511                               Appartement                NaN   \n",
      "3250554                               Appartement                NaN   \n",
      "3250861                               Appartement                NaN   \n",
      "3250955                               Appartement                NaN   \n",
      "\n",
      "         Surface reelle bati  Nombre pieces principales Nature culture  \\\n",
      "3250492                700.0                        0.0            NaN   \n",
      "3250511                 78.0                        3.0            NaN   \n",
      "3250554                 70.0                        3.0            NaN   \n",
      "3250861                 18.0                        1.0            NaN   \n",
      "3250955                 77.0                        4.0            NaN   \n",
      "\n",
      "        Nature culture speciale  Surface terrain  \n",
      "3250492                     NaN              NaN  \n",
      "3250511                     NaN              NaN  \n",
      "3250554                     NaN              NaN  \n",
      "3250861                     NaN              NaN  \n",
      "3250955                     NaN              NaN  \n"
     ]
    },
    {
     "name": "stderr",
     "output_type": "stream",
     "text": [
      "C:\\Users\\NEZHA\\AppData\\Local\\Temp\\ipykernel_12020\\4090157253.py:24: FutureWarning: The behavior of DataFrame concatenation with empty or all-NA entries is deprecated. In a future version, this will no longer exclude empty or all-NA columns when determining the result dtypes. To retain the old behavior, exclude the relevant entries before the concat operation.\n",
      "  df_paris = pd.concat(df_paris_filtered)\n"
     ]
    }
   ],
   "source": [
    "import pandas as pd\n",
    "\n",
    "# path (adjust it according to your computer)\n",
    "file_path = 'C:/Users/NEZHA/OneDrive/Documents/DVF/ValeursFoncieres-2020.txt'\n",
    "\n",
    "# 100 000 lines at a time\n",
    "chunk_size = 100000\n",
    "\n",
    "# List to stock and manage the chunks\n",
    "df_paris_filtered = []\n",
    "\n",
    "# we read it by chunks (with low memory to avoid advertissement)\n",
    "chunks = pd.read_csv(file_path, delimiter='|', encoding='utf-8', chunksize=chunk_size, low_memory=False)\n",
    "\n",
    "# we filter and add the filtered chunks\n",
    "for chunk in chunks:\n",
    "    # Filtering for center of Paris's agglomeration, Paris intra-muros (postal codes between 75000 and 75020) in the dataFrame\n",
    "    df_paris_chunk = chunk[chunk['Code postal'].between(75000, 75020)]\n",
    "    \n",
    "    # we add the filtered chunk in the list\n",
    "    df_paris_filtered.append(df_paris_chunk)\n",
    "\n",
    "# we combine all chunks in only one DataFrame\n",
    "df_paris = pd.concat(df_paris_filtered)\n",
    "\n",
    "# checking of the first lines\n",
    "print(df_paris.head())\n",
    "\n",
    "# we display every columns\n",
    "pd.set_option('display.max_columns', None)\n"
   ]
  },
  {
   "cell_type": "code",
   "execution_count": 11,
   "id": "e639dafb-18a3-487b-978a-1d0aaad93d5a",
   "metadata": {},
   "outputs": [
    {
     "name": "stderr",
     "output_type": "stream",
     "text": [
      "C:\\Users\\NEZHA\\AppData\\Local\\Temp\\ipykernel_12020\\1340076633.py:21: UserWarning: Parsing dates in %d/%m/%Y format when dayfirst=False (the default) was specified. Pass `dayfirst=True` or specify a format to silence this warning.\n",
      "  df_paris_chunk['Date mutation'] = pd.to_datetime(df_paris_chunk['Date mutation'], errors='coerce')\n",
      "C:\\Users\\NEZHA\\AppData\\Local\\Temp\\ipykernel_12020\\1340076633.py:21: SettingWithCopyWarning: \n",
      "A value is trying to be set on a copy of a slice from a DataFrame.\n",
      "Try using .loc[row_indexer,col_indexer] = value instead\n",
      "\n",
      "See the caveats in the documentation: https://pandas.pydata.org/pandas-docs/stable/user_guide/indexing.html#returning-a-view-versus-a-copy\n",
      "  df_paris_chunk['Date mutation'] = pd.to_datetime(df_paris_chunk['Date mutation'], errors='coerce')\n",
      "C:\\Users\\NEZHA\\AppData\\Local\\Temp\\ipykernel_12020\\1340076633.py:24: SettingWithCopyWarning: \n",
      "A value is trying to be set on a copy of a slice from a DataFrame.\n",
      "Try using .loc[row_indexer,col_indexer] = value instead\n",
      "\n",
      "See the caveats in the documentation: https://pandas.pydata.org/pandas-docs/stable/user_guide/indexing.html#returning-a-view-versus-a-copy\n",
      "  df_paris_chunk['Année'] = df_paris_chunk['Date mutation'].dt.year\n",
      "C:\\Users\\NEZHA\\AppData\\Local\\Temp\\ipykernel_12020\\1340076633.py:21: SettingWithCopyWarning: \n",
      "A value is trying to be set on a copy of a slice from a DataFrame.\n",
      "Try using .loc[row_indexer,col_indexer] = value instead\n",
      "\n",
      "See the caveats in the documentation: https://pandas.pydata.org/pandas-docs/stable/user_guide/indexing.html#returning-a-view-versus-a-copy\n",
      "  df_paris_chunk['Date mutation'] = pd.to_datetime(df_paris_chunk['Date mutation'], errors='coerce')\n",
      "C:\\Users\\NEZHA\\AppData\\Local\\Temp\\ipykernel_12020\\1340076633.py:24: SettingWithCopyWarning: \n",
      "A value is trying to be set on a copy of a slice from a DataFrame.\n",
      "Try using .loc[row_indexer,col_indexer] = value instead\n",
      "\n",
      "See the caveats in the documentation: https://pandas.pydata.org/pandas-docs/stable/user_guide/indexing.html#returning-a-view-versus-a-copy\n",
      "  df_paris_chunk['Année'] = df_paris_chunk['Date mutation'].dt.year\n",
      "C:\\Users\\NEZHA\\AppData\\Local\\Temp\\ipykernel_12020\\1340076633.py:21: UserWarning: Parsing dates in %d/%m/%Y format when dayfirst=False (the default) was specified. Pass `dayfirst=True` or specify a format to silence this warning.\n",
      "  df_paris_chunk['Date mutation'] = pd.to_datetime(df_paris_chunk['Date mutation'], errors='coerce')\n",
      "C:\\Users\\NEZHA\\AppData\\Local\\Temp\\ipykernel_12020\\1340076633.py:21: SettingWithCopyWarning: \n",
      "A value is trying to be set on a copy of a slice from a DataFrame.\n",
      "Try using .loc[row_indexer,col_indexer] = value instead\n",
      "\n",
      "See the caveats in the documentation: https://pandas.pydata.org/pandas-docs/stable/user_guide/indexing.html#returning-a-view-versus-a-copy\n",
      "  df_paris_chunk['Date mutation'] = pd.to_datetime(df_paris_chunk['Date mutation'], errors='coerce')\n",
      "C:\\Users\\NEZHA\\AppData\\Local\\Temp\\ipykernel_12020\\1340076633.py:24: SettingWithCopyWarning: \n",
      "A value is trying to be set on a copy of a slice from a DataFrame.\n",
      "Try using .loc[row_indexer,col_indexer] = value instead\n",
      "\n",
      "See the caveats in the documentation: https://pandas.pydata.org/pandas-docs/stable/user_guide/indexing.html#returning-a-view-versus-a-copy\n",
      "  df_paris_chunk['Année'] = df_paris_chunk['Date mutation'].dt.year\n",
      "C:\\Users\\NEZHA\\AppData\\Local\\Temp\\ipykernel_12020\\1340076633.py:30: FutureWarning: The behavior of DataFrame concatenation with empty or all-NA entries is deprecated. In a future version, this will no longer exclude empty or all-NA columns when determining the result dtypes. To retain the old behavior, exclude the relevant entries before the concat operation.\n",
      "  df_paris = pd.concat(df_paris_filtered)\n"
     ]
    },
    {
     "name": "stdout",
     "output_type": "stream",
     "text": [
      "        Date mutation   Année\n",
      "3250492    2020-01-17  2020.0\n",
      "3250511    2020-01-22  2020.0\n",
      "3250554    2020-01-20  2020.0\n",
      "3250861    2020-01-30  2020.0\n",
      "3250955    2020-01-28  2020.0\n"
     ]
    }
   ],
   "source": [
    "import pandas as pd\n",
    "\n",
    "# Chemin du fichier\n",
    "file_path2 = 'C:/Users/NEZHA/OneDrive/Documents/DVF/ValeursFoncieres-2020.txt'\n",
    "\n",
    "# we limit at 100000\n",
    "chunk_size = 100000\n",
    "\n",
    "# List to treat chunks\n",
    "df_paris_filtered = []\n",
    "\n",
    "# read by chunks\n",
    "chunks = pd.read_csv(file_path2, delimiter='|', encoding='utf-8', chunksize=chunk_size, low_memory=False)\n",
    "\n",
    "# we filter, then convert the chunks treated\n",
    "for chunk in chunks:\n",
    "    # Filtering for center of Paris's agglomeration, Paris intra-muros (postal codes between 75000 and 75020)\n",
    "    df_paris_chunk = chunk[chunk['Code postal'].between(75000, 75020)]\n",
    "\n",
    "    # we convert the column 'Date mutation' in datetime\n",
    "    df_paris_chunk['Date mutation'] = pd.to_datetime(df_paris_chunk['Date mutation'], errors='coerce')\n",
    "\n",
    "    # Extraction after conversion\n",
    "    df_paris_chunk['Année'] = df_paris_chunk['Date mutation'].dt.year\n",
    "\n",
    "    # then we add the chunk treated\n",
    "    df_paris_filtered.append(df_paris_chunk)\n",
    "\n",
    "# we combine all chunks in one DataFrame\n",
    "df_paris = pd.concat(df_paris_filtered)\n",
    "\n",
    "# we check\n",
    "print(df_paris[['Date mutation', 'Année']].head())"
   ]
  },
  {
   "cell_type": "code",
   "execution_count": 12,
   "id": "6f9094ec-2740-4d18-aa91-5d77d2bcd6ee",
   "metadata": {},
   "outputs": [
    {
     "name": "stdout",
     "output_type": "stream",
     "text": [
      "float64\n",
      "         Valeur fonciere\n",
      "3250492        3400000.0\n",
      "3250511         908200.0\n",
      "3250554         600000.0\n",
      "3250861         509900.0\n",
      "3250955         775125.0\n"
     ]
    }
   ],
   "source": [
    "# We create a copy of df_paris to avoid the view and work directly on the copy\n",
    "df_paris_copy = df_paris.copy()\n",
    "\n",
    "# We replace commas by points in the column 'Valeur fonciere' of the dataFrame\n",
    "df_paris_copy['Valeur fonciere'] = df_paris_copy['Valeur fonciere'].replace({',': '.'}, regex=True)\n",
    "\n",
    "# We convert 'Valeur fonciere' column to numeric, forcing errors to NaN\n",
    "df_paris_copy['Valeur fonciere'] = pd.to_numeric(df_paris_copy['Valeur fonciere'], errors='coerce')\n",
    "\n",
    "# we verify the type to check if it worked\n",
    "print(df_paris_copy['Valeur fonciere'].dtype)  # it must display 'float64'\n",
    "\n",
    "# We check the first lines\n",
    "print(df_paris_copy[['Valeur fonciere']].head())\n"
   ]
  },
  {
   "cell_type": "markdown",
   "id": "18e0dba8-1dac-48e7-abaf-012cfa71c955",
   "metadata": {},
   "source": [
    "Little manipulation to see the some outliers"
   ]
  },
  {
   "cell_type": "code",
   "execution_count": 13,
   "id": "c02c4f5e-801d-43bc-af45-30899f3e0a1e",
   "metadata": {},
   "outputs": [
    {
     "name": "stdout",
     "output_type": "stream",
     "text": [
      "         Valeur fonciere\n",
      "3250492        3400000.0\n",
      "3253366        1205000.0\n",
      "3257166        1097850.0\n",
      "3257167        1097850.0\n",
      "3467430        2350000.0\n"
     ]
    }
   ],
   "source": [
    "# we filter transaction that are superior to 1 000 000\n",
    "high_value_transactions = df_paris_copy[df_paris_copy['Valeur fonciere'] > 1000000]\n",
    "\n",
    "# we display the first lines\n",
    "print(high_value_transactions[['Valeur fonciere']].head())"
   ]
  },
  {
   "cell_type": "code",
   "execution_count": 14,
   "id": "699b007c-fdb1-46ac-a1d4-d284525b60f3",
   "metadata": {},
   "outputs": [
    {
     "name": "stdout",
     "output_type": "stream",
     "text": [
      "Année\n",
      "2020.0    10679.781409\n",
      "Name: Prix_m2, dtype: float64\n"
     ]
    }
   ],
   "source": [
    "# We check if the 'surface réelle bati' is present and valid\n",
    "df_paris_copy['Prix_m2'] = df_paris_copy['Valeur fonciere'] / df_paris_copy['Surface reelle bati']\n",
    "\n",
    "# We filter for values of price per m² reasonable, we don't use quantiles because otherwise ou computer bugs, but it would be the best idea... \n",
    "df_paris_filtered_m2 = df_paris_copy[df_paris_copy['Prix_m2'] < 30000]  \n",
    "\n",
    "# After filtering, we calcul again\n",
    "prix_moyen_par_annee_m2 = df_paris_filtered_m2.groupby('Année')['Prix_m2'].mean()\n",
    "\n",
    "# We display\n",
    "print(prix_moyen_par_annee_m2)\n"
   ]
  }
 ],
 "metadata": {
  "kernelspec": {
   "display_name": "Python 3 (ipykernel)",
   "language": "python",
   "name": "python3"
  },
  "language_info": {
   "codemirror_mode": {
    "name": "ipython",
    "version": 3
   },
   "file_extension": ".py",
   "mimetype": "text/x-python",
   "name": "python",
   "nbconvert_exporter": "python",
   "pygments_lexer": "ipython3",
   "version": "3.12.7"
  }
 },
 "nbformat": 4,
 "nbformat_minor": 5
}
