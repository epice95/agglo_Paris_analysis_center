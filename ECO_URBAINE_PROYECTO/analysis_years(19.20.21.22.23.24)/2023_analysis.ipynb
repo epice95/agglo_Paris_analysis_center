{
 "cells": [
  {
   "cell_type": "markdown",
   "id": "59fdad3e-3f74-485a-a8a1-8e6210f0a7f7",
   "metadata": {},
   "source": [
    "### Analysis of 2023 (entire year available in the official website of data.gouv.fr)"
   ]
  },
  {
   "cell_type": "markdown",
   "id": "cbf4e372-04f8-4072-a436-d9d3be07fc70",
   "metadata": {},
   "source": [
    "We import the file, then we check by 'chunk' (to not work too much the machine) the first lines in purpose to ensure validity"
   ]
  },
  {
   "cell_type": "code",
   "execution_count": 13,
   "id": "303a4b96-05fa-4d43-ba72-9904aaccf5b1",
   "metadata": {},
   "outputs": [
    {
     "name": "stdout",
     "output_type": "stream",
     "text": [
      "  Date mutation Valeur fonciere  Code postal              Commune  \\\n",
      "0    05/01/2023      1070000,00       1630.0     ST-GENIS-POUILLY   \n",
      "1    05/01/2023      1070000,00       1630.0     ST-GENIS-POUILLY   \n",
      "2    05/01/2023      1070000,00       1630.0     ST-GENIS-POUILLY   \n",
      "3    03/01/2023       152200,00       1450.0    SERRIERES-SUR-AIN   \n",
      "4    05/01/2023       269000,00       1800.0  SAINT-JEAN-DE-NIOST   \n",
      "\n",
      "  Surface Carrez du 1er lot  Nombre de lots   Type local  Surface reelle bati  \n",
      "0                       NaN               1   Dépendance                  0.0  \n",
      "1                       NaN               1  Appartement                233.0  \n",
      "2                       NaN               1   Dépendance                  0.0  \n",
      "3                       NaN               0       Maison                 64.0  \n",
      "4                       NaN               0       Maison                 73.0  \n"
     ]
    }
   ],
   "source": [
    "import pandas as pd\n",
    "\n",
    "# path of the file (adjust it according to your computer)\n",
    "file_path = 'C:/Users/NEZHA/OneDrive/Documents/DVF/ValeursFoncieres-2023.txt'\n",
    "\n",
    "# Columns that we conserve to our little check, we will display their first lines \n",
    "cols_to_keep = ['Date mutation', 'Valeur fonciere', 'Code postal', 'Commune', \n",
    "                'Surface Carrez du 1er lot', 'Nombre de lots', 'Type local', 'Surface reelle bati']\n",
    "\n",
    "# 100 000 lines at a time\n",
    "chunksize = 100000\n",
    "chunks = pd.read_csv(file_path, delimiter='|', encoding='utf-8', chunksize=chunksize, usecols=cols_to_keep, low_memory=False)\n",
    "\n",
    "# We display five lines to check if the importation is valid\n",
    "for chunk in chunks:\n",
    "    print(chunk.head())\n",
    "    break  # We stop after the first chunk... that's enough"
   ]
  },
  {
   "cell_type": "markdown",
   "id": "931664ac-4036-41cb-9283-631454514792",
   "metadata": {},
   "source": [
    "it works perfectly ! let's keep going... Now we filter and keep the data which corresponds to the postal codes for the center of Paris metropolitan area (we consider that the center is Paris intra-muros), and we check the first lines..."
   ]
  },
  {
   "cell_type": "code",
   "execution_count": 14,
   "id": "64cbee33-71a9-44d4-b679-2f43fac174a8",
   "metadata": {},
   "outputs": [
    {
     "name": "stdout",
     "output_type": "stream",
     "text": [
      "         Identifiant de document  Reference document  1 Articles CGI  \\\n",
      "3507403                      NaN                 NaN             NaN   \n",
      "3507404                      NaN                 NaN             NaN   \n",
      "3507462                      NaN                 NaN             NaN   \n",
      "3509871                      NaN                 NaN             NaN   \n",
      "3511591                      NaN                 NaN             NaN   \n",
      "\n",
      "         2 Articles CGI  3 Articles CGI  4 Articles CGI  5 Articles CGI  \\\n",
      "3507403             NaN             NaN             NaN             NaN   \n",
      "3507404             NaN             NaN             NaN             NaN   \n",
      "3507462             NaN             NaN             NaN             NaN   \n",
      "3509871             NaN             NaN             NaN             NaN   \n",
      "3511591             NaN             NaN             NaN             NaN   \n",
      "\n",
      "         No disposition Date mutation Nature mutation Valeur fonciere  \\\n",
      "3507403               1    13/01/2023           Vente       250000,00   \n",
      "3507404               1    13/01/2023           Vente       250000,00   \n",
      "3507462               1    18/01/2023           Vente        22000,00   \n",
      "3509871               1    02/02/2023           Vente        27000,00   \n",
      "3511591               1    01/03/2023           Vente       339550,00   \n",
      "\n",
      "         No voie B/T/Q Type de voie Code voie                 Voie  \\\n",
      "3507403     10.0   NaN          RUE      6195  D ORADOUR SUR GLANE   \n",
      "3507404      2.0   NaN          RUE      6195  D ORADOUR SUR GLANE   \n",
      "3507462      2.0   NaN          RUE      6195  D ORADOUR SUR GLANE   \n",
      "3509871     35.0   NaN           AV      3520    FERDINAND BUISSON   \n",
      "3511591     26.0   NaN          RUE      6660    NUNGESSER ET COLI   \n",
      "\n",
      "         Code postal               Commune Code departement  Code commune  \\\n",
      "3507403      75015.0   ISSY-LES-MOULINEAUX               92            40   \n",
      "3507404      75015.0   ISSY-LES-MOULINEAUX               92            40   \n",
      "3507462      75015.0   ISSY-LES-MOULINEAUX               92            40   \n",
      "3509871      75016.0  BOULOGNE-BILLANCOURT               92            12   \n",
      "3511591      75016.0  BOULOGNE-BILLANCOURT               92            12   \n",
      "\n",
      "         Prefixe de section Section  No plan  No Volume 1er lot  \\\n",
      "3507403                 NaN      AB      161        NaN     178   \n",
      "3507404                 NaN      AB      161        NaN     392   \n",
      "3507462                 NaN      AB      161        NaN     296   \n",
      "3509871                 NaN      AS       81        NaN      81   \n",
      "3511591                 NaN       U       47        NaN      52   \n",
      "\n",
      "        Surface Carrez du 1er lot 2eme lot Surface Carrez du 2eme lot  \\\n",
      "3507403                     27,53      NaN                        NaN   \n",
      "3507404                       NaN      NaN                        NaN   \n",
      "3507462                       NaN      NaN                        NaN   \n",
      "3509871                       NaN      NaN                        NaN   \n",
      "3511591                     29,53       53                        NaN   \n",
      "\n",
      "         3eme lot Surface Carrez du 3eme lot  4eme lot  \\\n",
      "3507403       NaN                        NaN       NaN   \n",
      "3507404       NaN                        NaN       NaN   \n",
      "3507462       NaN                        NaN       NaN   \n",
      "3509871       NaN                        NaN       NaN   \n",
      "3511591       NaN                        NaN       NaN   \n",
      "\n",
      "        Surface Carrez du 4eme lot  5eme lot Surface Carrez du 5eme lot  \\\n",
      "3507403                        NaN       NaN                        NaN   \n",
      "3507404                        NaN       NaN                        NaN   \n",
      "3507462                        NaN       NaN                        NaN   \n",
      "3509871                        NaN       NaN                        NaN   \n",
      "3511591                        NaN       NaN                        NaN   \n",
      "\n",
      "         Nombre de lots  Code type local   Type local  Identifiant local  \\\n",
      "3507403               1              2.0  Appartement                NaN   \n",
      "3507404               1              3.0   Dépendance                NaN   \n",
      "3507462               1              3.0   Dépendance                NaN   \n",
      "3509871               1              3.0   Dépendance                NaN   \n",
      "3511591               2              2.0  Appartement                NaN   \n",
      "\n",
      "         Surface reelle bati  Nombre pieces principales Nature culture  \\\n",
      "3507403                 28.0                        1.0            NaN   \n",
      "3507404                  0.0                        0.0            NaN   \n",
      "3507462                  0.0                        0.0            NaN   \n",
      "3509871                  0.0                        0.0            NaN   \n",
      "3511591                 29.0                        1.0            NaN   \n",
      "\n",
      "        Nature culture speciale  Surface terrain  \n",
      "3507403                     NaN              NaN  \n",
      "3507404                     NaN              NaN  \n",
      "3507462                     NaN              NaN  \n",
      "3509871                     NaN              NaN  \n",
      "3511591                     NaN              NaN  \n"
     ]
    },
    {
     "name": "stderr",
     "output_type": "stream",
     "text": [
      "C:\\Users\\NEZHA\\AppData\\Local\\Temp\\ipykernel_7116\\3761131506.py:24: FutureWarning: The behavior of DataFrame concatenation with empty or all-NA entries is deprecated. In a future version, this will no longer exclude empty or all-NA columns when determining the result dtypes. To retain the old behavior, exclude the relevant entries before the concat operation.\n",
      "  df_paris = pd.concat(df_paris_filtered)\n"
     ]
    }
   ],
   "source": [
    "import pandas as pd\n",
    "\n",
    "# path (adjust it according to your computer)\n",
    "file_path = 'C:/Users/NEZHA/OneDrive/Documents/DVF/ValeursFoncieres-2023.txt'\n",
    "\n",
    "# 100 000 lines at a time\n",
    "chunk_size = 100000\n",
    "\n",
    "# List to stock and manage the chunks\n",
    "df_paris_filtered = []\n",
    "\n",
    "# we read it by chunks (with low memory to avoid advertissement)\n",
    "chunks = pd.read_csv(file_path, delimiter='|', encoding='utf-8', chunksize=chunk_size, low_memory=False)\n",
    "\n",
    "# we filter and add the filtered chunks\n",
    "for chunk in chunks:\n",
    "    # Filtering for center of Paris's agglomeration, Paris intra-muros (postal codes between 75000 and 75020) in the dataFrame\n",
    "    df_paris_chunk = chunk[chunk['Code postal'].between(75000, 75020)]\n",
    "    \n",
    "    # we add the filtered chunk in the list\n",
    "    df_paris_filtered.append(df_paris_chunk)\n",
    "\n",
    "# we combine all chunks in only one DataFrame\n",
    "df_paris = pd.concat(df_paris_filtered)\n",
    "\n",
    "# checking of the first lines\n",
    "print(df_paris.head())\n",
    "\n",
    "# we display every columns\n",
    "pd.set_option('display.max_columns', None)\n"
   ]
  },
  {
   "cell_type": "markdown",
   "id": "c0635c36-d96c-41a3-a4ac-412904322875",
   "metadata": {},
   "source": [
    "we create a column year to treat the data well"
   ]
  },
  {
   "cell_type": "code",
   "execution_count": 15,
   "id": "78f19ffa-2841-45c9-a445-ecc2461b7690",
   "metadata": {},
   "outputs": [
    {
     "name": "stderr",
     "output_type": "stream",
     "text": [
      "C:\\Users\\NEZHA\\AppData\\Local\\Temp\\ipykernel_7116\\2758603801.py:21: UserWarning: Parsing dates in %d/%m/%Y format when dayfirst=False (the default) was specified. Pass `dayfirst=True` or specify a format to silence this warning.\n",
      "  df_paris_chunk['Date mutation'] = pd.to_datetime(df_paris_chunk['Date mutation'], errors='coerce')\n",
      "C:\\Users\\NEZHA\\AppData\\Local\\Temp\\ipykernel_7116\\2758603801.py:21: SettingWithCopyWarning: \n",
      "A value is trying to be set on a copy of a slice from a DataFrame.\n",
      "Try using .loc[row_indexer,col_indexer] = value instead\n",
      "\n",
      "See the caveats in the documentation: https://pandas.pydata.org/pandas-docs/stable/user_guide/indexing.html#returning-a-view-versus-a-copy\n",
      "  df_paris_chunk['Date mutation'] = pd.to_datetime(df_paris_chunk['Date mutation'], errors='coerce')\n",
      "C:\\Users\\NEZHA\\AppData\\Local\\Temp\\ipykernel_7116\\2758603801.py:24: SettingWithCopyWarning: \n",
      "A value is trying to be set on a copy of a slice from a DataFrame.\n",
      "Try using .loc[row_indexer,col_indexer] = value instead\n",
      "\n",
      "See the caveats in the documentation: https://pandas.pydata.org/pandas-docs/stable/user_guide/indexing.html#returning-a-view-versus-a-copy\n",
      "  df_paris_chunk['Année'] = df_paris_chunk['Date mutation'].dt.year\n"
     ]
    },
    {
     "name": "stdout",
     "output_type": "stream",
     "text": [
      "        Date mutation   Année\n",
      "3507403    2023-01-13  2023.0\n",
      "3507404    2023-01-13  2023.0\n",
      "3507462    2023-01-18  2023.0\n",
      "3509871    2023-02-02  2023.0\n",
      "3511591    2023-03-01  2023.0\n"
     ]
    },
    {
     "name": "stderr",
     "output_type": "stream",
     "text": [
      "C:\\Users\\NEZHA\\AppData\\Local\\Temp\\ipykernel_7116\\2758603801.py:21: SettingWithCopyWarning: \n",
      "A value is trying to be set on a copy of a slice from a DataFrame.\n",
      "Try using .loc[row_indexer,col_indexer] = value instead\n",
      "\n",
      "See the caveats in the documentation: https://pandas.pydata.org/pandas-docs/stable/user_guide/indexing.html#returning-a-view-versus-a-copy\n",
      "  df_paris_chunk['Date mutation'] = pd.to_datetime(df_paris_chunk['Date mutation'], errors='coerce')\n",
      "C:\\Users\\NEZHA\\AppData\\Local\\Temp\\ipykernel_7116\\2758603801.py:24: SettingWithCopyWarning: \n",
      "A value is trying to be set on a copy of a slice from a DataFrame.\n",
      "Try using .loc[row_indexer,col_indexer] = value instead\n",
      "\n",
      "See the caveats in the documentation: https://pandas.pydata.org/pandas-docs/stable/user_guide/indexing.html#returning-a-view-versus-a-copy\n",
      "  df_paris_chunk['Année'] = df_paris_chunk['Date mutation'].dt.year\n",
      "C:\\Users\\NEZHA\\AppData\\Local\\Temp\\ipykernel_7116\\2758603801.py:30: FutureWarning: The behavior of DataFrame concatenation with empty or all-NA entries is deprecated. In a future version, this will no longer exclude empty or all-NA columns when determining the result dtypes. To retain the old behavior, exclude the relevant entries before the concat operation.\n",
      "  df_paris = pd.concat(df_paris_filtered)\n"
     ]
    }
   ],
   "source": [
    "import pandas as pd\n",
    "\n",
    "# Chemin du fichier\n",
    "file_path2 = 'C:/Users/NEZHA/OneDrive/Documents/DVF/ValeursFoncieres-2023.txt'\n",
    "\n",
    "# we limit at 100000\n",
    "chunk_size = 100000\n",
    "\n",
    "# List to treat chunks\n",
    "df_paris_filtered = []\n",
    "\n",
    "# read by chunks\n",
    "chunks = pd.read_csv(file_path2, delimiter='|', encoding='utf-8', chunksize=chunk_size, low_memory=False)\n",
    "\n",
    "# we filter, then convert the chunks treated\n",
    "for chunk in chunks:\n",
    "    # Filtering for center of Paris's agglomeration, Paris intra-muros (postal codes between 75000 and 75020)\n",
    "    df_paris_chunk = chunk[chunk['Code postal'].between(75000, 75020)]\n",
    "\n",
    "    # we convert the column 'Date mutation' in datetime\n",
    "    df_paris_chunk['Date mutation'] = pd.to_datetime(df_paris_chunk['Date mutation'], errors='coerce')\n",
    "\n",
    "    # Extraction after conversion\n",
    "    df_paris_chunk['Année'] = df_paris_chunk['Date mutation'].dt.year\n",
    "\n",
    "    # then we add the chunk treated\n",
    "    df_paris_filtered.append(df_paris_chunk)\n",
    "\n",
    "# we combine all chunks in one DataFrame\n",
    "df_paris = pd.concat(df_paris_filtered)\n",
    "\n",
    "# we check\n",
    "print(df_paris[['Date mutation', 'Année']].head())"
   ]
  },
  {
   "cell_type": "code",
   "execution_count": 16,
   "id": "d7eb309f-4477-4eca-bc73-2e4344505c9b",
   "metadata": {},
   "outputs": [
    {
     "name": "stdout",
     "output_type": "stream",
     "text": [
      "float64\n",
      "         Valeur fonciere\n",
      "3507403         250000.0\n",
      "3507404         250000.0\n",
      "3507462          22000.0\n",
      "3509871          27000.0\n",
      "3511591         339550.0\n"
     ]
    }
   ],
   "source": [
    "# We create a copy of df_paris to avoid the view and work directly on the copy\n",
    "df_paris_copy = df_paris.copy()\n",
    "\n",
    "# We replace commas by points in the column 'Valeur fonciere' of the dataFrame\n",
    "df_paris_copy['Valeur fonciere'] = df_paris_copy['Valeur fonciere'].replace({',': '.'}, regex=True)\n",
    "\n",
    "# We convert 'Valeur fonciere' column to numeric, forcing errors to NaN\n",
    "df_paris_copy['Valeur fonciere'] = pd.to_numeric(df_paris_copy['Valeur fonciere'], errors='coerce')\n",
    "\n",
    "# we verify the type to check if it worked\n",
    "print(df_paris_copy['Valeur fonciere'].dtype)  # it must display 'float64'\n",
    "\n",
    "# We check the first lines\n",
    "print(df_paris_copy[['Valeur fonciere']].head())"
   ]
  },
  {
   "cell_type": "markdown",
   "id": "2b216130-da66-4ae5-987d-75520c3148ef",
   "metadata": {},
   "source": [
    "Little manipulation to see the some outliers"
   ]
  },
  {
   "cell_type": "code",
   "execution_count": 17,
   "id": "916c3d02-d5a4-4659-94a2-5bd352cc6fec",
   "metadata": {},
   "outputs": [
    {
     "name": "stdout",
     "output_type": "stream",
     "text": [
      "         Valeur fonciere\n",
      "3524340        2329600.0\n",
      "3524341        2329600.0\n",
      "3524342        2329600.0\n",
      "3524343        2329600.0\n",
      "3529290        1343700.0\n"
     ]
    }
   ],
   "source": [
    "# we filter transaction that are superior to 1 000 000\n",
    "high_value_transactions = df_paris_copy[df_paris_copy['Valeur fonciere'] > 1000000]\n",
    "\n",
    "# we display the first lines\n",
    "print(high_value_transactions[['Valeur fonciere']].head())"
   ]
  },
  {
   "cell_type": "code",
   "execution_count": 18,
   "id": "3dbd4ca9-8d00-4f1e-860b-949a3bdee2a1",
   "metadata": {},
   "outputs": [
    {
     "name": "stdout",
     "output_type": "stream",
     "text": [
      "Année\n",
      "2023.0    10413.308109\n",
      "Name: Prix_m2, dtype: float64\n"
     ]
    }
   ],
   "source": [
    "# We check if the 'surface réelle bati' is present and valid\n",
    "df_paris_copy['Prix_m2'] = df_paris_copy['Valeur fonciere'] / df_paris_copy['Surface reelle bati']\n",
    "\n",
    "# We filter for values of price per m² reasonable, we don't use quantiles because otherwise ou computer bugs, but it would be the best idea... \n",
    "df_paris_filtered_m2 = df_paris_copy[df_paris_copy['Prix_m2'] < 30000]  \n",
    "\n",
    "# After filtering, we calcul again\n",
    "prix_moyen_par_annee_m2 = df_paris_filtered_m2.groupby('Année')['Prix_m2'].mean()\n",
    "\n",
    "# We display\n",
    "print(prix_moyen_par_annee_m2)\n"
   ]
  }
 ],
 "metadata": {
  "kernelspec": {
   "display_name": "Python 3 (ipykernel)",
   "language": "python",
   "name": "python3"
  },
  "language_info": {
   "codemirror_mode": {
    "name": "ipython",
    "version": 3
   },
   "file_extension": ".py",
   "mimetype": "text/x-python",
   "name": "python",
   "nbconvert_exporter": "python",
   "pygments_lexer": "ipython3",
   "version": "3.12.7"
  }
 },
 "nbformat": 4,
 "nbformat_minor": 5
}
