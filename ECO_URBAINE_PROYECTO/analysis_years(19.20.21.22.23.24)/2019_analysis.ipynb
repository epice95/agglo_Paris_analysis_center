{
 "cells": [
  {
   "cell_type": "markdown",
   "id": "fc446afa-eafd-4ddd-84f6-3c3a695d4768",
   "metadata": {},
   "source": [
    "### Analysis of 2019 (second semester available in the official website of data.gouv.fr)"
   ]
  },
  {
   "cell_type": "markdown",
   "id": "599b55d5-4a98-473f-86ca-3f24c4554d10",
   "metadata": {},
   "source": [
    "We import the file, then we check by 'chunk' (to not work too much the machine) the first lines in purpose to ensure validity"
   ]
  },
  {
   "cell_type": "code",
   "execution_count": 1,
   "id": "e2e0a381-bb8d-419a-ac59-826d97969f12",
   "metadata": {},
   "outputs": [
    {
     "name": "stdout",
     "output_type": "stream",
     "text": [
      "  Date mutation Valeur fonciere  Code postal               Commune  \\\n",
      "0    01/07/2019       244200,00       1000.0       BOURG-EN-BRESSE   \n",
      "1    04/07/2019       195000,00       1250.0  HAUTECOURT-ROMANECHE   \n",
      "2    04/07/2019       195000,00       1250.0  HAUTECOURT-ROMANECHE   \n",
      "3    04/07/2019       110030,00       1250.0          GRAND-CORENT   \n",
      "4    03/07/2019       160450,00       1270.0               COLIGNY   \n",
      "\n",
      "  Surface Carrez du 1er lot  Nombre de lots Type local  Surface reelle bati  \n",
      "0                       NaN               0     Maison                150.0  \n",
      "1                       NaN               0     Maison                 94.0  \n",
      "2                       NaN               0     Maison                 94.0  \n",
      "3                       NaN               0     Maison                 90.0  \n",
      "4                       NaN               0        NaN                  NaN  \n"
     ]
    }
   ],
   "source": [
    "import pandas as pd\n",
    "\n",
    "# path of the file (adjust it according to your computer)\n",
    "file_path = 'C:/Users/NEZHA/OneDrive/Documents/DVF/ValeursFoncieres-2019-S2.txt'\n",
    "\n",
    "# Columns that we conserve to our little check, we will display their first lines \n",
    "cols_to_keep = ['Date mutation', 'Valeur fonciere', 'Code postal', 'Commune', \n",
    "                'Surface Carrez du 1er lot', 'Nombre de lots', 'Type local', 'Surface reelle bati']\n",
    "\n",
    "# 100 000 lines at a time\n",
    "chunksize = 100000\n",
    "chunks = pd.read_csv(file_path, delimiter='|', encoding='utf-8', chunksize=chunksize, usecols=cols_to_keep, low_memory=False)\n",
    "\n",
    "# We display five lines to check if the importation is valid\n",
    "for chunk in chunks:\n",
    "    print(chunk.head())\n",
    "    break  # We stop after the first chunk... that's enough"
   ]
  },
  {
   "cell_type": "markdown",
   "id": "40f24e21-18d2-42fd-94d8-9b9665d512b9",
   "metadata": {},
   "source": [
    "it works perfectly ! let's keep going... Now we filter and keep the data which corresponds to the postal codes for the center of Paris metropolitan area (we consider that the center is Paris intra-muros), and we check the first lines..."
   ]
  },
  {
   "cell_type": "code",
   "execution_count": 2,
   "id": "a361b611-8825-49ed-8ee7-01bb555e092b",
   "metadata": {},
   "outputs": [
    {
     "name": "stdout",
     "output_type": "stream",
     "text": [
      "         Identifiant de document  Reference document  1 Articles CGI  \\\n",
      "1802858                      NaN                 NaN             NaN   \n",
      "1802876                      NaN                 NaN             NaN   \n",
      "1803415                      NaN                 NaN             NaN   \n",
      "1803468                      NaN                 NaN             NaN   \n",
      "1803469                      NaN                 NaN             NaN   \n",
      "\n",
      "         2 Articles CGI  3 Articles CGI  4 Articles CGI  5 Articles CGI  \\\n",
      "1802858             NaN             NaN             NaN             NaN   \n",
      "1802876             NaN             NaN             NaN             NaN   \n",
      "1803415             NaN             NaN             NaN             NaN   \n",
      "1803468             NaN             NaN             NaN             NaN   \n",
      "1803469             NaN             NaN             NaN             NaN   \n",
      "\n",
      "         No disposition Date mutation Nature mutation Valeur fonciere  \\\n",
      "1802858               1    19/07/2019           Vente        80000,00   \n",
      "1802876               1    29/07/2019           Vente       709850,00   \n",
      "1803415               1    26/07/2019           Vente       295000,00   \n",
      "1803468               1    08/08/2019           Vente       375000,00   \n",
      "1803469               1    08/08/2019           Vente       375000,00   \n",
      "\n",
      "         No voie B/T/Q Type de voie Code voie               Voie  Code postal  \\\n",
      "1802858     22.0   NaN          RUE      6660  NUNGESSER ET COLI      75016.0   \n",
      "1802876      7.0   NaN           AV      3520  FERDINAND BUISSON      75016.0   \n",
      "1803415     26.0   NaN          RUE      6660  NUNGESSER ET COLI      75016.0   \n",
      "1803468     43.0   NaN           AV      3520  FERDINAND BUISSON      75016.0   \n",
      "1803469     43.0   NaN           AV      3520  FERDINAND BUISSON      75016.0   \n",
      "\n",
      "                      Commune Code departement  Code commune  \\\n",
      "1802858  BOULOGNE-BILLANCOURT               92            12   \n",
      "1802876  BOULOGNE-BILLANCOURT               92            12   \n",
      "1803415  BOULOGNE-BILLANCOURT               92            12   \n",
      "1803468  BOULOGNE-BILLANCOURT               92            12   \n",
      "1803469  BOULOGNE-BILLANCOURT               92            12   \n",
      "\n",
      "         Prefixe de section Section  No plan No Volume 1er lot  \\\n",
      "1802858                 NaN       U       45       NaN      61   \n",
      "1802876                 NaN      BO       45       NaN      20   \n",
      "1803415                 NaN       U       47       NaN      44   \n",
      "1803468                 NaN       X      106       NaN       1   \n",
      "1803469                 NaN       X      106       NaN      33   \n",
      "\n",
      "        Surface Carrez du 1er lot 2eme lot Surface Carrez du 2eme lot  \\\n",
      "1802858                      8,65      NaN                        NaN   \n",
      "1802876                     89,06      NaN                        NaN   \n",
      "1803415                     28,78       45                        NaN   \n",
      "1803468                     51,70      NaN                        NaN   \n",
      "1803469                       NaN      NaN                        NaN   \n",
      "\n",
      "        3eme lot Surface Carrez du 3eme lot  4eme lot  \\\n",
      "1802858      NaN                        NaN       NaN   \n",
      "1802876      NaN                        NaN       NaN   \n",
      "1803415      NaN                        NaN       NaN   \n",
      "1803468      NaN                        NaN       NaN   \n",
      "1803469      NaN                        NaN       NaN   \n",
      "\n",
      "        Surface Carrez du 4eme lot  5eme lot Surface Carrez du 5eme lot  \\\n",
      "1802858                        NaN       NaN                        NaN   \n",
      "1802876                        NaN       NaN                        NaN   \n",
      "1803415                        NaN       NaN                        NaN   \n",
      "1803468                        NaN       NaN                        NaN   \n",
      "1803469                        NaN       NaN                        NaN   \n",
      "\n",
      "         Nombre de lots  Code type local  \\\n",
      "1802858               1              3.0   \n",
      "1802876               1              2.0   \n",
      "1803415               2              2.0   \n",
      "1803468               1              4.0   \n",
      "1803469               1              3.0   \n",
      "\n",
      "                                       Type local  Identifiant local  \\\n",
      "1802858                                Dépendance                NaN   \n",
      "1802876                               Appartement                NaN   \n",
      "1803415                               Appartement                NaN   \n",
      "1803468  Local industriel. commercial ou assimilé                NaN   \n",
      "1803469                                Dépendance                NaN   \n",
      "\n",
      "         Surface reelle bati  Nombre pieces principales Nature culture  \\\n",
      "1802858                  0.0                        0.0            NaN   \n",
      "1802876                 89.0                        5.0            NaN   \n",
      "1803415                 27.0                        1.0            NaN   \n",
      "1803468                 51.0                        0.0            NaN   \n",
      "1803469                  0.0                        0.0            NaN   \n",
      "\n",
      "        Nature culture speciale  Surface terrain  \n",
      "1802858                     NaN              NaN  \n",
      "1802876                     NaN              NaN  \n",
      "1803415                     NaN              NaN  \n",
      "1803468                     NaN              NaN  \n",
      "1803469                     NaN              NaN  \n"
     ]
    }
   ],
   "source": [
    "import pandas as pd  # we re-import to be sure it works well ('cause sometimes it doesn't works)\n",
    "file_path = 'C:/Users/NEZHA/OneDrive/Documents/DVF/ValeursFoncieres-2019-S2.txt'\n",
    "\n",
    "# We load the CSV file into a Pandas DataFrame with a custom delimiter ('|'), then we specify the UTF-8 encoding to avoid character issues, and we disbale memory optimization to ensure correct loading of data types (even if its not that bad to let it)\n",
    "df = pd.read_csv(file_path, delimiter='|', encoding='utf-8', low_memory=False)\n",
    "\n",
    "# Filtering for center of Paris's agglomeration, Paris intra-muros (postal codes between 75000 and 75020)\n",
    "df_paris = df[df['Code postal'].between(75000, 75020)].copy()\n",
    "\n",
    "pd.set_option('display.max_columns', None) # we display all columns \n",
    "\n",
    "# little sample to check on\n",
    "df_paris_sample = df_paris.head()  # five lines\n",
    "\n",
    "# we display the sample\n",
    "print(df_paris_sample)"
   ]
  },
  {
   "cell_type": "markdown",
   "id": "bbe46e91-299e-498d-873e-5cba87b4dd5a",
   "metadata": {},
   "source": [
    "Now, we extract years of the dates to create a new column, initially we wanted to treat all files in one so it could be useful, however the files must be treat differently because of the quality of our computer, it crashs every time. So it is useless to do it, but at least to show our main idea."
   ]
  },
  {
   "cell_type": "code",
   "execution_count": 3,
   "id": "12359218-3c52-414d-ba90-652d3567aa68",
   "metadata": {},
   "outputs": [
    {
     "name": "stderr",
     "output_type": "stream",
     "text": [
      "C:\\Users\\NEZHA\\AppData\\Local\\Temp\\ipykernel_13072\\979079506.py:2: UserWarning: Parsing dates in %d/%m/%Y format when dayfirst=False (the default) was specified. Pass `dayfirst=True` or specify a format to silence this warning.\n",
      "  df_paris['Date mutation'] = pd.to_datetime(df_paris['Date mutation'], errors='coerce')\n"
     ]
    },
    {
     "name": "stdout",
     "output_type": "stream",
     "text": [
      "        Date mutation\n",
      "1802858    2019-07-19\n",
      "1802876    2019-07-29\n",
      "1803415    2019-07-26\n",
      "1803468    2019-08-08\n",
      "1803469    2019-08-08\n",
      "        Date mutation  Année\n",
      "1802858    2019-07-19   2019\n",
      "1802876    2019-07-29   2019\n",
      "1803415    2019-07-26   2019\n",
      "1803468    2019-08-08   2019\n",
      "1803469    2019-08-08   2019\n"
     ]
    }
   ],
   "source": [
    "# we convert the column 'Date mutation' of the dataFrame in the format 'date'\n",
    "df_paris['Date mutation'] = pd.to_datetime(df_paris['Date mutation'], errors='coerce')\n",
    "\n",
    "# we check \n",
    "print(df_paris[['Date mutation']].head())\n",
    "\n",
    "# Then we extract\n",
    "df_paris['Année'] = df_paris['Date mutation'].dt.year\n",
    "\n",
    "# we check/display the results\n",
    "print(df_paris[['Date mutation', 'Année']].head())\n"
   ]
  },
  {
   "cell_type": "code",
   "execution_count": 4,
   "id": "6bd7d241-c70d-48ec-962f-6023a0d16f0a",
   "metadata": {},
   "outputs": [
    {
     "name": "stdout",
     "output_type": "stream",
     "text": [
      "float64\n",
      "         Valeur fonciere\n",
      "1802858          80000.0\n",
      "1802876         709850.0\n",
      "1803415         295000.0\n",
      "1803468         375000.0\n",
      "1803469         375000.0\n"
     ]
    }
   ],
   "source": [
    "# We create a copy of df_paris to avoid the view and work directly on the copy\n",
    "df_paris_copy = df_paris.copy()\n",
    "\n",
    "# We replace commas by points in the column 'Valeur fonciere' of the dataFrame\n",
    "df_paris_copy['Valeur fonciere'] = df_paris_copy['Valeur fonciere'].replace({',': '.'}, regex=True)\n",
    "\n",
    "# We convert 'Valeur fonciere' column to numeric, forcing errors to NaN\n",
    "df_paris_copy['Valeur fonciere'] = pd.to_numeric(df_paris_copy['Valeur fonciere'], errors='coerce')\n",
    "\n",
    "# we verify the type to check if it worked\n",
    "print(df_paris_copy['Valeur fonciere'].dtype)  # it must display 'float64'\n",
    "\n",
    "# We check the first lines\n",
    "print(df_paris_copy[['Valeur fonciere']].head())\n",
    "\n"
   ]
  },
  {
   "cell_type": "markdown",
   "id": "85249d9f-f2d1-45ac-a99d-ae4558d2b0b8",
   "metadata": {},
   "source": [
    "Little manipulation to see the some outliers"
   ]
  },
  {
   "cell_type": "code",
   "execution_count": 5,
   "id": "93b805c1-cf97-4512-83b0-8b05aa83c8ac",
   "metadata": {},
   "outputs": [
    {
     "name": "stdout",
     "output_type": "stream",
     "text": [
      "         Valeur fonciere\n",
      "1806966        1136300.0\n",
      "1806967        1136300.0\n",
      "1929690        1460000.0\n",
      "1929691        1460000.0\n",
      "1929696        4055789.0\n"
     ]
    }
   ],
   "source": [
    "# Filtrer les transactions dont la valeur foncière est plus élevée que 1 million\n",
    "high_value_transactions = df_paris_copy[df_paris_copy['Valeur fonciere'] > 1000000]\n",
    "\n",
    "# Afficher les premières lignes des transactions avec des valeurs élevées\n",
    "print(high_value_transactions[['Valeur fonciere']].head())\n"
   ]
  },
  {
   "cell_type": "markdown",
   "id": "4b2040c3-bf78-4467-8832-b90555adfec1",
   "metadata": {},
   "source": [
    "To take a good look on the outliers and their danger on the results, here is a graphic..."
   ]
  },
  {
   "cell_type": "code",
   "execution_count": 12,
   "id": "9eae8153-daf1-4e27-9f91-a7e3bdc054bb",
   "metadata": {},
   "outputs": [
    {
     "data": {
      "image/png": "[encoded data removed]",
      "text/plain": [
       "<Figure size 1000x500 with 1 Axes>"
      ]
     },
     "metadata": {},
     "output_type": "display_data"
    }
   ],
   "source": [
    "import matplotlib.ticker as ticker\n",
    "\n",
    "# Création du graphique en barres avec l'axe X en millions d'euros\n",
    "plt.figure(figsize=(10, 5))\n",
    "plt.bar(edges[:-1], counts, width=900000, align='edge', color='blue')\n",
    "\n",
    "# Ajouter des labels et un titre\n",
    "plt.xlabel(\"Valeur foncière (€)\")\n",
    "plt.ylabel(\"Nombre de transactions\")\n",
    "plt.title(\"Transactions foncières supérieures à 1 million d'euros\")\n",
    "\n",
    "# Modifier l'affichage de l'axe X pour afficher les valeurs en millions\n",
    "plt.gca().xaxis.set_major_formatter(ticker.FuncFormatter(lambda x, _: f'{x/1e6:.0f}M'))\n",
    "\n",
    "# Afficher le graphique\n",
    "plt.show()\n",
    "\n"
   ]
  },
  {
   "cell_type": "code",
   "execution_count": 22,
   "id": "3bd6bfbb-e4be-43b3-9fc5-79124e4f3fe7",
   "metadata": {},
   "outputs": [
    {
     "name": "stdout",
     "output_type": "stream",
     "text": [
      "Année\n",
      "2019    10224.400024\n",
      "Name: Prix_m2, dtype: float64\n"
     ]
    }
   ],
   "source": [
    "# We check if the 'surface réelle bati' is present and valid\n",
    "df_paris_copy['Prix_m2'] = df_paris_copy['Valeur fonciere'] / df_paris_copy['Surface reelle bati']\n",
    "\n",
    "# We filter for values of price per m² reasonable, we don't use quantiles because otherwise ou computer bugs, but it would be the best idea... \n",
    "df_paris_filtered_m2 = df_paris_copy[df_paris_copy['Prix_m2'] < 30000]  # seuil de 30000\n",
    "\n",
    "# After filtering, we calcul again\n",
    "prix_moyen_par_annee_m2 = df_paris_filtered_m2.groupby('Année')['Prix_m2'].mean()\n",
    "\n",
    "# We display\n",
    "print(prix_moyen_par_annee_m2)"
   ]
  }
 ],
 "metadata": {
  "kernelspec": {
   "display_name": "Python 3 (ipykernel)",
   "language": "python",
   "name": "python3"
  },
  "language_info": {
   "codemirror_mode": {
    "name": "ipython",
    "version": 3
   },
   "file_extension": ".py",
   "mimetype": "text/x-python",
   "name": "python",
   "nbconvert_exporter": "python",
   "pygments_lexer": "ipython3",
   "version": "3.12.7"
  }
 },
 "nbformat": 4,
 "nbformat_minor": 5
}
