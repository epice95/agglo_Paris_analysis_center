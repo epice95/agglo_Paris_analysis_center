{
 "cells": [
  {
   "cell_type": "markdown",
   "id": "822237e6-5180-447f-9cf3-0f6fbfcc578e",
   "metadata": {},
   "source": [
    "### Analysis of 2024 (first semester available in the official website of data.gouv.fr)"
   ]
  },
  {
   "cell_type": "markdown",
   "id": "dbcae2cd-e3d2-41f2-8e89-fe78f8fae3d5",
   "metadata": {},
   "source": [
    "We import the file, then we check by 'chunk' (to not work too much the machine) the first lines in purpose to ensure validity"
   ]
  },
  {
   "cell_type": "code",
   "execution_count": 1,
   "id": "143e608e-b02f-4b23-9757-ff18a9d5641e",
   "metadata": {},
   "outputs": [
    {
     "name": "stdout",
     "output_type": "stream",
     "text": [
      "  Date mutation Valeur fonciere  Code postal Commune  \\\n",
      "0    02/01/2024          346,50       1230.0  CHALEY   \n",
      "1    03/01/2024        10000,00       1170.0  CHEVRY   \n",
      "2    08/01/2024       249000,00       1290.0    LAIZ   \n",
      "3    03/01/2024       329500,00       1170.0     GEX   \n",
      "4    03/01/2024       329500,00       1170.0     GEX   \n",
      "\n",
      "  Surface Carrez du 1er lot  Nombre de lots  Type local  Surface reelle bati  \n",
      "0                       NaN               0         NaN                  NaN  \n",
      "1                       NaN               0         NaN                  NaN  \n",
      "2                       NaN               0         NaN                  NaN  \n",
      "3                       NaN               2  Dépendance                  0.0  \n",
      "4                       NaN               2  Dépendance                  0.0  \n"
     ]
    }
   ],
   "source": [
    "import pandas as pd\n",
    "\n",
    "# path of the file (adjust it according to your computer)\n",
    "file_path = 'C:/Users/NEZHA/OneDrive/Documents/DVF/ValeursFoncieres-2024-S1.txt'\n",
    "\n",
    "# Columns that we conserve to our little check, we will display their first lines \n",
    "cols_to_keep = ['Date mutation', 'Valeur fonciere', 'Code postal', 'Commune', \n",
    "                'Surface Carrez du 1er lot', 'Nombre de lots', 'Type local', 'Surface reelle bati']\n",
    "\n",
    "# 100 000 lines at a time\n",
    "chunksize = 100000\n",
    "chunks = pd.read_csv(file_path, delimiter='|', encoding='utf-8', chunksize=chunksize, usecols=cols_to_keep, low_memory=False)\n",
    "\n",
    "# We display five lines to check if the importation is valid\n",
    "for chunk in chunks:\n",
    "    print(chunk.head())\n",
    "    break  # We stop after the first chunk... that's enough"
   ]
  },
  {
   "cell_type": "markdown",
   "id": "7b423ae1-cc89-408f-b880-3ed960fd0c1a",
   "metadata": {},
   "source": [
    "it works perfectly ! let's keep going... Now we filter and keep the data which corresponds to the postal codes for the center of Paris metropolitan area (we consider that the center is Paris intra-muros), and we check the first lines..."
   ]
  },
  {
   "cell_type": "code",
   "execution_count": 2,
   "id": "a2705a6b-6ffb-47c4-8797-8969e33d73a4",
   "metadata": {},
   "outputs": [
    {
     "name": "stdout",
     "output_type": "stream",
     "text": [
      "         Identifiant de document  Reference document  1 Articles CGI  \\\n",
      "1442424                      NaN                 NaN             NaN   \n",
      "1442425                      NaN                 NaN             NaN   \n",
      "1443191                      NaN                 NaN             NaN   \n",
      "1443192                      NaN                 NaN             NaN   \n",
      "1443370                      NaN                 NaN             NaN   \n",
      "\n",
      "         2 Articles CGI  3 Articles CGI  4 Articles CGI  5 Articles CGI  \\\n",
      "1442424             NaN             NaN             NaN             NaN   \n",
      "1442425             NaN             NaN             NaN             NaN   \n",
      "1443191             NaN             NaN             NaN             NaN   \n",
      "1443192             NaN             NaN             NaN             NaN   \n",
      "1443370             NaN             NaN             NaN             NaN   \n",
      "\n",
      "         No disposition Date mutation Nature mutation Valeur fonciere  \\\n",
      "1442424               1    05/01/2024           Vente       562400,00   \n",
      "1442425               1    05/01/2024           Vente       562400,00   \n",
      "1443191               1    15/01/2024           Vente       580000,00   \n",
      "1443192               1    15/01/2024           Vente       580000,00   \n",
      "1443370               1    19/01/2024           Vente       880000,00   \n",
      "\n",
      "         No voie B/T/Q Type de voie Code voie               Voie  Code postal  \\\n",
      "1442424     47.0   NaN           AV      3520  FERDINAND BUISSON      75016.0   \n",
      "1442425     47.0   NaN           AV      3520  FERDINAND BUISSON      75016.0   \n",
      "1443191     30.0   NaN          RUE      6660  NUNGESSER ET COLI      75016.0   \n",
      "1443192     30.0   NaN          RUE      6660  NUNGESSER ET COLI      75016.0   \n",
      "1443370     15.0   NaN           AV      3520  FERDINAND BUISSON      75016.0   \n",
      "\n",
      "                      Commune Code departement  Code commune  \\\n",
      "1442424  BOULOGNE-BILLANCOURT               92            12   \n",
      "1442425  BOULOGNE-BILLANCOURT               92            12   \n",
      "1443191  BOULOGNE-BILLANCOURT               92            12   \n",
      "1443192  BOULOGNE-BILLANCOURT               92            12   \n",
      "1443370  BOULOGNE-BILLANCOURT               92            12   \n",
      "\n",
      "         Prefixe de section Section  No plan No Volume 1er lot  \\\n",
      "1442424                 NaN       X      100       NaN      89   \n",
      "1442425                 NaN       X      100       NaN      89   \n",
      "1443191                 NaN       U       49       NaN      12   \n",
      "1443192                 NaN       U       49       NaN      12   \n",
      "1443370                 NaN      AT       31       NaN     139   \n",
      "\n",
      "        Surface Carrez du 1er lot 2eme lot Surface Carrez du 2eme lot  \\\n",
      "1442424                       NaN       90                        NaN   \n",
      "1442425                       NaN       90                        NaN   \n",
      "1443191                     79,64       50                        NaN   \n",
      "1443192                     79,64       50                        NaN   \n",
      "1443370                     82,36      152                        NaN   \n",
      "\n",
      "        3eme lot Surface Carrez du 3eme lot 4eme lot  \\\n",
      "1442424       91                      53,04      NaN   \n",
      "1442425       91                      53,04      NaN   \n",
      "1443191      NaN                        NaN      NaN   \n",
      "1443192      NaN                        NaN      NaN   \n",
      "1443370      NaN                        NaN      NaN   \n",
      "\n",
      "        Surface Carrez du 4eme lot  5eme lot Surface Carrez du 5eme lot  \\\n",
      "1442424                        NaN       NaN                        NaN   \n",
      "1442425                        NaN       NaN                        NaN   \n",
      "1443191                        NaN       NaN                        NaN   \n",
      "1443192                        NaN       NaN                        NaN   \n",
      "1443370                        NaN       NaN                        NaN   \n",
      "\n",
      "         Nombre de lots  Code type local   Type local  Identifiant local  \\\n",
      "1442424               3              3.0   Dépendance                NaN   \n",
      "1442425               3              2.0  Appartement                NaN   \n",
      "1443191               2              2.0  Appartement                NaN   \n",
      "1443192               2              3.0   Dépendance                NaN   \n",
      "1443370               2              3.0   Dépendance                NaN   \n",
      "\n",
      "         Surface reelle bati  Nombre pieces principales Nature culture  \\\n",
      "1442424                  0.0                        0.0            NaN   \n",
      "1442425                 55.0                        2.0            NaN   \n",
      "1443191                 78.0                        3.0            NaN   \n",
      "1443192                  0.0                        0.0            NaN   \n",
      "1443370                  0.0                        0.0            NaN   \n",
      "\n",
      "        Nature culture speciale  Surface terrain  \n",
      "1442424                     NaN              NaN  \n",
      "1442425                     NaN              NaN  \n",
      "1443191                     NaN              NaN  \n",
      "1443192                     NaN              NaN  \n",
      "1443370                     NaN              NaN  \n"
     ]
    }
   ],
   "source": [
    "import pandas as pd  # we re-import to be sure it works well ('cause sometimes it doesn't works)\n",
    "file_path = 'C:/Users/NEZHA/OneDrive/Documents/DVF/ValeursFoncieres-2024-S1.txt'\n",
    "\n",
    "# We load the CSV file into a Pandas DataFrame with a custom delimiter ('|'), then we specify the UTF-8 encoding to avoid character issues, and we disbale memory optimization to ensure correct loading of data types (even if its not that bad to let it)\n",
    "df = pd.read_csv(file_path, delimiter='|', encoding='utf-8', low_memory=False)\n",
    "\n",
    "# Filtering for center of Paris's agglomeration, Paris intra-muros (postal codes between 75000 and 75020)\n",
    "df_paris = df[df['Code postal'].between(75000, 75020)].copy()\n",
    "\n",
    "pd.set_option('display.max_columns', None) # we display all columns \n",
    "\n",
    "# little sample to check on\n",
    "df_paris_sample = df_paris.head()  # five lines\n",
    "\n",
    "# we display the sample\n",
    "print(df_paris_sample)"
   ]
  },
  {
   "cell_type": "markdown",
   "id": "7a3beb98-5689-45be-b398-a606f1d437a9",
   "metadata": {},
   "source": [
    "Now, we extract years of the dates to create a new column, initially we wanted to treat all files in one so it could be useful, however the files must be treat differently because of the quality of our computer, it crashs every time. So it is useless to do it, but at least to show our main idea."
   ]
  },
  {
   "cell_type": "code",
   "execution_count": 3,
   "id": "c6bbb1d0-8d00-46a1-a76f-cf77169bb903",
   "metadata": {},
   "outputs": [
    {
     "name": "stdout",
     "output_type": "stream",
     "text": [
      "        Date mutation\n",
      "1442424    2024-05-01\n",
      "1442425    2024-05-01\n",
      "1443191           NaT\n",
      "1443192           NaT\n",
      "1443370           NaT\n",
      "        Date mutation   Année\n",
      "1442424    2024-05-01  2024.0\n",
      "1442425    2024-05-01  2024.0\n",
      "1443191           NaT     NaN\n",
      "1443192           NaT     NaN\n",
      "1443370           NaT     NaN\n"
     ]
    }
   ],
   "source": [
    "# we convert the column 'Date mutation' of the dataFrame in the format 'date'\n",
    "df_paris['Date mutation'] = pd.to_datetime(df_paris['Date mutation'], errors='coerce')\n",
    "\n",
    "# we check \n",
    "print(df_paris[['Date mutation']].head())\n",
    "\n",
    "# Then we extract\n",
    "df_paris['Année'] = df_paris['Date mutation'].dt.year\n",
    "\n",
    "# we check/display the results\n",
    "print(df_paris[['Date mutation', 'Année']].head())\n"
   ]
  },
  {
   "cell_type": "code",
   "execution_count": 4,
   "id": "5cb69bd6-9e4f-47c0-ae06-686df5585075",
   "metadata": {},
   "outputs": [
    {
     "name": "stdout",
     "output_type": "stream",
     "text": [
      "float64\n",
      "         Valeur fonciere\n",
      "1442424         562400.0\n",
      "1442425         562400.0\n",
      "1443191         580000.0\n",
      "1443192         580000.0\n",
      "1443370         880000.0\n"
     ]
    }
   ],
   "source": [
    "# We create a copy of df_paris to avoid the view and work directly on the copy\n",
    "df_paris_copy = df_paris.copy()\n",
    "\n",
    "# We replace commas by points in the column 'Valeur fonciere' of the dataFrame\n",
    "df_paris_copy['Valeur fonciere'] = df_paris_copy['Valeur fonciere'].replace({',': '.'}, regex=True)\n",
    "\n",
    "# We convert 'Valeur fonciere' column to numeric, forcing errors to NaN\n",
    "df_paris_copy['Valeur fonciere'] = pd.to_numeric(df_paris_copy['Valeur fonciere'], errors='coerce')\n",
    "\n",
    "# we verify the type to check if it worked\n",
    "print(df_paris_copy['Valeur fonciere'].dtype)  # it must display 'float64'\n",
    "\n",
    "# We check the first lines\n",
    "print(df_paris_copy[['Valeur fonciere']].head())\n"
   ]
  },
  {
   "cell_type": "markdown",
   "id": "d6c6b902-b149-4691-9169-39f001a5b785",
   "metadata": {},
   "source": [
    "Little manipulation to see the some outliers"
   ]
  },
  {
   "cell_type": "code",
   "execution_count": 12,
   "id": "05dd0b5e-1ff5-42d0-b48a-d30b73021e5c",
   "metadata": {},
   "outputs": [
    {
     "name": "stdout",
     "output_type": "stream",
     "text": [
      "         Valeur fonciere\n",
      "1446406        1285000.0\n",
      "1446407        1285000.0\n",
      "1446408        1285000.0\n",
      "1530093        1042000.0\n",
      "1530094        1042000.0\n"
     ]
    }
   ],
   "source": [
    "# Filtrer les transactions dont la valeur foncière est plus élevée que 1 million\n",
    "high_value_transactions = df_paris_copy[df_paris_copy['Valeur fonciere'] > 1000000]\n",
    "\n",
    "# Afficher les premières lignes des transactions avec des valeurs élevées\n",
    "print(high_value_transactions[['Valeur fonciere']].head())"
   ]
  },
  {
   "cell_type": "markdown",
   "id": "a6681259-c748-43df-90e8-03af92844151",
   "metadata": {},
   "source": [
    "We will not do the same to show outliers 'cause that of 2019 was enough to understand the problem, so lets get into the matter directly"
   ]
  },
  {
   "cell_type": "code",
   "execution_count": 14,
   "id": "81c4d93b-680e-471c-be58-60253a86bf14",
   "metadata": {},
   "outputs": [
    {
     "name": "stdout",
     "output_type": "stream",
     "text": [
      "Année\n",
      "2024.0    9962.475912\n",
      "Name: Prix_m2, dtype: float64\n"
     ]
    }
   ],
   "source": [
    "# We check if the 'surface réelle bati' is present and valid\n",
    "df_paris_copy['Prix_m2'] = df_paris_copy['Valeur fonciere'] / df_paris_copy['Surface reelle bati']\n",
    "\n",
    "# We filter for values of price per m² reasonable, we don't use quantiles because otherwise ou computer bugs, but it would be the best idea... \n",
    "df_paris_filtered_m2 = df_paris_copy[df_paris_copy['Prix_m2'] < 30000]  # seuil de 30000\n",
    "\n",
    "# After filtering, we calcul again\n",
    "prix_moyen_par_annee_m2 = df_paris_filtered_m2.groupby('Année')['Prix_m2'].mean()\n",
    "\n",
    "# We display\n",
    "print(prix_moyen_par_annee_m2)"
   ]
  },
  {
   "cell_type": "markdown",
   "id": "07ec6509-66d0-4244-9e1f-395f4fcdf0ce",
   "metadata": {},
   "source": [
    "to make you aware of the evolution between solely 2 point, here is a graphic !"
   ]
  },
  {
   "cell_type": "code",
   "execution_count": 16,
   "id": "5db97749-cc20-4cb0-b486-8d0c5a658892",
   "metadata": {},
   "outputs": [
    {
     "data": {
      "image/png": "[encoded data removed]",
      "text/plain": [
       "<Figure size 800x500 with 1 Axes>"
      ]
     },
     "metadata": {},
     "output_type": "display_data"
    }
   ],
   "source": [
    "import matplotlib.pyplot as plt\n",
    "\n",
    "# prices/m² of 2019 and 2024 \n",
    "annees = [2019, 2024]\n",
    "prix_m2 = [10224.400024, 9962.475912]\n",
    "\n",
    "# We creat the graphic\n",
    "plt.figure(figsize=(8, 5))\n",
    "plt.scatter(annees, prix_m2, color='red', s=100, label=\"Prix moyen\")\n",
    "\n",
    "# We add question marks to keep the surprise...\n",
    "annees_mystere = [2020, 2021, 2022, 2023]\n",
    "prix_mystere = [None] * len(annees_mystere)  # so empty values\n",
    "for an in annees_mystere:\n",
    "    plt.text(an, (max(prix_m2) + min(prix_m2)) / 2, \"?\", fontsize=20, ha='center', color='black')\n",
    "\n",
    "# labels + title\n",
    "plt.xlabel(\"Année\")\n",
    "plt.ylabel(\"Prix moyen au m² (€)\")\n",
    "plt.title(\"Évolution du prix moyen au m² à Paris : Que s'est-il passé ?\")\n",
    "\n",
    "# we define the scale for X\n",
    "plt.xticks(annees + annees_mystere)\n",
    "\n",
    "# let's display\n",
    "plt.show()\n"
   ]
  }
 ],
 "metadata": {
  "kernelspec": {
   "display_name": "Python 3 (ipykernel)",
   "language": "python",
   "name": "python3"
  },
  "language_info": {
   "codemirror_mode": {
    "name": "ipython",
    "version": 3
   },
   "file_extension": ".py",
   "mimetype": "text/x-python",
   "name": "python",
   "nbconvert_exporter": "python",
   "pygments_lexer": "ipython3",
   "version": "3.12.7"
  }
 },
 "nbformat": 4,
 "nbformat_minor": 5
}
