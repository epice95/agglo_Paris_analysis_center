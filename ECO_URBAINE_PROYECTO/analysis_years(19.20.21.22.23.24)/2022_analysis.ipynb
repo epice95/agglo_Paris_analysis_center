{
 "cells": [
  {
   "cell_type": "markdown",
   "id": "59fdad3e-3f74-485a-a8a1-8e6210f0a7f7",
   "metadata": {},
   "source": [
    "### Analysis of 2022 (entire year available in the official website of data.gouv.fr)"
   ]
  },
  {
   "cell_type": "markdown",
   "id": "cbf4e372-04f8-4072-a436-d9d3be07fc70",
   "metadata": {},
   "source": [
    "We import the file, then we check by 'chunk' (to not work too much the machine) the first lines in purpose to ensure validity"
   ]
  },
  {
   "cell_type": "code",
   "execution_count": 7,
   "id": "303a4b96-05fa-4d43-ba72-9904aaccf5b1",
   "metadata": {},
   "outputs": [
    {
     "name": "stdout",
     "output_type": "stream",
     "text": [
      "  Date mutation Valeur fonciere  Code postal            Commune  \\\n",
      "0    03/01/2022        55000,00       1000.0    BOURG-EN-BRESSE   \n",
      "1    03/01/2022       143000,00       1480.0          SAVIGNEUX   \n",
      "2    03/01/2022       143000,00       1480.0          SAVIGNEUX   \n",
      "3    03/01/2022       143000,00       1480.0          SAVIGNEUX   \n",
      "4    04/01/2022          300,00       1480.0  MESSIMY SUR SAONE   \n",
      "\n",
      "  Surface Carrez du 1er lot  Nombre de lots   Type local  Surface reelle bati  \n",
      "0                     24,10               1  Appartement                 24.0  \n",
      "1                       NaN               0          NaN                  NaN  \n",
      "2                       NaN               0          NaN                  NaN  \n",
      "3                    123,23               1  Appartement                140.0  \n",
      "4                       NaN               0          NaN                  NaN  \n"
     ]
    }
   ],
   "source": [
    "import pandas as pd\n",
    "\n",
    "# path of the file (adjust it according to your computer)\n",
    "file_path = 'C:/Users/NEZHA/OneDrive/Documents/DVF/ValeursFoncieres-2022.txt'\n",
    "\n",
    "# Columns that we conserve to our little check, we will display their first lines \n",
    "cols_to_keep = ['Date mutation', 'Valeur fonciere', 'Code postal', 'Commune', \n",
    "                'Surface Carrez du 1er lot', 'Nombre de lots', 'Type local', 'Surface reelle bati']\n",
    "\n",
    "# 100 000 lines at a time\n",
    "chunksize = 100000\n",
    "chunks = pd.read_csv(file_path, delimiter='|', encoding='utf-8', chunksize=chunksize, usecols=cols_to_keep, low_memory=False)\n",
    "\n",
    "# We display five lines to check if the importation is valid\n",
    "for chunk in chunks:\n",
    "    print(chunk.head())\n",
    "    break  # We stop after the first chunk... that's enough"
   ]
  },
  {
   "cell_type": "markdown",
   "id": "931664ac-4036-41cb-9283-631454514792",
   "metadata": {},
   "source": [
    "it works perfectly ! let's keep going... Now we filter and keep the data which corresponds to the postal codes for the center of Paris metropolitan area (we consider that the center is Paris intra-muros), and we check the first lines..."
   ]
  },
  {
   "cell_type": "code",
   "execution_count": 8,
   "id": "64cbee33-71a9-44d4-b679-2f43fac174a8",
   "metadata": {},
   "outputs": [
    {
     "name": "stdout",
     "output_type": "stream",
     "text": [
      "         Identifiant de document  Reference document  1 Articles CGI  \\\n",
      "4319312                      NaN                 NaN             NaN   \n",
      "4319313                      NaN                 NaN             NaN   \n",
      "4320333                      NaN                 NaN             NaN   \n",
      "4320945                      NaN                 NaN             NaN   \n",
      "4320987                      NaN                 NaN             NaN   \n",
      "\n",
      "         2 Articles CGI  3 Articles CGI  4 Articles CGI  5 Articles CGI  \\\n",
      "4319312             NaN             NaN             NaN             NaN   \n",
      "4319313             NaN             NaN             NaN             NaN   \n",
      "4320333             NaN             NaN             NaN             NaN   \n",
      "4320945             NaN             NaN             NaN             NaN   \n",
      "4320987             NaN             NaN             NaN             NaN   \n",
      "\n",
      "         No disposition Date mutation Nature mutation Valeur fonciere  \\\n",
      "4319312               1    20/01/2022           Vente       686000,00   \n",
      "4319313               1    20/01/2022           Vente       686000,00   \n",
      "4320333               1    18/01/2022           Vente        40000,00   \n",
      "4320945               1    03/02/2022           Vente       400000,00   \n",
      "4320987               1    04/02/2022           Vente        19200,00   \n",
      "\n",
      "         No voie B/T/Q Type de voie Code voie               Voie  Code postal  \\\n",
      "4319312     28.0   NaN          RUE      6660  NUNGESSER ET COLI      75016.0   \n",
      "4319313     28.0   NaN          RUE      6660  NUNGESSER ET COLI      75016.0   \n",
      "4320333     35.0   NaN           AV      3520  FERDINAND BUISSON      75016.0   \n",
      "4320945     18.0   NaN          RUE      6660  NUNGESSER ET COLI      75016.0   \n",
      "4320987     17.0   NaN           AV      3520  FERDINAND BUISSON      75016.0   \n",
      "\n",
      "                      Commune Code departement  Code commune  \\\n",
      "4319312  BOULOGNE-BILLANCOURT               92            12   \n",
      "4319313  BOULOGNE-BILLANCOURT               92            12   \n",
      "4320333  BOULOGNE-BILLANCOURT               92            12   \n",
      "4320945  BOULOGNE-BILLANCOURT               92            12   \n",
      "4320987  BOULOGNE-BILLANCOURT               92            12   \n",
      "\n",
      "         Prefixe de section Section  No plan  No Volume 1er lot  \\\n",
      "4319312                 NaN       U       48        NaN      10   \n",
      "4319313                 NaN       U       48        NaN      10   \n",
      "4320333                 NaN      AS       81        NaN      97   \n",
      "4320945                 NaN       U       44        NaN      26   \n",
      "4320987                 NaN      AT       99        NaN     468   \n",
      "\n",
      "        Surface Carrez du 1er lot 2eme lot Surface Carrez du 2eme lot  \\\n",
      "4319312                     73,45      NaN                        NaN   \n",
      "4319313                     73,45      NaN                        NaN   \n",
      "4320333                       NaN      NaN                        NaN   \n",
      "4320945                     41,16      NaN                        NaN   \n",
      "4320987                       NaN      NaN                        NaN   \n",
      "\n",
      "         3eme lot Surface Carrez du 3eme lot  4eme lot  \\\n",
      "4319312       NaN                        NaN       NaN   \n",
      "4319313       NaN                        NaN       NaN   \n",
      "4320333       NaN                        NaN       NaN   \n",
      "4320945       NaN                        NaN       NaN   \n",
      "4320987       NaN                        NaN       NaN   \n",
      "\n",
      "        Surface Carrez du 4eme lot  5eme lot Surface Carrez du 5eme lot  \\\n",
      "4319312                        NaN       NaN                        NaN   \n",
      "4319313                        NaN       NaN                        NaN   \n",
      "4320333                        NaN       NaN                        NaN   \n",
      "4320945                        NaN       NaN                        NaN   \n",
      "4320987                        NaN       NaN                        NaN   \n",
      "\n",
      "         Nombre de lots  Code type local   Type local  Identifiant local  \\\n",
      "4319312               1              3.0   Dépendance                NaN   \n",
      "4319313               1              2.0  Appartement                NaN   \n",
      "4320333               1              3.0   Dépendance                NaN   \n",
      "4320945               1              2.0  Appartement                NaN   \n",
      "4320987               1              3.0   Dépendance                NaN   \n",
      "\n",
      "         Surface reelle bati  Nombre pieces principales Nature culture  \\\n",
      "4319312                  0.0                        0.0            NaN   \n",
      "4319313                 72.0                        4.0            NaN   \n",
      "4320333                  0.0                        0.0            NaN   \n",
      "4320945                 42.0                        2.0            NaN   \n",
      "4320987                  0.0                        0.0            NaN   \n",
      "\n",
      "        Nature culture speciale  Surface terrain  \n",
      "4319312                     NaN              NaN  \n",
      "4319313                     NaN              NaN  \n",
      "4320333                     NaN              NaN  \n",
      "4320945                     NaN              NaN  \n",
      "4320987                     NaN              NaN  \n"
     ]
    },
    {
     "name": "stderr",
     "output_type": "stream",
     "text": [
      "C:\\Users\\NEZHA\\AppData\\Local\\Temp\\ipykernel_7116\\1933576103.py:24: FutureWarning: The behavior of DataFrame concatenation with empty or all-NA entries is deprecated. In a future version, this will no longer exclude empty or all-NA columns when determining the result dtypes. To retain the old behavior, exclude the relevant entries before the concat operation.\n",
      "  df_paris = pd.concat(df_paris_filtered)\n"
     ]
    }
   ],
   "source": [
    "import pandas as pd\n",
    "\n",
    "# path (adjust it according to your computer)\n",
    "file_path = 'C:/Users/NEZHA/OneDrive/Documents/DVF/ValeursFoncieres-2022.txt'\n",
    "\n",
    "# 100 000 lines at a time\n",
    "chunk_size = 100000\n",
    "\n",
    "# List to stock and manage the chunks\n",
    "df_paris_filtered = []\n",
    "\n",
    "# we read it by chunks (with low memory to avoid advertissement)\n",
    "chunks = pd.read_csv(file_path, delimiter='|', encoding='utf-8', chunksize=chunk_size, low_memory=False)\n",
    "\n",
    "# we filter and add the filtered chunks\n",
    "for chunk in chunks:\n",
    "    # Filtering for center of Paris's agglomeration, Paris intra-muros (postal codes between 75000 and 75020) in the dataFrame\n",
    "    df_paris_chunk = chunk[chunk['Code postal'].between(75000, 75020)]\n",
    "    \n",
    "    # we add the filtered chunk in the list\n",
    "    df_paris_filtered.append(df_paris_chunk)\n",
    "\n",
    "# we combine all chunks in only one DataFrame\n",
    "df_paris = pd.concat(df_paris_filtered)\n",
    "\n",
    "# checking of the first lines\n",
    "print(df_paris.head())\n",
    "\n",
    "# we display every columns\n",
    "pd.set_option('display.max_columns', None)\n"
   ]
  },
  {
   "cell_type": "markdown",
   "id": "c0635c36-d96c-41a3-a4ac-412904322875",
   "metadata": {},
   "source": [
    "we create a column year to treat the data well"
   ]
  },
  {
   "cell_type": "code",
   "execution_count": 9,
   "id": "78f19ffa-2841-45c9-a445-ecc2461b7690",
   "metadata": {},
   "outputs": [
    {
     "name": "stderr",
     "output_type": "stream",
     "text": [
      "C:\\Users\\NEZHA\\AppData\\Local\\Temp\\ipykernel_7116\\4173766617.py:21: UserWarning: Parsing dates in %d/%m/%Y format when dayfirst=False (the default) was specified. Pass `dayfirst=True` or specify a format to silence this warning.\n",
      "  df_paris_chunk['Date mutation'] = pd.to_datetime(df_paris_chunk['Date mutation'], errors='coerce')\n",
      "C:\\Users\\NEZHA\\AppData\\Local\\Temp\\ipykernel_7116\\4173766617.py:21: SettingWithCopyWarning: \n",
      "A value is trying to be set on a copy of a slice from a DataFrame.\n",
      "Try using .loc[row_indexer,col_indexer] = value instead\n",
      "\n",
      "See the caveats in the documentation: https://pandas.pydata.org/pandas-docs/stable/user_guide/indexing.html#returning-a-view-versus-a-copy\n",
      "  df_paris_chunk['Date mutation'] = pd.to_datetime(df_paris_chunk['Date mutation'], errors='coerce')\n",
      "C:\\Users\\NEZHA\\AppData\\Local\\Temp\\ipykernel_7116\\4173766617.py:24: SettingWithCopyWarning: \n",
      "A value is trying to be set on a copy of a slice from a DataFrame.\n",
      "Try using .loc[row_indexer,col_indexer] = value instead\n",
      "\n",
      "See the caveats in the documentation: https://pandas.pydata.org/pandas-docs/stable/user_guide/indexing.html#returning-a-view-versus-a-copy\n",
      "  df_paris_chunk['Année'] = df_paris_chunk['Date mutation'].dt.year\n",
      "C:\\Users\\NEZHA\\AppData\\Local\\Temp\\ipykernel_7116\\4173766617.py:21: SettingWithCopyWarning: \n",
      "A value is trying to be set on a copy of a slice from a DataFrame.\n",
      "Try using .loc[row_indexer,col_indexer] = value instead\n",
      "\n",
      "See the caveats in the documentation: https://pandas.pydata.org/pandas-docs/stable/user_guide/indexing.html#returning-a-view-versus-a-copy\n",
      "  df_paris_chunk['Date mutation'] = pd.to_datetime(df_paris_chunk['Date mutation'], errors='coerce')\n",
      "C:\\Users\\NEZHA\\AppData\\Local\\Temp\\ipykernel_7116\\4173766617.py:24: SettingWithCopyWarning: \n",
      "A value is trying to be set on a copy of a slice from a DataFrame.\n",
      "Try using .loc[row_indexer,col_indexer] = value instead\n",
      "\n",
      "See the caveats in the documentation: https://pandas.pydata.org/pandas-docs/stable/user_guide/indexing.html#returning-a-view-versus-a-copy\n",
      "  df_paris_chunk['Année'] = df_paris_chunk['Date mutation'].dt.year\n"
     ]
    },
    {
     "name": "stdout",
     "output_type": "stream",
     "text": [
      "        Date mutation   Année\n",
      "4319312    2022-01-20  2022.0\n",
      "4319313    2022-01-20  2022.0\n",
      "4320333    2022-01-18  2022.0\n",
      "4320945    2022-02-03  2022.0\n",
      "4320987    2022-02-04  2022.0\n"
     ]
    },
    {
     "name": "stderr",
     "output_type": "stream",
     "text": [
      "C:\\Users\\NEZHA\\AppData\\Local\\Temp\\ipykernel_7116\\4173766617.py:21: SettingWithCopyWarning: \n",
      "A value is trying to be set on a copy of a slice from a DataFrame.\n",
      "Try using .loc[row_indexer,col_indexer] = value instead\n",
      "\n",
      "See the caveats in the documentation: https://pandas.pydata.org/pandas-docs/stable/user_guide/indexing.html#returning-a-view-versus-a-copy\n",
      "  df_paris_chunk['Date mutation'] = pd.to_datetime(df_paris_chunk['Date mutation'], errors='coerce')\n",
      "C:\\Users\\NEZHA\\AppData\\Local\\Temp\\ipykernel_7116\\4173766617.py:24: SettingWithCopyWarning: \n",
      "A value is trying to be set on a copy of a slice from a DataFrame.\n",
      "Try using .loc[row_indexer,col_indexer] = value instead\n",
      "\n",
      "See the caveats in the documentation: https://pandas.pydata.org/pandas-docs/stable/user_guide/indexing.html#returning-a-view-versus-a-copy\n",
      "  df_paris_chunk['Année'] = df_paris_chunk['Date mutation'].dt.year\n",
      "C:\\Users\\NEZHA\\AppData\\Local\\Temp\\ipykernel_7116\\4173766617.py:30: FutureWarning: The behavior of DataFrame concatenation with empty or all-NA entries is deprecated. In a future version, this will no longer exclude empty or all-NA columns when determining the result dtypes. To retain the old behavior, exclude the relevant entries before the concat operation.\n",
      "  df_paris = pd.concat(df_paris_filtered)\n"
     ]
    }
   ],
   "source": [
    "import pandas as pd\n",
    "\n",
    "# Chemin du fichier\n",
    "file_path2 = 'C:/Users/NEZHA/OneDrive/Documents/DVF/ValeursFoncieres-2022.txt'\n",
    "\n",
    "# we limit at 100000\n",
    "chunk_size = 100000\n",
    "\n",
    "# List to treat chunks\n",
    "df_paris_filtered = []\n",
    "\n",
    "# read by chunks\n",
    "chunks = pd.read_csv(file_path2, delimiter='|', encoding='utf-8', chunksize=chunk_size, low_memory=False)\n",
    "\n",
    "# we filter, then convert the chunks treated\n",
    "for chunk in chunks:\n",
    "    # Filtering for center of Paris's agglomeration, Paris intra-muros (postal codes between 75000 and 75020)\n",
    "    df_paris_chunk = chunk[chunk['Code postal'].between(75000, 75020)]\n",
    "\n",
    "    # we convert the column 'Date mutation' in datetime\n",
    "    df_paris_chunk['Date mutation'] = pd.to_datetime(df_paris_chunk['Date mutation'], errors='coerce')\n",
    "\n",
    "    # Extraction after conversion\n",
    "    df_paris_chunk['Année'] = df_paris_chunk['Date mutation'].dt.year\n",
    "\n",
    "    # then we add the chunk treated\n",
    "    df_paris_filtered.append(df_paris_chunk)\n",
    "\n",
    "# we combine all chunks in one DataFrame\n",
    "df_paris = pd.concat(df_paris_filtered)\n",
    "\n",
    "# we check\n",
    "print(df_paris[['Date mutation', 'Année']].head())"
   ]
  },
  {
   "cell_type": "code",
   "execution_count": 10,
   "id": "d7eb309f-4477-4eca-bc73-2e4344505c9b",
   "metadata": {},
   "outputs": [
    {
     "name": "stdout",
     "output_type": "stream",
     "text": [
      "float64\n",
      "         Valeur fonciere\n",
      "4319312         686000.0\n",
      "4319313         686000.0\n",
      "4320333          40000.0\n",
      "4320945         400000.0\n",
      "4320987          19200.0\n"
     ]
    }
   ],
   "source": [
    "# We create a copy of df_paris to avoid the view and work directly on the copy\n",
    "df_paris_copy = df_paris.copy()\n",
    "\n",
    "# We replace commas by points in the column 'Valeur fonciere' of the dataFrame\n",
    "df_paris_copy['Valeur fonciere'] = df_paris_copy['Valeur fonciere'].replace({',': '.'}, regex=True)\n",
    "\n",
    "# We convert 'Valeur fonciere' column to numeric, forcing errors to NaN\n",
    "df_paris_copy['Valeur fonciere'] = pd.to_numeric(df_paris_copy['Valeur fonciere'], errors='coerce')\n",
    "\n",
    "# we verify the type to check if it worked\n",
    "print(df_paris_copy['Valeur fonciere'].dtype)  # it must display 'float64'\n",
    "\n",
    "# We check the first lines\n",
    "print(df_paris_copy[['Valeur fonciere']].head())"
   ]
  },
  {
   "cell_type": "markdown",
   "id": "2b216130-da66-4ae5-987d-75520c3148ef",
   "metadata": {},
   "source": [
    "Little manipulation to see the some outliers"
   ]
  },
  {
   "cell_type": "code",
   "execution_count": 11,
   "id": "916c3d02-d5a4-4659-94a2-5bd352cc6fec",
   "metadata": {},
   "outputs": [
    {
     "name": "stdout",
     "output_type": "stream",
     "text": [
      "         Valeur fonciere\n",
      "4330248        2565900.0\n",
      "4330249        2565900.0\n",
      "4330250        2565900.0\n",
      "4330251        2565900.0\n",
      "4337226        1069750.0\n"
     ]
    }
   ],
   "source": [
    "# we filter transaction that are superior to 1 000 000\n",
    "high_value_transactions = df_paris_copy[df_paris_copy['Valeur fonciere'] > 1000000]\n",
    "\n",
    "# we display the first lines\n",
    "print(high_value_transactions[['Valeur fonciere']].head())"
   ]
  },
  {
   "cell_type": "code",
   "execution_count": 12,
   "id": "3dbd4ca9-8d00-4f1e-860b-949a3bdee2a1",
   "metadata": {},
   "outputs": [
    {
     "name": "stdout",
     "output_type": "stream",
     "text": [
      "Année\n",
      "2022.0    11023.74618\n",
      "Name: Prix_m2, dtype: float64\n"
     ]
    }
   ],
   "source": [
    "# We check if the 'surface réelle bati' is present and valid\n",
    "df_paris_copy['Prix_m2'] = df_paris_copy['Valeur fonciere'] / df_paris_copy['Surface reelle bati']\n",
    "\n",
    "# We filter for values of price per m² reasonable, we don't use quantiles because otherwise ou computer bugs, but it would be the best idea... \n",
    "df_paris_filtered_m2 = df_paris_copy[df_paris_copy['Prix_m2'] < 30000]  \n",
    "\n",
    "# After filtering, we calcul again\n",
    "prix_moyen_par_annee_m2 = df_paris_filtered_m2.groupby('Année')['Prix_m2'].mean()\n",
    "\n",
    "# We display\n",
    "print(prix_moyen_par_annee_m2)\n"
   ]
  }
 ],
 "metadata": {
  "kernelspec": {
   "display_name": "Python 3 (ipykernel)",
   "language": "python",
   "name": "python3"
  },
  "language_info": {
   "codemirror_mode": {
    "name": "ipython",
    "version": 3
   },
   "file_extension": ".py",
   "mimetype": "text/x-python",
   "name": "python",
   "nbconvert_exporter": "python",
   "pygments_lexer": "ipython3",
   "version": "3.12.7"
  }
 },
 "nbformat": 4,
 "nbformat_minor": 5
}
