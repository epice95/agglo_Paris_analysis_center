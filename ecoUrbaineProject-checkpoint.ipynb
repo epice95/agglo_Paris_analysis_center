{
 "cells": [
  {
   "cell_type": "markdown",
   "id": "b5850d52-7787-4002-8304-fd5fbbf0c0a0",
   "metadata": {},
   "source": [
    "### BUT : récupérer les prix moyens/m**2 de l'agglo parisienne\n",
    "Le pc est lent, donc au lieu de traiter tout en une fois (une cellule), on traites les années séparément"
   ]
  },
  {
   "cell_type": "markdown",
   "id": "69e4a046-4057-4fd2-a436-5ab43f29fada",
   "metadata": {},
   "source": [
    "# Analyse 2019 semestre 2"
   ]
  },
  {
   "cell_type": "markdown",
   "id": "8c2ccb5e-439e-48f3-95e0-2df2dc67989a",
   "metadata": {},
   "source": [
    "On importe le fichier est on vérifie les colonnes des première lignes pour assuré la validité"
   ]
  },
  {
   "cell_type": "code",
   "execution_count": 20,
   "id": "0754d21c-d231-48dd-8284-c91e0c877ea0",
   "metadata": {},
   "outputs": [
    {
     "name": "stdout",
     "output_type": "stream",
     "text": [
      "  Date mutation Valeur fonciere  Code postal               Commune  \\\n",
      "0    01/07/2019       244200,00       1000.0       BOURG-EN-BRESSE   \n",
      "1    04/07/2019       195000,00       1250.0  HAUTECOURT-ROMANECHE   \n",
      "2    04/07/2019       195000,00       1250.0  HAUTECOURT-ROMANECHE   \n",
      "3    04/07/2019       110030,00       1250.0          GRAND-CORENT   \n",
      "4    03/07/2019       160450,00       1270.0               COLIGNY   \n",
      "\n",
      "  Surface Carrez du 1er lot  Nombre de lots Type local  Surface reelle bati  \n",
      "0                       NaN               0     Maison                150.0  \n",
      "1                       NaN               0     Maison                 94.0  \n",
      "2                       NaN               0     Maison                 94.0  \n",
      "3                       NaN               0     Maison                 90.0  \n",
      "4                       NaN               0        NaN                  NaN  \n"
     ]
    }
   ],
   "source": [
    "import pandas as pd\n",
    "\n",
    "# chemin du fichier\n",
    "file_path = 'C:/Users/NEZHA/OneDrive/Documents/DVF/ValeursFoncieres-2019-S2.txt'\n",
    "\n",
    "# Liste des colonnes à conserver pour vérif\n",
    "cols_to_keep = ['Date mutation', 'Valeur fonciere', 'Code postal', 'Commune', \n",
    "                'Surface Carrez du 1er lot', 'Nombre de lots', 'Type local', 'Surface reelle bati']\n",
    "\n",
    "# Lire le fichier en 100 000 lignes à la fois\n",
    "chunksize = 100000\n",
    "chunks = pd.read_csv(file_path, delimiter='|', encoding='utf-8', chunksize=chunksize, usecols=cols_to_keep, low_memory=False)\n",
    "\n",
    "# Afficher les 5 premières lignes du premier morceau pour vérifier la structure\n",
    "for chunk in chunks:\n",
    "    print(chunk.head())\n",
    "    break  # On s'arrête après le premier morceau pour l'inspection"
   ]
  },
  {
   "cell_type": "markdown",
   "id": "5d33a10f-98e5-4175-a136-d823f3aab4ae",
   "metadata": {},
   "source": [
    "On filtre on conservant les données qui correspondent aux codes postaux pour l'agglo parisienne et on vérifie les premières lignes"
   ]
  },
  {
   "cell_type": "code",
   "execution_count": 22,
   "id": "9d5925cd-8fb8-4d67-b1e5-29354a35b450",
   "metadata": {},
   "outputs": [
    {
     "name": "stdout",
     "output_type": "stream",
     "text": [
      "         Identifiant de document  Reference document  1 Articles CGI  \\\n",
      "1802858                      NaN                 NaN             NaN   \n",
      "1802876                      NaN                 NaN             NaN   \n",
      "1803415                      NaN                 NaN             NaN   \n",
      "1803468                      NaN                 NaN             NaN   \n",
      "1803469                      NaN                 NaN             NaN   \n",
      "\n",
      "         2 Articles CGI  3 Articles CGI  4 Articles CGI  5 Articles CGI  \\\n",
      "1802858             NaN             NaN             NaN             NaN   \n",
      "1802876             NaN             NaN             NaN             NaN   \n",
      "1803415             NaN             NaN             NaN             NaN   \n",
      "1803468             NaN             NaN             NaN             NaN   \n",
      "1803469             NaN             NaN             NaN             NaN   \n",
      "\n",
      "         No disposition Date mutation Nature mutation Valeur fonciere  \\\n",
      "1802858               1    19/07/2019           Vente        80000,00   \n",
      "1802876               1    29/07/2019           Vente       709850,00   \n",
      "1803415               1    26/07/2019           Vente       295000,00   \n",
      "1803468               1    08/08/2019           Vente       375000,00   \n",
      "1803469               1    08/08/2019           Vente       375000,00   \n",
      "\n",
      "         No voie B/T/Q Type de voie Code voie               Voie  Code postal  \\\n",
      "1802858     22.0   NaN          RUE      6660  NUNGESSER ET COLI      75016.0   \n",
      "1802876      7.0   NaN           AV      3520  FERDINAND BUISSON      75016.0   \n",
      "1803415     26.0   NaN          RUE      6660  NUNGESSER ET COLI      75016.0   \n",
      "1803468     43.0   NaN           AV      3520  FERDINAND BUISSON      75016.0   \n",
      "1803469     43.0   NaN           AV      3520  FERDINAND BUISSON      75016.0   \n",
      "\n",
      "                      Commune Code departement  Code commune  \\\n",
      "1802858  BOULOGNE-BILLANCOURT               92            12   \n",
      "1802876  BOULOGNE-BILLANCOURT               92            12   \n",
      "1803415  BOULOGNE-BILLANCOURT               92            12   \n",
      "1803468  BOULOGNE-BILLANCOURT               92            12   \n",
      "1803469  BOULOGNE-BILLANCOURT               92            12   \n",
      "\n",
      "         Prefixe de section Section  No plan No Volume 1er lot  \\\n",
      "1802858                 NaN       U       45       NaN      61   \n",
      "1802876                 NaN      BO       45       NaN      20   \n",
      "1803415                 NaN       U       47       NaN      44   \n",
      "1803468                 NaN       X      106       NaN       1   \n",
      "1803469                 NaN       X      106       NaN      33   \n",
      "\n",
      "        Surface Carrez du 1er lot 2eme lot Surface Carrez du 2eme lot  \\\n",
      "1802858                      8,65      NaN                        NaN   \n",
      "1802876                     89,06      NaN                        NaN   \n",
      "1803415                     28,78       45                        NaN   \n",
      "1803468                     51,70      NaN                        NaN   \n",
      "1803469                       NaN      NaN                        NaN   \n",
      "\n",
      "        3eme lot Surface Carrez du 3eme lot  4eme lot  \\\n",
      "1802858      NaN                        NaN       NaN   \n",
      "1802876      NaN                        NaN       NaN   \n",
      "1803415      NaN                        NaN       NaN   \n",
      "1803468      NaN                        NaN       NaN   \n",
      "1803469      NaN                        NaN       NaN   \n",
      "\n",
      "        Surface Carrez du 4eme lot  5eme lot Surface Carrez du 5eme lot  \\\n",
      "1802858                        NaN       NaN                        NaN   \n",
      "1802876                        NaN       NaN                        NaN   \n",
      "1803415                        NaN       NaN                        NaN   \n",
      "1803468                        NaN       NaN                        NaN   \n",
      "1803469                        NaN       NaN                        NaN   \n",
      "\n",
      "         Nombre de lots  Code type local  \\\n",
      "1802858               1              3.0   \n",
      "1802876               1              2.0   \n",
      "1803415               2              2.0   \n",
      "1803468               1              4.0   \n",
      "1803469               1              3.0   \n",
      "\n",
      "                                       Type local  Identifiant local  \\\n",
      "1802858                                Dépendance                NaN   \n",
      "1802876                               Appartement                NaN   \n",
      "1803415                               Appartement                NaN   \n",
      "1803468  Local industriel. commercial ou assimilé                NaN   \n",
      "1803469                                Dépendance                NaN   \n",
      "\n",
      "         Surface reelle bati  Nombre pieces principales Nature culture  \\\n",
      "1802858                  0.0                        0.0            NaN   \n",
      "1802876                 89.0                        5.0            NaN   \n",
      "1803415                 27.0                        1.0            NaN   \n",
      "1803468                 51.0                        0.0            NaN   \n",
      "1803469                  0.0                        0.0            NaN   \n",
      "\n",
      "        Nature culture speciale  Surface terrain  \n",
      "1802858                     NaN              NaN  \n",
      "1802876                     NaN              NaN  \n",
      "1803415                     NaN              NaN  \n",
      "1803468                     NaN              NaN  \n",
      "1803469                     NaN              NaN  \n"
     ]
    }
   ],
   "source": [
    "import pandas as pd  # on réimporte pandas pour être sûr que l'importation est correcte\n",
    "file_path = 'C:/Users/NEZHA/OneDrive/Documents/DVF/ValeursFoncieres-2019-S2.txt'\n",
    "\n",
    "df = pd.read_csv(file_path, delimiter='|', encoding='utf-8', low_memory=False)\n",
    "\n",
    "# Filtrage pour l'agglo de Paris (codes postaux entre 75000 et 75020)\n",
    "df_paris = df[df['Code postal'].between(75000, 75020)].copy()\n",
    "\n",
    "pd.set_option('display.max_columns', None)\n",
    "\n",
    "# petit échantillon des données filtrées pour vérif\n",
    "df_paris_sample = df_paris.head()  # Cela limite à 5 lignes pour ne pas trop charger le PC\n",
    "\n",
    "# Afficher l'échantillon pour vérifier\n",
    "print(df_paris_sample)\n",
    "\n"
   ]
  },
  {
   "cell_type": "markdown",
   "id": "7341a179-dd91-44de-99b0-f3eeb6548245",
   "metadata": {},
   "source": [
    "On extrait les dates, c'est non nécessaire mais intéressant pour les traité ces données eventuellement plus tard"
   ]
  },
  {
   "cell_type": "code",
   "execution_count": 23,
   "id": "d70fc98d-492a-4ec2-b1b7-040152991537",
   "metadata": {},
   "outputs": [
    {
     "name": "stdout",
     "output_type": "stream",
     "text": [
      "        Date mutation\n",
      "1802858    2019-07-19\n",
      "1802876    2019-07-29\n",
      "1803415    2019-07-26\n",
      "1803468    2019-08-08\n",
      "1803469    2019-08-08\n",
      "        Date mutation  Année\n",
      "1802858    2019-07-19   2019\n",
      "1802876    2019-07-29   2019\n",
      "1803415    2019-07-26   2019\n",
      "1803468    2019-08-08   2019\n",
      "1803469    2019-08-08   2019\n"
     ]
    },
    {
     "name": "stderr",
     "output_type": "stream",
     "text": [
      "C:\\Users\\NEZHA\\AppData\\Local\\Temp\\ipykernel_11248\\485998939.py:2: UserWarning: Parsing dates in %d/%m/%Y format when dayfirst=False (the default) was specified. Pass `dayfirst=True` or specify a format to silence this warning.\n",
      "  df_paris['Date mutation'] = pd.to_datetime(df_paris['Date mutation'], errors='coerce')\n"
     ]
    }
   ],
   "source": [
    "# Conversion de la colonne 'Date mutation' en datetime (en prenant en compte le format du timestamp)\n",
    "df_paris['Date mutation'] = pd.to_datetime(df_paris['Date mutation'], errors='coerce')\n",
    "\n",
    "# Vérifier si la conversion a bien fonctionné\n",
    "print(df_paris[['Date mutation']].head())\n",
    "\n",
    "# Extraire l'année après conversion\n",
    "df_paris['Année'] = df_paris['Date mutation'].dt.year\n",
    "\n",
    "# Vérifier les résultats\n",
    "print(df_paris[['Date mutation', 'Année']].head())\n"
   ]
  },
  {
   "cell_type": "markdown",
   "id": "7e5952c5-b490-4b93-8cfb-40d1198dc39d",
   "metadata": {},
   "source": [
    "On vérifie si la copie est bien effectué en affichant les valeurs foncières des premières lignes"
   ]
  },
  {
   "cell_type": "code",
   "execution_count": 24,
   "id": "faeb7332-af1a-409a-81aa-344d9d849716",
   "metadata": {},
   "outputs": [
    {
     "name": "stdout",
     "output_type": "stream",
     "text": [
      "float64\n",
      "         Valeur fonciere\n",
      "1802858          80000.0\n",
      "1802876         709850.0\n",
      "1803415         295000.0\n",
      "1803468         375000.0\n",
      "1803469         375000.0\n"
     ]
    }
   ],
   "source": [
    "# Créer une copie de df_paris pour éviter la vue et travailler directement sur la copie\n",
    "df_paris_copy = df_paris.copy()\n",
    "\n",
    "# Remplacer les virgules par des points dans 'Valeur fonciere'\n",
    "df_paris_copy['Valeur fonciere'] = df_paris_copy['Valeur fonciere'].replace({',': '.'}, regex=True)\n",
    "\n",
    "# Convertir la colonne 'Valeur fonciere' en numérique, en forçant les erreurs à NaN\n",
    "df_paris_copy['Valeur fonciere'] = pd.to_numeric(df_paris_copy['Valeur fonciere'], errors='coerce')\n",
    "\n",
    "# Vérifier le type des données et s'assurer que la conversion a fonctionné\n",
    "print(df_paris_copy['Valeur fonciere'].dtype)  # Cela doit afficher 'float64' ou un type numérique\n",
    "\n",
    "# Vérifier les premières lignes après la conversion\n",
    "print(df_paris_copy[['Valeur fonciere']].head())\n",
    "\n",
    "\n"
   ]
  },
  {
   "cell_type": "markdown",
   "id": "487526a4-f28a-422c-bd0d-edc4b9106d1d",
   "metadata": {},
   "source": [
    "On vérifie les valeurs foncières aberrantes"
   ]
  },
  {
   "cell_type": "code",
   "execution_count": 25,
   "id": "af1fa973-0e76-4a0a-9bd9-3c710b74dca9",
   "metadata": {},
   "outputs": [
    {
     "name": "stdout",
     "output_type": "stream",
     "text": [
      "         Valeur fonciere\n",
      "1806966        1136300.0\n",
      "1806967        1136300.0\n",
      "1929690        1460000.0\n",
      "1929691        1460000.0\n",
      "1929696        4055789.0\n"
     ]
    }
   ],
   "source": [
    "# Filtrer les transactions dont la valeur foncière est plus élevée que 1 million\n",
    "high_value_transactions = df_paris_copy[df_paris_copy['Valeur fonciere'] > 1000000]\n",
    "\n",
    "# Afficher les premières lignes des transactions avec des valeurs élevées\n",
    "print(high_value_transactions[['Valeur fonciere']].head())\n"
   ]
  },
  {
   "cell_type": "markdown",
   "id": "917d81f9-67b4-432d-b836-63c91b9b6a1a",
   "metadata": {},
   "source": [
    "on établit un seul de 300000 qui est suffisant pour notre analyse, mon pc ne supporte pas le traitement avec les quantiles mais ca aurait été plus intelligent de le faire ainsi. On extrait ensuite le prix moyen par m2 qu'on reportera plus tard dans une variable pour la traiter"
   ]
  },
  {
   "cell_type": "code",
   "execution_count": 26,
   "id": "02ed08cd-fe0d-42a9-be6c-7b92c21c50be",
   "metadata": {},
   "outputs": [
    {
     "name": "stdout",
     "output_type": "stream",
     "text": [
      "Année\n",
      "2019    10224.400024\n",
      "Name: Prix_m2, dtype: float64\n"
     ]
    }
   ],
   "source": [
    "# Vérifier si la surface réelle est présente et valide\n",
    "df_paris_copy['Prix_m2'] = df_paris_copy['Valeur fonciere'] / df_paris_copy['Surface reelle bati']\n",
    "\n",
    "# Filtrer les valeurs de prix par m² raisonnables \n",
    "df_paris_filtered_m2 = df_paris_copy[df_paris_copy['Prix_m2'] < 30000]  # seuil de 30000\n",
    "\n",
    "# Recalculer la moyenne des prix au m² par année après filtrage\n",
    "prix_moyen_par_annee_m2 = df_paris_filtered_m2.groupby('Année')['Prix_m2'].mean()\n",
    "\n",
    "# Afficher les prix moyens par m² par année\n",
    "print(prix_moyen_par_annee_m2)\n"
   ]
  },
  {
   "cell_type": "markdown",
   "id": "3a6e7ef3-c316-4a03-8bbf-86882589a35d",
   "metadata": {},
   "source": [
    "# Analyse 2024 semestre 1"
   ]
  },
  {
   "cell_type": "code",
   "execution_count": 31,
   "id": "89d3f285-960e-4f47-b547-f43e3528de48",
   "metadata": {},
   "outputs": [
    {
     "name": "stdout",
     "output_type": "stream",
     "text": [
      "  Date mutation Valeur fonciere  Code postal Commune  \\\n",
      "0    02/01/2024          346,50       1230.0  CHALEY   \n",
      "1    03/01/2024        10000,00       1170.0  CHEVRY   \n",
      "2    08/01/2024       249000,00       1290.0    LAIZ   \n",
      "3    03/01/2024       329500,00       1170.0     GEX   \n",
      "4    03/01/2024       329500,00       1170.0     GEX   \n",
      "\n",
      "  Surface Carrez du 1er lot  Nombre de lots  Type local  Surface reelle bati  \n",
      "0                       NaN               0         NaN                  NaN  \n",
      "1                       NaN               0         NaN                  NaN  \n",
      "2                       NaN               0         NaN                  NaN  \n",
      "3                       NaN               2  Dépendance                  0.0  \n",
      "4                       NaN               2  Dépendance                  0.0  \n"
     ]
    }
   ],
   "source": [
    "import pandas as pd\n",
    "import matplotlib.pyplot as plt\n",
    "# Spécifie le chemin du fichier\n",
    "file_path1 = 'C:/Users/NEZHA/OneDrive/Documents/DVF/ValeursFoncieres-2024-S1.txt'\n",
    "\n",
    "# Liste des colonnes à conserver\n",
    "cols_to_keep = ['Date mutation', 'Valeur fonciere', 'Code postal', 'Commune', \n",
    "                'Surface Carrez du 1er lot', 'Nombre de lots', 'Type local', 'Surface reelle bati']\n",
    "\n",
    "# Lire le fichier en morceaux, par exemple, 100 000 lignes à la fois\n",
    "chunksize = 100000\n",
    "chunks = pd.read_csv(file_path1, delimiter='|', encoding='utf-8', chunksize=chunksize, usecols=cols_to_keep, low_memory=False)\n",
    "\n",
    "# Afficher les 5 premières lignes du premier morceau pour vérifier la structure\n",
    "for chunk in chunks:\n",
    "    print(chunk.head())\n",
    "    break  # On s'arrête après le premier morceau pour l'inspection"
   ]
  },
  {
   "cell_type": "code",
   "execution_count": 32,
   "id": "38630cde-77ab-4b92-9502-5d773e4a6e12",
   "metadata": {},
   "outputs": [
    {
     "name": "stdout",
     "output_type": "stream",
     "text": [
      "         Identifiant de document  Reference document  1 Articles CGI  \\\n",
      "1442424                      NaN                 NaN             NaN   \n",
      "1442425                      NaN                 NaN             NaN   \n",
      "1443191                      NaN                 NaN             NaN   \n",
      "1443192                      NaN                 NaN             NaN   \n",
      "1443370                      NaN                 NaN             NaN   \n",
      "\n",
      "         2 Articles CGI  3 Articles CGI  4 Articles CGI  5 Articles CGI  \\\n",
      "1442424             NaN             NaN             NaN             NaN   \n",
      "1442425             NaN             NaN             NaN             NaN   \n",
      "1443191             NaN             NaN             NaN             NaN   \n",
      "1443192             NaN             NaN             NaN             NaN   \n",
      "1443370             NaN             NaN             NaN             NaN   \n",
      "\n",
      "         No disposition Date mutation Nature mutation Valeur fonciere  \\\n",
      "1442424               1    05/01/2024           Vente       562400,00   \n",
      "1442425               1    05/01/2024           Vente       562400,00   \n",
      "1443191               1    15/01/2024           Vente       580000,00   \n",
      "1443192               1    15/01/2024           Vente       580000,00   \n",
      "1443370               1    19/01/2024           Vente       880000,00   \n",
      "\n",
      "         No voie B/T/Q Type de voie Code voie               Voie  Code postal  \\\n",
      "1442424     47.0   NaN           AV      3520  FERDINAND BUISSON      75016.0   \n",
      "1442425     47.0   NaN           AV      3520  FERDINAND BUISSON      75016.0   \n",
      "1443191     30.0   NaN          RUE      6660  NUNGESSER ET COLI      75016.0   \n",
      "1443192     30.0   NaN          RUE      6660  NUNGESSER ET COLI      75016.0   \n",
      "1443370     15.0   NaN           AV      3520  FERDINAND BUISSON      75016.0   \n",
      "\n",
      "                      Commune Code departement  Code commune  \\\n",
      "1442424  BOULOGNE-BILLANCOURT               92            12   \n",
      "1442425  BOULOGNE-BILLANCOURT               92            12   \n",
      "1443191  BOULOGNE-BILLANCOURT               92            12   \n",
      "1443192  BOULOGNE-BILLANCOURT               92            12   \n",
      "1443370  BOULOGNE-BILLANCOURT               92            12   \n",
      "\n",
      "         Prefixe de section Section  No plan No Volume 1er lot  \\\n",
      "1442424                 NaN       X      100       NaN      89   \n",
      "1442425                 NaN       X      100       NaN      89   \n",
      "1443191                 NaN       U       49       NaN      12   \n",
      "1443192                 NaN       U       49       NaN      12   \n",
      "1443370                 NaN      AT       31       NaN     139   \n",
      "\n",
      "        Surface Carrez du 1er lot 2eme lot Surface Carrez du 2eme lot  \\\n",
      "1442424                       NaN       90                        NaN   \n",
      "1442425                       NaN       90                        NaN   \n",
      "1443191                     79,64       50                        NaN   \n",
      "1443192                     79,64       50                        NaN   \n",
      "1443370                     82,36      152                        NaN   \n",
      "\n",
      "        3eme lot Surface Carrez du 3eme lot 4eme lot  \\\n",
      "1442424       91                      53,04      NaN   \n",
      "1442425       91                      53,04      NaN   \n",
      "1443191      NaN                        NaN      NaN   \n",
      "1443192      NaN                        NaN      NaN   \n",
      "1443370      NaN                        NaN      NaN   \n",
      "\n",
      "        Surface Carrez du 4eme lot  5eme lot Surface Carrez du 5eme lot  \\\n",
      "1442424                        NaN       NaN                        NaN   \n",
      "1442425                        NaN       NaN                        NaN   \n",
      "1443191                        NaN       NaN                        NaN   \n",
      "1443192                        NaN       NaN                        NaN   \n",
      "1443370                        NaN       NaN                        NaN   \n",
      "\n",
      "         Nombre de lots  Code type local   Type local  Identifiant local  \\\n",
      "1442424               3              3.0   Dépendance                NaN   \n",
      "1442425               3              2.0  Appartement                NaN   \n",
      "1443191               2              2.0  Appartement                NaN   \n",
      "1443192               2              3.0   Dépendance                NaN   \n",
      "1443370               2              3.0   Dépendance                NaN   \n",
      "\n",
      "         Surface reelle bati  Nombre pieces principales Nature culture  \\\n",
      "1442424                  0.0                        0.0            NaN   \n",
      "1442425                 55.0                        2.0            NaN   \n",
      "1443191                 78.0                        3.0            NaN   \n",
      "1443192                  0.0                        0.0            NaN   \n",
      "1443370                  0.0                        0.0            NaN   \n",
      "\n",
      "        Nature culture speciale  Surface terrain  \n",
      "1442424                     NaN              NaN  \n",
      "1442425                     NaN              NaN  \n",
      "1443191                     NaN              NaN  \n",
      "1443192                     NaN              NaN  \n",
      "1443370                     NaN              NaN  \n"
     ]
    }
   ],
   "source": [
    "import pandas as pd  # Réimporter pandas pour être sûr que l'importation est correcte\n",
    "file_path1 = 'C:/Users/NEZHA/OneDrive/Documents/DVF/ValeursFoncieres-2024-S1.txt'\n",
    "# Ensuite, réexécute ton code pour charger les données et filtrer\n",
    "df = pd.read_csv(file_path1, delimiter='|', encoding='utf-8', low_memory=False)\n",
    "\n",
    "# Filtrage pour Paris (codes postaux entre 75000 et 75020)\n",
    "df_paris = df[df['Code postal'].between(75000, 75020)].copy()\n",
    "\n",
    "pd.set_option('display.max_columns', None)\n",
    "\n",
    "# Vérifier un petit échantillon des données filtrées (par exemple, les 5 premières lignes)\n",
    "df_paris_sample = df_paris.head()  # Cela limite à 5 lignes pour ne pas trop charger le PC\n",
    "\n",
    "# Afficher l'échantillon pour vérifier\n",
    "print(df_paris_sample)\n"
   ]
  },
  {
   "cell_type": "code",
   "execution_count": 33,
   "id": "e68adea0-8665-46e4-b94d-06675546ab72",
   "metadata": {},
   "outputs": [
    {
     "name": "stdout",
     "output_type": "stream",
     "text": [
      "        Date mutation\n",
      "1442424    2024-05-01\n",
      "1442425    2024-05-01\n",
      "1443191           NaT\n",
      "1443192           NaT\n",
      "1443370           NaT\n",
      "        Date mutation   Année\n",
      "1442424    2024-05-01  2024.0\n",
      "1442425    2024-05-01  2024.0\n",
      "1443191           NaT     NaN\n",
      "1443192           NaT     NaN\n",
      "1443370           NaT     NaN\n"
     ]
    }
   ],
   "source": [
    "# Convertir la colonne 'Date mutation' en datetime (en prenant en compte le format du timestamp)\n",
    "df_paris['Date mutation'] = pd.to_datetime(df_paris['Date mutation'], errors='coerce')\n",
    "\n",
    "# Vérifier si la conversion a bien fonctionné\n",
    "print(df_paris[['Date mutation']].head())\n",
    "\n",
    "# Extraire l'année après conversion\n",
    "df_paris['Année'] = df_paris['Date mutation'].dt.year\n",
    "\n",
    "# Vérifier les résultats\n",
    "print(df_paris[['Date mutation', 'Année']].head())\n"
   ]
  },
  {
   "cell_type": "code",
   "execution_count": 34,
   "id": "9e4f8fae-b151-4ada-a980-57e136fc40ba",
   "metadata": {},
   "outputs": [
    {
     "name": "stdout",
     "output_type": "stream",
     "text": [
      "float64\n",
      "         Valeur fonciere\n",
      "1442424         562400.0\n",
      "1442425         562400.0\n",
      "1443191         580000.0\n",
      "1443192         580000.0\n",
      "1443370         880000.0\n"
     ]
    }
   ],
   "source": [
    "# Créer une copie de df_paris pour éviter la vue et travailler directement sur la copie\n",
    "df_paris_copy = df_paris.copy()\n",
    "\n",
    "# Remplacer les virgules par des points dans 'Valeur fonciere'\n",
    "df_paris_copy['Valeur fonciere'] = df_paris_copy['Valeur fonciere'].replace({',': '.'}, regex=True)\n",
    "\n",
    "# Convertir la colonne 'Valeur fonciere' en numérique, en forçant les erreurs à NaN\n",
    "df_paris_copy['Valeur fonciere'] = pd.to_numeric(df_paris_copy['Valeur fonciere'], errors='coerce')\n",
    "\n",
    "# Vérifier le type des données et s'assurer que la conversion a fonctionné\n",
    "print(df_paris_copy['Valeur fonciere'].dtype)  # Cela doit afficher 'float64' ou un type numérique\n",
    "\n",
    "# Vérifier les premières lignes après la conversion\n",
    "print(df_paris_copy[['Valeur fonciere']].head())\n"
   ]
  },
  {
   "cell_type": "code",
   "execution_count": 21,
   "id": "e1c429cd-ae40-4819-a188-d7a693448ef1",
   "metadata": {},
   "outputs": [
    {
     "name": "stdout",
     "output_type": "stream",
     "text": [
      "         Valeur fonciere\n",
      "1446406        1285000.0\n",
      "1446407        1285000.0\n",
      "1446408        1285000.0\n",
      "1530093        1042000.0\n",
      "1530094        1042000.0\n"
     ]
    }
   ],
   "source": [
    "# Filtrer les transactions dont la valeur foncière est plus élevée que 1 million\n",
    "high_value_transactions = df_paris_copy[df_paris_copy['Valeur fonciere'] > 1000000]\n",
    "\n",
    "# Afficher les premières lignes des transactions avec des valeurs élevées\n",
    "print(high_value_transactions[['Valeur fonciere']].head())\n"
   ]
  },
  {
   "cell_type": "code",
   "execution_count": 35,
   "id": "744128f5-6fbc-48c6-a524-80db7045adbd",
   "metadata": {},
   "outputs": [
    {
     "name": "stdout",
     "output_type": "stream",
     "text": [
      "Année\n",
      "2024.0    9962.475912\n",
      "Name: Prix_m2, dtype: float64\n"
     ]
    }
   ],
   "source": [
    "# Vérifier si la surface réelle est présente et valide\n",
    "df_paris_copy['Prix_m2'] = df_paris_copy['Valeur fonciere'] / df_paris_copy['Surface reelle bati']\n",
    "\n",
    "# Filtrer les valeurs de prix par m² raisonnables (par exemple, exclure les valeurs de surface ou prix aberrants)\n",
    "df_paris_filtered_m2 = df_paris_copy[df_paris_copy['Prix_m2'] < 30000]  \n",
    "\n",
    "# Recalculer la moyenne des prix au m² par année après filtrage\n",
    "prix_moyen_par_annee_m2 = df_paris_filtered_m2.groupby('Année')['Prix_m2'].mean()\n",
    "\n",
    "# Afficher les prix moyens par m² par année\n",
    "print(prix_moyen_par_annee_m2)\n"
   ]
  },
  {
   "cell_type": "markdown",
   "id": "cd6dcb17-e4ad-43b7-ae04-5499c24879b5",
   "metadata": {},
   "source": [
    "# Analyse 2020 (année complete)"
   ]
  },
  {
   "cell_type": "code",
   "execution_count": 23,
   "id": "2747603d-a0d3-4521-b791-25b1f2e3b329",
   "metadata": {},
   "outputs": [
    {
     "name": "stdout",
     "output_type": "stream",
     "text": [
      "  Date mutation Valeur fonciere  Code postal    Commune  \\\n",
      "0    07/01/2020         8000,00       1250.0  CEYZERIAT   \n",
      "1    02/01/2020         2175,00       1290.0       LAIZ   \n",
      "2    02/01/2020         2175,00       1290.0       LAIZ   \n",
      "3    02/01/2020         2175,00       1290.0       LAIZ   \n",
      "4    02/01/2020         2175,00       1290.0       LAIZ   \n",
      "\n",
      "  Surface Carrez du 1er lot  Nombre de lots Type local  Surface reelle bati  \n",
      "0                       NaN               0        NaN                  NaN  \n",
      "1                       NaN               0        NaN                  NaN  \n",
      "2                       NaN               0        NaN                  NaN  \n",
      "3                       NaN               0        NaN                  NaN  \n",
      "4                       NaN               0        NaN                  NaN  \n"
     ]
    }
   ],
   "source": [
    "import pandas as pd\n",
    "# Spécifie le chemin du fichier\n",
    "file_path2 = 'C:/Users/NEZHA/OneDrive/Documents/DVF/ValeursFoncieres-2020.txt'\n",
    "\n",
    "# Liste des colonnes à conserver\n",
    "cols_to_keep = ['Date mutation', 'Valeur fonciere', 'Code postal', 'Commune', \n",
    "                'Surface Carrez du 1er lot', 'Nombre de lots', 'Type local', 'Surface reelle bati']\n",
    "\n",
    "# Lire le fichier en morceaux, par exemple, 100 000 lignes à la fois\n",
    "chunksize = 100000\n",
    "chunks = pd.read_csv(file_path2, delimiter='|', encoding='utf-8', chunksize=chunksize, usecols=cols_to_keep, low_memory=False)\n",
    "\n",
    "# Afficher les 5 premières lignes du premier morceau pour vérifier la structure\n",
    "for chunk in chunks:\n",
    "    print(chunk.head())\n",
    "    break  # On s'arrête après le premier morceau pour l'inspection"
   ]
  },
  {
   "cell_type": "code",
   "execution_count": 2,
   "id": "cc513ece-1df6-453a-aeee-afa4d0c80a8b",
   "metadata": {},
   "outputs": [
    {
     "name": "stdout",
     "output_type": "stream",
     "text": [
      "         Identifiant de document  Reference document  1 Articles CGI  \\\n",
      "3250492                      NaN                 NaN             NaN   \n",
      "3250511                      NaN                 NaN             NaN   \n",
      "3250554                      NaN                 NaN             NaN   \n",
      "3250861                      NaN                 NaN             NaN   \n",
      "3250955                      NaN                 NaN             NaN   \n",
      "\n",
      "         2 Articles CGI  3 Articles CGI  4 Articles CGI  5 Articles CGI  \\\n",
      "3250492             NaN             NaN             NaN             NaN   \n",
      "3250511             NaN             NaN             NaN             NaN   \n",
      "3250554             NaN             NaN             NaN             NaN   \n",
      "3250861             NaN             NaN             NaN             NaN   \n",
      "3250955             NaN             NaN             NaN             NaN   \n",
      "\n",
      "         No disposition Date mutation Nature mutation  ...  \\\n",
      "3250492               1    17/01/2020           Vente  ...   \n",
      "3250511               1    22/01/2020           Vente  ...   \n",
      "3250554               1    20/01/2020           Vente  ...   \n",
      "3250861               1    30/01/2020           Vente  ...   \n",
      "3250955               1    28/01/2020           Vente  ...   \n",
      "\n",
      "        Surface Carrez du 5eme lot  Nombre de lots Code type local  \\\n",
      "3250492                        NaN               2             4.0   \n",
      "3250511                        NaN               2             2.0   \n",
      "3250554                        NaN               4             2.0   \n",
      "3250861                        NaN               3             2.0   \n",
      "3250955                        NaN               1             2.0   \n",
      "\n",
      "                                       Type local Identifiant local  \\\n",
      "3250492  Local industriel. commercial ou assimilé               NaN   \n",
      "3250511                               Appartement               NaN   \n",
      "3250554                               Appartement               NaN   \n",
      "3250861                               Appartement               NaN   \n",
      "3250955                               Appartement               NaN   \n",
      "\n",
      "        Surface reelle bati  Nombre pieces principales Nature culture  \\\n",
      "3250492               700.0                        0.0            NaN   \n",
      "3250511                78.0                        3.0            NaN   \n",
      "3250554                70.0                        3.0            NaN   \n",
      "3250861                18.0                        1.0            NaN   \n",
      "3250955                77.0                        4.0            NaN   \n",
      "\n",
      "        Nature culture speciale  Surface terrain  \n",
      "3250492                     NaN              NaN  \n",
      "3250511                     NaN              NaN  \n",
      "3250554                     NaN              NaN  \n",
      "3250861                     NaN              NaN  \n",
      "3250955                     NaN              NaN  \n",
      "\n",
      "[5 rows x 43 columns]\n"
     ]
    },
    {
     "name": "stderr",
     "output_type": "stream",
     "text": [
      "C:\\Users\\NEZHA\\AppData\\Local\\Temp\\ipykernel_1296\\551142414.py:24: FutureWarning: The behavior of DataFrame concatenation with empty or all-NA entries is deprecated. In a future version, this will no longer exclude empty or all-NA columns when determining the result dtypes. To retain the old behavior, exclude the relevant entries before the concat operation.\n",
      "  df_paris = pd.concat(df_paris_filtered)\n"
     ]
    }
   ],
   "source": [
    "import pandas as pd\n",
    "\n",
    "# Chemin du fichier\n",
    "file_path2 = 'C:/Users/NEZHA/OneDrive/Documents/DVF/ValeursFoncieres-2020.txt'\n",
    "\n",
    "# Taille du morceau (par exemple, 100 000 lignes par morceau)\n",
    "chunk_size = 100000\n",
    "\n",
    "# Liste pour stocker les morceaux filtrés\n",
    "df_paris_filtered = []\n",
    "\n",
    "# Lire le fichier par morceaux\n",
    "chunks = pd.read_csv(file_path2, delimiter='|', encoding='utf-8', chunksize=chunk_size, low_memory=False)\n",
    "\n",
    "# Filtrer et ajouter les morceaux filtrés\n",
    "for chunk in chunks:\n",
    "    # Filtrer pour Paris (codes postaux entre 75000 et 75020)\n",
    "    df_paris_chunk = chunk[chunk['Code postal'].between(75000, 75020)]\n",
    "    \n",
    "    # Ajouter le morceau filtré à la liste\n",
    "    df_paris_filtered.append(df_paris_chunk)\n",
    "\n",
    "# Combiner tous les morceaux filtrés en un seul DataFrame\n",
    "df_paris = pd.concat(df_paris_filtered)\n",
    "\n",
    "# Vérifier les premières lignes du DataFrame filtré\n",
    "print(df_paris.head())\n",
    "\n",
    "# Option d'affichage des colonnes (pour s'assurer que tout est visible)\n",
    "pd.set_option('display.max_columns', None)\n"
   ]
  },
  {
   "cell_type": "code",
   "execution_count": 4,
   "id": "de7527ac-8551-4a4e-8206-aea64bf0d26d",
   "metadata": {},
   "outputs": [
    {
     "name": "stderr",
     "output_type": "stream",
     "text": [
      "C:\\Users\\NEZHA\\AppData\\Local\\Temp\\ipykernel_1296\\1859696169.py:21: UserWarning: Parsing dates in %d/%m/%Y format when dayfirst=False (the default) was specified. Pass `dayfirst=True` or specify a format to silence this warning.\n",
      "  df_paris_chunk['Date mutation'] = pd.to_datetime(df_paris_chunk['Date mutation'], errors='coerce')\n",
      "C:\\Users\\NEZHA\\AppData\\Local\\Temp\\ipykernel_1296\\1859696169.py:21: SettingWithCopyWarning: \n",
      "A value is trying to be set on a copy of a slice from a DataFrame.\n",
      "Try using .loc[row_indexer,col_indexer] = value instead\n",
      "\n",
      "See the caveats in the documentation: https://pandas.pydata.org/pandas-docs/stable/user_guide/indexing.html#returning-a-view-versus-a-copy\n",
      "  df_paris_chunk['Date mutation'] = pd.to_datetime(df_paris_chunk['Date mutation'], errors='coerce')\n",
      "C:\\Users\\NEZHA\\AppData\\Local\\Temp\\ipykernel_1296\\1859696169.py:24: SettingWithCopyWarning: \n",
      "A value is trying to be set on a copy of a slice from a DataFrame.\n",
      "Try using .loc[row_indexer,col_indexer] = value instead\n",
      "\n",
      "See the caveats in the documentation: https://pandas.pydata.org/pandas-docs/stable/user_guide/indexing.html#returning-a-view-versus-a-copy\n",
      "  df_paris_chunk['Année'] = df_paris_chunk['Date mutation'].dt.year\n",
      "C:\\Users\\NEZHA\\AppData\\Local\\Temp\\ipykernel_1296\\1859696169.py:21: SettingWithCopyWarning: \n",
      "A value is trying to be set on a copy of a slice from a DataFrame.\n",
      "Try using .loc[row_indexer,col_indexer] = value instead\n",
      "\n",
      "See the caveats in the documentation: https://pandas.pydata.org/pandas-docs/stable/user_guide/indexing.html#returning-a-view-versus-a-copy\n",
      "  df_paris_chunk['Date mutation'] = pd.to_datetime(df_paris_chunk['Date mutation'], errors='coerce')\n",
      "C:\\Users\\NEZHA\\AppData\\Local\\Temp\\ipykernel_1296\\1859696169.py:24: SettingWithCopyWarning: \n",
      "A value is trying to be set on a copy of a slice from a DataFrame.\n",
      "Try using .loc[row_indexer,col_indexer] = value instead\n",
      "\n",
      "See the caveats in the documentation: https://pandas.pydata.org/pandas-docs/stable/user_guide/indexing.html#returning-a-view-versus-a-copy\n",
      "  df_paris_chunk['Année'] = df_paris_chunk['Date mutation'].dt.year\n"
     ]
    },
    {
     "name": "stdout",
     "output_type": "stream",
     "text": [
      "        Date mutation   Année\n",
      "3250492    2020-01-17  2020.0\n",
      "3250511    2020-01-22  2020.0\n",
      "3250554    2020-01-20  2020.0\n",
      "3250861    2020-01-30  2020.0\n",
      "3250955    2020-01-28  2020.0\n"
     ]
    },
    {
     "name": "stderr",
     "output_type": "stream",
     "text": [
      "C:\\Users\\NEZHA\\AppData\\Local\\Temp\\ipykernel_1296\\1859696169.py:21: UserWarning: Parsing dates in %d/%m/%Y format when dayfirst=False (the default) was specified. Pass `dayfirst=True` or specify a format to silence this warning.\n",
      "  df_paris_chunk['Date mutation'] = pd.to_datetime(df_paris_chunk['Date mutation'], errors='coerce')\n",
      "C:\\Users\\NEZHA\\AppData\\Local\\Temp\\ipykernel_1296\\1859696169.py:21: SettingWithCopyWarning: \n",
      "A value is trying to be set on a copy of a slice from a DataFrame.\n",
      "Try using .loc[row_indexer,col_indexer] = value instead\n",
      "\n",
      "See the caveats in the documentation: https://pandas.pydata.org/pandas-docs/stable/user_guide/indexing.html#returning-a-view-versus-a-copy\n",
      "  df_paris_chunk['Date mutation'] = pd.to_datetime(df_paris_chunk['Date mutation'], errors='coerce')\n",
      "C:\\Users\\NEZHA\\AppData\\Local\\Temp\\ipykernel_1296\\1859696169.py:24: SettingWithCopyWarning: \n",
      "A value is trying to be set on a copy of a slice from a DataFrame.\n",
      "Try using .loc[row_indexer,col_indexer] = value instead\n",
      "\n",
      "See the caveats in the documentation: https://pandas.pydata.org/pandas-docs/stable/user_guide/indexing.html#returning-a-view-versus-a-copy\n",
      "  df_paris_chunk['Année'] = df_paris_chunk['Date mutation'].dt.year\n",
      "C:\\Users\\NEZHA\\AppData\\Local\\Temp\\ipykernel_1296\\1859696169.py:30: FutureWarning: The behavior of DataFrame concatenation with empty or all-NA entries is deprecated. In a future version, this will no longer exclude empty or all-NA columns when determining the result dtypes. To retain the old behavior, exclude the relevant entries before the concat operation.\n",
      "  df_paris = pd.concat(df_paris_filtered)\n"
     ]
    }
   ],
   "source": [
    "import pandas as pd\n",
    "\n",
    "# Chemin du fichier\n",
    "file_path2 = 'C:/Users/NEZHA/OneDrive/Documents/DVF/ValeursFoncieres-2020.txt'\n",
    "\n",
    "# Taille du morceau (par exemple, 100 000 lignes par morceau)\n",
    "chunk_size = 100000\n",
    "\n",
    "# Liste pour stocker les morceaux filtrés et traités\n",
    "df_paris_filtered = []\n",
    "\n",
    "# Lire le fichier par morceaux\n",
    "chunks = pd.read_csv(file_path2, delimiter='|', encoding='utf-8', chunksize=chunk_size, low_memory=False)\n",
    "\n",
    "# Filtrer, convertir et ajouter les morceaux traités\n",
    "for chunk in chunks:\n",
    "    # Filtrer pour Paris (codes postaux entre 75000 et 75020)\n",
    "    df_paris_chunk = chunk[chunk['Code postal'].between(75000, 75020)]\n",
    "\n",
    "    # Convertir la colonne 'Date mutation' en datetime\n",
    "    df_paris_chunk['Date mutation'] = pd.to_datetime(df_paris_chunk['Date mutation'], errors='coerce')\n",
    "\n",
    "    # Extraire l'année après conversion\n",
    "    df_paris_chunk['Année'] = df_paris_chunk['Date mutation'].dt.year\n",
    "\n",
    "    # Ajouter le morceau traité à la liste\n",
    "    df_paris_filtered.append(df_paris_chunk)\n",
    "\n",
    "# Combiner tous les morceaux filtrés et traités en un seul DataFrame\n",
    "df_paris = pd.concat(df_paris_filtered)\n",
    "\n",
    "# Vérifier les résultats\n",
    "print(df_paris[['Date mutation', 'Année']].head())\n"
   ]
  },
  {
   "cell_type": "code",
   "execution_count": 5,
   "id": "50dd4057-8f02-4d16-8d24-0f04faa9e1fb",
   "metadata": {},
   "outputs": [
    {
     "name": "stdout",
     "output_type": "stream",
     "text": [
      "float64\n",
      "         Valeur fonciere\n",
      "3250492        3400000.0\n",
      "3250511         908200.0\n",
      "3250554         600000.0\n",
      "3250861         509900.0\n",
      "3250955         775125.0\n"
     ]
    }
   ],
   "source": [
    "# Créer une copie de df_paris pour éviter la vue et travailler directement sur la copie\n",
    "df_paris_copy = df_paris.copy()\n",
    "\n",
    "# Remplacer les virgules par des points dans 'Valeur fonciere'\n",
    "df_paris_copy['Valeur fonciere'] = df_paris_copy['Valeur fonciere'].replace({',': '.'}, regex=True)\n",
    "\n",
    "# Convertir la colonne 'Valeur fonciere' en numérique, en forçant les erreurs à NaN\n",
    "df_paris_copy['Valeur fonciere'] = pd.to_numeric(df_paris_copy['Valeur fonciere'], errors='coerce')\n",
    "\n",
    "# Vérifier le type des données et s'assurer que la conversion a fonctionné\n",
    "print(df_paris_copy['Valeur fonciere'].dtype)  # Cela doit afficher 'float64' ou un type numérique\n",
    "\n",
    "# Vérifier les premières lignes après la conversion\n",
    "print(df_paris_copy[['Valeur fonciere']].head())\n"
   ]
  },
  {
   "cell_type": "code",
   "execution_count": 6,
   "id": "fbdba075-2729-4bc6-bb6c-e42c09f00754",
   "metadata": {},
   "outputs": [
    {
     "name": "stdout",
     "output_type": "stream",
     "text": [
      "         Valeur fonciere\n",
      "3250492        3400000.0\n",
      "3253366        1205000.0\n",
      "3257166        1097850.0\n",
      "3257167        1097850.0\n",
      "3467430        2350000.0\n"
     ]
    }
   ],
   "source": [
    "# Filtrer les transactions dont la valeur foncière est plus élevée que 1 million\n",
    "high_value_transactions = df_paris_copy[df_paris_copy['Valeur fonciere'] > 1000000]\n",
    "\n",
    "# Afficher les premières lignes des transactions avec des valeurs élevées\n",
    "print(high_value_transactions[['Valeur fonciere']].head())\n"
   ]
  },
  {
   "cell_type": "code",
   "execution_count": 7,
   "id": "e9433090-f4b3-4cff-9125-b130f94f6558",
   "metadata": {},
   "outputs": [
    {
     "name": "stdout",
     "output_type": "stream",
     "text": [
      "Année\n",
      "2020.0    10679.781409\n",
      "Name: Prix_m2, dtype: float64\n"
     ]
    }
   ],
   "source": [
    "# Vérifier si la surface réelle est présente et valide\n",
    "df_paris_copy['Prix_m2'] = df_paris_copy['Valeur fonciere'] / df_paris_copy['Surface reelle bati']\n",
    "\n",
    "# Filtrer les valeurs de prix par m² raisonnables (par exemple, exclure les valeurs de surface ou prix aberrants)\n",
    "df_paris_filtered_m2 = df_paris_copy[df_paris_copy['Prix_m2'] < 30000]  \n",
    "\n",
    "# Recalculer la moyenne des prix au m² par année après filtrage\n",
    "prix_moyen_par_annee_m2 = df_paris_filtered_m2.groupby('Année')['Prix_m2'].mean()\n",
    "\n",
    "# Afficher les prix moyens par m² par année\n",
    "print(prix_moyen_par_annee_m2)\n"
   ]
  },
  {
   "cell_type": "markdown",
   "id": "1da2373d-d9b4-465b-a7af-313dd83d7b80",
   "metadata": {},
   "source": [
    "# Analyse 2021 (année complète)"
   ]
  },
  {
   "cell_type": "code",
   "execution_count": 11,
   "id": "d233d20e-9fbb-4f78-920f-f2b8884dc481",
   "metadata": {},
   "outputs": [
    {
     "name": "stdout",
     "output_type": "stream",
     "text": [
      "  Date mutation Valeur fonciere  Code postal        Commune  \\\n",
      "0    05/01/2021       185000,00       1370.0  VAL-REVERMONT   \n",
      "1    05/01/2021       185000,00       1370.0  VAL-REVERMONT   \n",
      "2    06/01/2021           10,00       1290.0            BEY   \n",
      "3    04/01/2021       204332,00       1310.0        BUELLAS   \n",
      "4    06/01/2021       320000,00       1250.0      MONTAGNAT   \n",
      "\n",
      "  Surface Carrez du 1er lot  Nombre de lots  Type local  Surface reelle bati  \n",
      "0                       NaN               0      Maison                 97.0  \n",
      "1                       NaN               0  Dépendance                  0.0  \n",
      "2                       NaN               0         NaN                  NaN  \n",
      "3                       NaN               0      Maison                 88.0  \n",
      "4                       NaN               0  Dépendance                  0.0  \n"
     ]
    }
   ],
   "source": [
    "import pandas as pd\n",
    "# Spécifie le chemin du fichier\n",
    "file_path3 = 'C:/Users/NEZHA/OneDrive/Documents/DVF/ValeursFoncieres-2021.txt'\n",
    "\n",
    "# Liste des colonnes à conserver\n",
    "cols_to_keep = ['Date mutation', 'Valeur fonciere', 'Code postal', 'Commune', \n",
    "                'Surface Carrez du 1er lot', 'Nombre de lots', 'Type local', 'Surface reelle bati']\n",
    "\n",
    "# Lire le fichier en morceaux, par exemple, 100 000 lignes à la fois\n",
    "chunksize = 100000\n",
    "chunks = pd.read_csv(file_path3, delimiter='|', encoding='utf-8', chunksize=chunksize, usecols=cols_to_keep, low_memory=False)\n",
    "\n",
    "# Afficher les 5 premières lignes du premier morceau pour vérifier la structure\n",
    "for chunk in chunks:\n",
    "    print(chunk.head())\n",
    "    break  # On s'arrête après le premier morceau pour l'inspection"
   ]
  },
  {
   "cell_type": "code",
   "execution_count": 12,
   "id": "e6f2c6ad-d694-49a3-86a1-d3ed6b05383c",
   "metadata": {},
   "outputs": [
    {
     "name": "stderr",
     "output_type": "stream",
     "text": [
      "C:\\Users\\NEZHA\\AppData\\Local\\Temp\\ipykernel_1296\\418576703.py:24: FutureWarning: The behavior of DataFrame concatenation with empty or all-NA entries is deprecated. In a future version, this will no longer exclude empty or all-NA columns when determining the result dtypes. To retain the old behavior, exclude the relevant entries before the concat operation.\n",
      "  df_paris = pd.concat(df_paris_filtered)\n"
     ]
    },
    {
     "name": "stdout",
     "output_type": "stream",
     "text": [
      "         Identifiant de document  Reference document  1 Articles CGI  \\\n",
      "4342902                      NaN                 NaN             NaN   \n",
      "4342903                      NaN                 NaN             NaN   \n",
      "4342925                      NaN                 NaN             NaN   \n",
      "4343044                      NaN                 NaN             NaN   \n",
      "4343456                      NaN                 NaN             NaN   \n",
      "\n",
      "         2 Articles CGI  3 Articles CGI  4 Articles CGI  5 Articles CGI  \\\n",
      "4342902             NaN             NaN             NaN             NaN   \n",
      "4342903             NaN             NaN             NaN             NaN   \n",
      "4342925             NaN             NaN             NaN             NaN   \n",
      "4343044             NaN             NaN             NaN             NaN   \n",
      "4343456             NaN             NaN             NaN             NaN   \n",
      "\n",
      "         No disposition Date mutation Nature mutation Valeur fonciere  \\\n",
      "4342902               1    16/02/2021           Vente       641000,00   \n",
      "4342903               1    16/02/2021           Vente       641000,00   \n",
      "4342925               1    15/02/2021           Vente       100000,00   \n",
      "4343044               1    04/02/2021           Vente      1600876,00   \n",
      "4343456               1    19/02/2021           Vente       705000,00   \n",
      "\n",
      "         No voie B/T/Q Type de voie Code voie                     Voie  \\\n",
      "4342902     26.0   NaN          RUE      6660        NUNGESSER ET COLI   \n",
      "4342903     26.0   NaN          RUE      6660        NUNGESSER ET COLI   \n",
      "4342925      3.0   NaN          RUE      1480  DU CDT GUILBAUD A PARIS   \n",
      "4343044     14.0   NaN          RUE      6660        NUNGESSER ET COLI   \n",
      "4343456     11.0   NaN           AV      3520        FERDINAND BUISSON   \n",
      "\n",
      "         Code postal               Commune Code departement  Code commune  \\\n",
      "4342902      75016.0  BOULOGNE-BILLANCOURT               92            12   \n",
      "4342903      75016.0  BOULOGNE-BILLANCOURT               92            12   \n",
      "4342925      75016.0  BOULOGNE-BILLANCOURT               92            12   \n",
      "4343044      75016.0  BOULOGNE-BILLANCOURT               92            12   \n",
      "4343456      75016.0  BOULOGNE-BILLANCOURT               92            12   \n",
      "\n",
      "         Prefixe de section Section  No plan  No Volume 1er lot  \\\n",
      "4342902                 NaN       U       47        NaN      42   \n",
      "4342903                 NaN       U       47        NaN      42   \n",
      "4342925                 NaN       V       87        NaN      23   \n",
      "4343044                 NaN       T       34        NaN      83   \n",
      "4343456                 NaN      BO       63        NaN     144   \n",
      "\n",
      "        Surface Carrez du 1er lot 2eme lot Surface Carrez du 2eme lot  \\\n",
      "4342902                     58,08     43.0                        NaN   \n",
      "4342903                     58,08     43.0                        NaN   \n",
      "4342925                      8,15      NaN                        NaN   \n",
      "4343044                    131,40     84.0                        NaN   \n",
      "4343456                       NaN    186.0                      74,21   \n",
      "\n",
      "        3eme lot Surface Carrez du 3eme lot  4eme lot  \\\n",
      "4342902      NaN                        NaN       NaN   \n",
      "4342903      NaN                        NaN       NaN   \n",
      "4342925      NaN                        NaN       NaN   \n",
      "4343044      NaN                        NaN       NaN   \n",
      "4343456      NaN                        NaN       NaN   \n",
      "\n",
      "        Surface Carrez du 4eme lot  5eme lot Surface Carrez du 5eme lot  \\\n",
      "4342902                        NaN       NaN                        NaN   \n",
      "4342903                        NaN       NaN                        NaN   \n",
      "4342925                        NaN       NaN                        NaN   \n",
      "4343044                        NaN       NaN                        NaN   \n",
      "4343456                        NaN       NaN                        NaN   \n",
      "\n",
      "         Nombre de lots  Code type local   Type local  Identifiant local  \\\n",
      "4342902               2              2.0  Appartement                NaN   \n",
      "4342903               2              3.0   Dépendance                NaN   \n",
      "4342925               1              3.0   Dépendance                NaN   \n",
      "4343044               2              2.0  Appartement                NaN   \n",
      "4343456               2              2.0  Appartement                NaN   \n",
      "\n",
      "         Surface reelle bati  Nombre pieces principales Nature culture  \\\n",
      "4342902                 59.0                        2.0            NaN   \n",
      "4342903                  0.0                        0.0            NaN   \n",
      "4342925                  0.0                        0.0            NaN   \n",
      "4343044                133.0                        4.0            NaN   \n",
      "4343456                 75.0                        3.0            NaN   \n",
      "\n",
      "        Nature culture speciale  Surface terrain  \n",
      "4342902                     NaN              NaN  \n",
      "4342903                     NaN              NaN  \n",
      "4342925                     NaN              NaN  \n",
      "4343044                     NaN              NaN  \n",
      "4343456                     NaN              NaN  \n"
     ]
    }
   ],
   "source": [
    "import pandas as pd\n",
    "\n",
    "# Chemin du fichier\n",
    "file_path3 = 'C:/Users/NEZHA/OneDrive/Documents/DVF/ValeursFoncieres-2021.txt'\n",
    "\n",
    "# Taille du morceau (par exemple, 100 000 lignes par morceau)\n",
    "chunk_size = 100000\n",
    "\n",
    "# Liste pour stocker les morceaux filtrés\n",
    "df_paris_filtered = []\n",
    "\n",
    "# Lire le fichier par morceaux\n",
    "chunks = pd.read_csv(file_path3, delimiter='|', encoding='utf-8', chunksize=chunk_size, low_memory=False)\n",
    "\n",
    "# Filtrer et ajouter les morceaux filtrés\n",
    "for chunk in chunks:\n",
    "    # Filtrer pour Paris (codes postaux entre 75000 et 75020)\n",
    "    df_paris_chunk = chunk[chunk['Code postal'].between(75000, 75020)]\n",
    "    \n",
    "    # Ajouter le morceau filtré à la liste\n",
    "    df_paris_filtered.append(df_paris_chunk)\n",
    "\n",
    "# Combiner tous les morceaux filtrés en un seul DataFrame\n",
    "df_paris = pd.concat(df_paris_filtered)\n",
    "\n",
    "# Vérifier les premières lignes du DataFrame filtré\n",
    "print(df_paris.head())\n",
    "\n",
    "# Option d'affichage des colonnes (pour s'assurer que tout est visible)\n",
    "pd.set_option('display.max_columns', None)"
   ]
  },
  {
   "cell_type": "code",
   "execution_count": 13,
   "id": "9d3d4e80-f3ef-47a8-8356-a290a3bffb62",
   "metadata": {},
   "outputs": [
    {
     "name": "stderr",
     "output_type": "stream",
     "text": [
      "C:\\Users\\NEZHA\\AppData\\Local\\Temp\\ipykernel_1296\\2365508696.py:21: UserWarning: Parsing dates in %d/%m/%Y format when dayfirst=False (the default) was specified. Pass `dayfirst=True` or specify a format to silence this warning.\n",
      "  df_paris_chunk['Date mutation'] = pd.to_datetime(df_paris_chunk['Date mutation'], errors='coerce')\n",
      "C:\\Users\\NEZHA\\AppData\\Local\\Temp\\ipykernel_1296\\2365508696.py:21: SettingWithCopyWarning: \n",
      "A value is trying to be set on a copy of a slice from a DataFrame.\n",
      "Try using .loc[row_indexer,col_indexer] = value instead\n",
      "\n",
      "See the caveats in the documentation: https://pandas.pydata.org/pandas-docs/stable/user_guide/indexing.html#returning-a-view-versus-a-copy\n",
      "  df_paris_chunk['Date mutation'] = pd.to_datetime(df_paris_chunk['Date mutation'], errors='coerce')\n",
      "C:\\Users\\NEZHA\\AppData\\Local\\Temp\\ipykernel_1296\\2365508696.py:24: SettingWithCopyWarning: \n",
      "A value is trying to be set on a copy of a slice from a DataFrame.\n",
      "Try using .loc[row_indexer,col_indexer] = value instead\n",
      "\n",
      "See the caveats in the documentation: https://pandas.pydata.org/pandas-docs/stable/user_guide/indexing.html#returning-a-view-versus-a-copy\n",
      "  df_paris_chunk['Année'] = df_paris_chunk['Date mutation'].dt.year\n",
      "C:\\Users\\NEZHA\\AppData\\Local\\Temp\\ipykernel_1296\\2365508696.py:21: SettingWithCopyWarning: \n",
      "A value is trying to be set on a copy of a slice from a DataFrame.\n",
      "Try using .loc[row_indexer,col_indexer] = value instead\n",
      "\n",
      "See the caveats in the documentation: https://pandas.pydata.org/pandas-docs/stable/user_guide/indexing.html#returning-a-view-versus-a-copy\n",
      "  df_paris_chunk['Date mutation'] = pd.to_datetime(df_paris_chunk['Date mutation'], errors='coerce')\n",
      "C:\\Users\\NEZHA\\AppData\\Local\\Temp\\ipykernel_1296\\2365508696.py:24: SettingWithCopyWarning: \n",
      "A value is trying to be set on a copy of a slice from a DataFrame.\n",
      "Try using .loc[row_indexer,col_indexer] = value instead\n",
      "\n",
      "See the caveats in the documentation: https://pandas.pydata.org/pandas-docs/stable/user_guide/indexing.html#returning-a-view-versus-a-copy\n",
      "  df_paris_chunk['Année'] = df_paris_chunk['Date mutation'].dt.year\n",
      "C:\\Users\\NEZHA\\AppData\\Local\\Temp\\ipykernel_1296\\2365508696.py:21: UserWarning: Parsing dates in %d/%m/%Y format when dayfirst=False (the default) was specified. Pass `dayfirst=True` or specify a format to silence this warning.\n",
      "  df_paris_chunk['Date mutation'] = pd.to_datetime(df_paris_chunk['Date mutation'], errors='coerce')\n",
      "C:\\Users\\NEZHA\\AppData\\Local\\Temp\\ipykernel_1296\\2365508696.py:21: SettingWithCopyWarning: \n",
      "A value is trying to be set on a copy of a slice from a DataFrame.\n",
      "Try using .loc[row_indexer,col_indexer] = value instead\n",
      "\n",
      "See the caveats in the documentation: https://pandas.pydata.org/pandas-docs/stable/user_guide/indexing.html#returning-a-view-versus-a-copy\n",
      "  df_paris_chunk['Date mutation'] = pd.to_datetime(df_paris_chunk['Date mutation'], errors='coerce')\n",
      "C:\\Users\\NEZHA\\AppData\\Local\\Temp\\ipykernel_1296\\2365508696.py:24: SettingWithCopyWarning: \n",
      "A value is trying to be set on a copy of a slice from a DataFrame.\n",
      "Try using .loc[row_indexer,col_indexer] = value instead\n",
      "\n",
      "See the caveats in the documentation: https://pandas.pydata.org/pandas-docs/stable/user_guide/indexing.html#returning-a-view-versus-a-copy\n",
      "  df_paris_chunk['Année'] = df_paris_chunk['Date mutation'].dt.year\n",
      "C:\\Users\\NEZHA\\AppData\\Local\\Temp\\ipykernel_1296\\2365508696.py:30: FutureWarning: The behavior of DataFrame concatenation with empty or all-NA entries is deprecated. In a future version, this will no longer exclude empty or all-NA columns when determining the result dtypes. To retain the old behavior, exclude the relevant entries before the concat operation.\n",
      "  df_paris = pd.concat(df_paris_filtered)\n"
     ]
    },
    {
     "name": "stdout",
     "output_type": "stream",
     "text": [
      "        Date mutation   Année\n",
      "4342902    2021-02-16  2021.0\n",
      "4342903    2021-02-16  2021.0\n",
      "4342925    2021-02-15  2021.0\n",
      "4343044    2021-02-04  2021.0\n",
      "4343456    2021-02-19  2021.0\n"
     ]
    }
   ],
   "source": [
    "import pandas as pd\n",
    "\n",
    "# Chemin du fichier\n",
    "file_path3 = 'C:/Users/NEZHA/OneDrive/Documents/DVF/ValeursFoncieres-2021.txt'\n",
    "\n",
    "# Taille du morceau (par exemple, 100 000 lignes par morceau)\n",
    "chunk_size = 100000\n",
    "\n",
    "# Liste pour stocker les morceaux filtrés et traités\n",
    "df_paris_filtered = []\n",
    "\n",
    "# Lire le fichier par morceaux\n",
    "chunks = pd.read_csv(file_path3, delimiter='|', encoding='utf-8', chunksize=chunk_size, low_memory=False)\n",
    "\n",
    "# Filtrer, convertir et ajouter les morceaux traités\n",
    "for chunk in chunks:\n",
    "    # Filtrer pour Paris (codes postaux entre 75000 et 75020)\n",
    "    df_paris_chunk = chunk[chunk['Code postal'].between(75000, 75020)]\n",
    "\n",
    "    # Convertir la colonne 'Date mutation' en datetime\n",
    "    df_paris_chunk['Date mutation'] = pd.to_datetime(df_paris_chunk['Date mutation'], errors='coerce')\n",
    "\n",
    "    # Extraire l'année après conversion\n",
    "    df_paris_chunk['Année'] = df_paris_chunk['Date mutation'].dt.year\n",
    "\n",
    "    # Ajouter le morceau traité à la liste\n",
    "    df_paris_filtered.append(df_paris_chunk)\n",
    "\n",
    "# Combiner tous les morceaux filtrés et traités en un seul DataFrame\n",
    "df_paris = pd.concat(df_paris_filtered)\n",
    "\n",
    "# Vérifier les résultats\n",
    "print(df_paris[['Date mutation', 'Année']].head())"
   ]
  },
  {
   "cell_type": "code",
   "execution_count": 14,
   "id": "8b508ee6-e16a-4c3e-ba79-9b283f9e4a9e",
   "metadata": {},
   "outputs": [
    {
     "name": "stdout",
     "output_type": "stream",
     "text": [
      "float64\n",
      "         Valeur fonciere\n",
      "4342902         641000.0\n",
      "4342903         641000.0\n",
      "4342925         100000.0\n",
      "4343044        1600876.0\n",
      "4343456         705000.0\n"
     ]
    }
   ],
   "source": [
    "# Créer une copie de df_paris pour éviter la vue et travailler directement sur la copie\n",
    "df_paris_copy = df_paris.copy()\n",
    "\n",
    "# Remplacer les virgules par des points dans 'Valeur fonciere'\n",
    "df_paris_copy['Valeur fonciere'] = df_paris_copy['Valeur fonciere'].replace({',': '.'}, regex=True)\n",
    "\n",
    "# Convertir la colonne 'Valeur fonciere' en numérique, en forçant les erreurs à NaN\n",
    "df_paris_copy['Valeur fonciere'] = pd.to_numeric(df_paris_copy['Valeur fonciere'], errors='coerce')\n",
    "\n",
    "# Vérifier le type des données et s'assurer que la conversion a fonctionné\n",
    "print(df_paris_copy['Valeur fonciere'].dtype)  # Cela doit afficher 'float64' ou un type numérique\n",
    "\n",
    "# Vérifier les premières lignes après la conversion\n",
    "print(df_paris_copy[['Valeur fonciere']].head())\n"
   ]
  },
  {
   "cell_type": "code",
   "execution_count": 15,
   "id": "e1933cd9-93c6-4fb3-bc14-271c9f4ffb28",
   "metadata": {},
   "outputs": [
    {
     "name": "stdout",
     "output_type": "stream",
     "text": [
      "         Valeur fonciere\n",
      "4343044        1600876.0\n",
      "4359106        1082470.0\n",
      "4359107        1082470.0\n",
      "4359108        1082470.0\n",
      "4591045        1480000.0\n"
     ]
    }
   ],
   "source": [
    "# Filtrer les transactions dont la valeur foncière est plus élevée que 1 million\n",
    "high_value_transactions = df_paris_copy[df_paris_copy['Valeur fonciere'] > 1000000]\n",
    "\n",
    "# Afficher les premières lignes des transactions avec des valeurs élevées\n",
    "print(high_value_transactions[['Valeur fonciere']].head())"
   ]
  },
  {
   "cell_type": "code",
   "execution_count": 16,
   "id": "367a59b3-77bc-45d1-86e8-b5d0f1f6f207",
   "metadata": {},
   "outputs": [
    {
     "name": "stdout",
     "output_type": "stream",
     "text": [
      "Année\n",
      "2021.0    10865.6187\n",
      "Name: Prix_m2, dtype: float64\n"
     ]
    }
   ],
   "source": [
    "# Vérifier si la surface réelle est présente et valide\n",
    "df_paris_copy['Prix_m2'] = df_paris_copy['Valeur fonciere'] / df_paris_copy['Surface reelle bati']\n",
    "\n",
    "# Filtrer les valeurs de prix par m² raisonnables (par exemple, exclure les valeurs de surface ou prix aberrants)\n",
    "df_paris_filtered_m2 = df_paris_copy[df_paris_copy['Prix_m2'] < 30000]  \n",
    "\n",
    "# Recalculer la moyenne des prix au m² par année après filtrage\n",
    "prix_moyen_par_annee_m2 = df_paris_filtered_m2.groupby('Année')['Prix_m2'].mean()\n",
    "\n",
    "# Afficher les prix moyens par m² par année\n",
    "print(prix_moyen_par_annee_m2)"
   ]
  },
  {
   "cell_type": "markdown",
   "id": "180eda1f-2774-45ca-a431-896a93c53d01",
   "metadata": {},
   "source": [
    "# Analyse 2022 (année complète)"
   ]
  },
  {
   "cell_type": "code",
   "execution_count": 19,
   "id": "ddf65e1b-07aa-4c9c-b85d-1d85dcdca5e2",
   "metadata": {},
   "outputs": [
    {
     "name": "stdout",
     "output_type": "stream",
     "text": [
      "  Date mutation Valeur fonciere  Code postal            Commune  \\\n",
      "0    03/01/2022        55000,00       1000.0    BOURG-EN-BRESSE   \n",
      "1    03/01/2022       143000,00       1480.0          SAVIGNEUX   \n",
      "2    03/01/2022       143000,00       1480.0          SAVIGNEUX   \n",
      "3    03/01/2022       143000,00       1480.0          SAVIGNEUX   \n",
      "4    04/01/2022          300,00       1480.0  MESSIMY SUR SAONE   \n",
      "\n",
      "  Surface Carrez du 1er lot  Nombre de lots   Type local  Surface reelle bati  \n",
      "0                     24,10               1  Appartement                 24.0  \n",
      "1                       NaN               0          NaN                  NaN  \n",
      "2                       NaN               0          NaN                  NaN  \n",
      "3                    123,23               1  Appartement                140.0  \n",
      "4                       NaN               0          NaN                  NaN  \n"
     ]
    }
   ],
   "source": [
    "import pandas as pd\n",
    "# Spécifie le chemin du fichier\n",
    "file_path4 = 'C:/Users/NEZHA/OneDrive/Documents/DVF/ValeursFoncieres-2022.txt'\n",
    "\n",
    "# Liste des colonnes à conserver\n",
    "cols_to_keep = ['Date mutation', 'Valeur fonciere', 'Code postal', 'Commune', \n",
    "                'Surface Carrez du 1er lot', 'Nombre de lots', 'Type local', 'Surface reelle bati']\n",
    "\n",
    "# Lire le fichier en morceaux, par exemple, 100 000 lignes à la fois\n",
    "chunksize = 100000\n",
    "chunks = pd.read_csv(file_path4, delimiter='|', encoding='utf-8', chunksize=chunksize, usecols=cols_to_keep, low_memory=False)\n",
    "\n",
    "# Afficher les 5 premières lignes du premier morceau pour vérifier la structure\n",
    "for chunk in chunks:\n",
    "    print(chunk.head())\n",
    "    break  # On s'arrête après le premier morceau pour l'inspection"
   ]
  },
  {
   "cell_type": "code",
   "execution_count": 20,
   "id": "2af49174-6fee-4fca-9b54-6b3244cd7e4c",
   "metadata": {},
   "outputs": [
    {
     "name": "stdout",
     "output_type": "stream",
     "text": [
      "         Identifiant de document  Reference document  1 Articles CGI  \\\n",
      "4319312                      NaN                 NaN             NaN   \n",
      "4319313                      NaN                 NaN             NaN   \n",
      "4320333                      NaN                 NaN             NaN   \n",
      "4320945                      NaN                 NaN             NaN   \n",
      "4320987                      NaN                 NaN             NaN   \n",
      "\n",
      "         2 Articles CGI  3 Articles CGI  4 Articles CGI  5 Articles CGI  \\\n",
      "4319312             NaN             NaN             NaN             NaN   \n",
      "4319313             NaN             NaN             NaN             NaN   \n",
      "4320333             NaN             NaN             NaN             NaN   \n",
      "4320945             NaN             NaN             NaN             NaN   \n",
      "4320987             NaN             NaN             NaN             NaN   \n",
      "\n",
      "         No disposition Date mutation Nature mutation Valeur fonciere  \\\n",
      "4319312               1    20/01/2022           Vente       686000,00   \n",
      "4319313               1    20/01/2022           Vente       686000,00   \n",
      "4320333               1    18/01/2022           Vente        40000,00   \n",
      "4320945               1    03/02/2022           Vente       400000,00   \n",
      "4320987               1    04/02/2022           Vente        19200,00   \n",
      "\n",
      "         No voie B/T/Q Type de voie Code voie               Voie  Code postal  \\\n",
      "4319312     28.0   NaN          RUE      6660  NUNGESSER ET COLI      75016.0   \n",
      "4319313     28.0   NaN          RUE      6660  NUNGESSER ET COLI      75016.0   \n",
      "4320333     35.0   NaN           AV      3520  FERDINAND BUISSON      75016.0   \n",
      "4320945     18.0   NaN          RUE      6660  NUNGESSER ET COLI      75016.0   \n",
      "4320987     17.0   NaN           AV      3520  FERDINAND BUISSON      75016.0   \n",
      "\n",
      "                      Commune Code departement  Code commune  \\\n",
      "4319312  BOULOGNE-BILLANCOURT               92            12   \n",
      "4319313  BOULOGNE-BILLANCOURT               92            12   \n",
      "4320333  BOULOGNE-BILLANCOURT               92            12   \n",
      "4320945  BOULOGNE-BILLANCOURT               92            12   \n",
      "4320987  BOULOGNE-BILLANCOURT               92            12   \n",
      "\n",
      "         Prefixe de section Section  No plan  No Volume 1er lot  \\\n",
      "4319312                 NaN       U       48        NaN      10   \n",
      "4319313                 NaN       U       48        NaN      10   \n",
      "4320333                 NaN      AS       81        NaN      97   \n",
      "4320945                 NaN       U       44        NaN      26   \n",
      "4320987                 NaN      AT       99        NaN     468   \n",
      "\n",
      "        Surface Carrez du 1er lot 2eme lot Surface Carrez du 2eme lot  \\\n",
      "4319312                     73,45      NaN                        NaN   \n",
      "4319313                     73,45      NaN                        NaN   \n",
      "4320333                       NaN      NaN                        NaN   \n",
      "4320945                     41,16      NaN                        NaN   \n",
      "4320987                       NaN      NaN                        NaN   \n",
      "\n",
      "         3eme lot Surface Carrez du 3eme lot  4eme lot  \\\n",
      "4319312       NaN                        NaN       NaN   \n",
      "4319313       NaN                        NaN       NaN   \n",
      "4320333       NaN                        NaN       NaN   \n",
      "4320945       NaN                        NaN       NaN   \n",
      "4320987       NaN                        NaN       NaN   \n",
      "\n",
      "        Surface Carrez du 4eme lot  5eme lot Surface Carrez du 5eme lot  \\\n",
      "4319312                        NaN       NaN                        NaN   \n",
      "4319313                        NaN       NaN                        NaN   \n",
      "4320333                        NaN       NaN                        NaN   \n",
      "4320945                        NaN       NaN                        NaN   \n",
      "4320987                        NaN       NaN                        NaN   \n",
      "\n",
      "         Nombre de lots  Code type local   Type local  Identifiant local  \\\n",
      "4319312               1              3.0   Dépendance                NaN   \n",
      "4319313               1              2.0  Appartement                NaN   \n",
      "4320333               1              3.0   Dépendance                NaN   \n",
      "4320945               1              2.0  Appartement                NaN   \n",
      "4320987               1              3.0   Dépendance                NaN   \n",
      "\n",
      "         Surface reelle bati  Nombre pieces principales Nature culture  \\\n",
      "4319312                  0.0                        0.0            NaN   \n",
      "4319313                 72.0                        4.0            NaN   \n",
      "4320333                  0.0                        0.0            NaN   \n",
      "4320945                 42.0                        2.0            NaN   \n",
      "4320987                  0.0                        0.0            NaN   \n",
      "\n",
      "        Nature culture speciale  Surface terrain  \n",
      "4319312                     NaN              NaN  \n",
      "4319313                     NaN              NaN  \n",
      "4320333                     NaN              NaN  \n",
      "4320945                     NaN              NaN  \n",
      "4320987                     NaN              NaN  \n"
     ]
    },
    {
     "name": "stderr",
     "output_type": "stream",
     "text": [
      "C:\\Users\\NEZHA\\AppData\\Local\\Temp\\ipykernel_1296\\3978145125.py:24: FutureWarning: The behavior of DataFrame concatenation with empty or all-NA entries is deprecated. In a future version, this will no longer exclude empty or all-NA columns when determining the result dtypes. To retain the old behavior, exclude the relevant entries before the concat operation.\n",
      "  df_paris = pd.concat(df_paris_filtered)\n"
     ]
    }
   ],
   "source": [
    "import pandas as pd\n",
    "\n",
    "# Chemin du fichier\n",
    "file_path4 = 'C:/Users/NEZHA/OneDrive/Documents/DVF/ValeursFoncieres-2022.txt'\n",
    "\n",
    "# Taille du morceau (par exemple, 100 000 lignes par morceau)\n",
    "chunk_size = 100000\n",
    "\n",
    "# Liste pour stocker les morceaux filtrés\n",
    "df_paris_filtered = []\n",
    "\n",
    "# Lire le fichier par morceaux\n",
    "chunks = pd.read_csv(file_path4, delimiter='|', encoding='utf-8', chunksize=chunk_size, low_memory=False)\n",
    "\n",
    "# Filtrer et ajouter les morceaux filtrés\n",
    "for chunk in chunks:\n",
    "    # Filtrer pour Paris (codes postaux entre 75000 et 75020)\n",
    "    df_paris_chunk = chunk[chunk['Code postal'].between(75000, 75020)]\n",
    "    \n",
    "    # Ajouter le morceau filtré à la liste\n",
    "    df_paris_filtered.append(df_paris_chunk)\n",
    "\n",
    "# Combiner tous les morceaux filtrés en un seul DataFrame\n",
    "df_paris = pd.concat(df_paris_filtered)\n",
    "\n",
    "# Vérifier les premières lignes du DataFrame filtré\n",
    "print(df_paris.head())\n",
    "\n",
    "# Option d'affichage des colonnes (pour s'assurer que tout est visible)\n",
    "pd.set_option('display.max_columns', None)"
   ]
  },
  {
   "cell_type": "code",
   "execution_count": 23,
   "id": "0d9a148f-c6b2-4d15-b8a8-def9ed83f904",
   "metadata": {},
   "outputs": [
    {
     "name": "stderr",
     "output_type": "stream",
     "text": [
      "C:\\Users\\NEZHA\\AppData\\Local\\Temp\\ipykernel_1296\\366974179.py:21: UserWarning: Parsing dates in %d/%m/%Y format when dayfirst=False (the default) was specified. Pass `dayfirst=True` or specify a format to silence this warning.\n",
      "  df_paris_chunk['Date mutation'] = pd.to_datetime(df_paris_chunk['Date mutation'], errors='coerce')\n",
      "C:\\Users\\NEZHA\\AppData\\Local\\Temp\\ipykernel_1296\\366974179.py:21: SettingWithCopyWarning: \n",
      "A value is trying to be set on a copy of a slice from a DataFrame.\n",
      "Try using .loc[row_indexer,col_indexer] = value instead\n",
      "\n",
      "See the caveats in the documentation: https://pandas.pydata.org/pandas-docs/stable/user_guide/indexing.html#returning-a-view-versus-a-copy\n",
      "  df_paris_chunk['Date mutation'] = pd.to_datetime(df_paris_chunk['Date mutation'], errors='coerce')\n",
      "C:\\Users\\NEZHA\\AppData\\Local\\Temp\\ipykernel_1296\\366974179.py:24: SettingWithCopyWarning: \n",
      "A value is trying to be set on a copy of a slice from a DataFrame.\n",
      "Try using .loc[row_indexer,col_indexer] = value instead\n",
      "\n",
      "See the caveats in the documentation: https://pandas.pydata.org/pandas-docs/stable/user_guide/indexing.html#returning-a-view-versus-a-copy\n",
      "  df_paris_chunk['Année'] = df_paris_chunk['Date mutation'].dt.year\n",
      "C:\\Users\\NEZHA\\AppData\\Local\\Temp\\ipykernel_1296\\366974179.py:21: SettingWithCopyWarning: \n",
      "A value is trying to be set on a copy of a slice from a DataFrame.\n",
      "Try using .loc[row_indexer,col_indexer] = value instead\n",
      "\n",
      "See the caveats in the documentation: https://pandas.pydata.org/pandas-docs/stable/user_guide/indexing.html#returning-a-view-versus-a-copy\n",
      "  df_paris_chunk['Date mutation'] = pd.to_datetime(df_paris_chunk['Date mutation'], errors='coerce')\n",
      "C:\\Users\\NEZHA\\AppData\\Local\\Temp\\ipykernel_1296\\366974179.py:24: SettingWithCopyWarning: \n",
      "A value is trying to be set on a copy of a slice from a DataFrame.\n",
      "Try using .loc[row_indexer,col_indexer] = value instead\n",
      "\n",
      "See the caveats in the documentation: https://pandas.pydata.org/pandas-docs/stable/user_guide/indexing.html#returning-a-view-versus-a-copy\n",
      "  df_paris_chunk['Année'] = df_paris_chunk['Date mutation'].dt.year\n"
     ]
    },
    {
     "name": "stdout",
     "output_type": "stream",
     "text": [
      "        Date mutation   Année\n",
      "4319312    2022-01-20  2022.0\n",
      "4319313    2022-01-20  2022.0\n",
      "4320333    2022-01-18  2022.0\n",
      "4320945    2022-02-03  2022.0\n",
      "4320987    2022-02-04  2022.0\n"
     ]
    },
    {
     "name": "stderr",
     "output_type": "stream",
     "text": [
      "C:\\Users\\NEZHA\\AppData\\Local\\Temp\\ipykernel_1296\\366974179.py:21: SettingWithCopyWarning: \n",
      "A value is trying to be set on a copy of a slice from a DataFrame.\n",
      "Try using .loc[row_indexer,col_indexer] = value instead\n",
      "\n",
      "See the caveats in the documentation: https://pandas.pydata.org/pandas-docs/stable/user_guide/indexing.html#returning-a-view-versus-a-copy\n",
      "  df_paris_chunk['Date mutation'] = pd.to_datetime(df_paris_chunk['Date mutation'], errors='coerce')\n",
      "C:\\Users\\NEZHA\\AppData\\Local\\Temp\\ipykernel_1296\\366974179.py:24: SettingWithCopyWarning: \n",
      "A value is trying to be set on a copy of a slice from a DataFrame.\n",
      "Try using .loc[row_indexer,col_indexer] = value instead\n",
      "\n",
      "See the caveats in the documentation: https://pandas.pydata.org/pandas-docs/stable/user_guide/indexing.html#returning-a-view-versus-a-copy\n",
      "  df_paris_chunk['Année'] = df_paris_chunk['Date mutation'].dt.year\n",
      "C:\\Users\\NEZHA\\AppData\\Local\\Temp\\ipykernel_1296\\366974179.py:30: FutureWarning: The behavior of DataFrame concatenation with empty or all-NA entries is deprecated. In a future version, this will no longer exclude empty or all-NA columns when determining the result dtypes. To retain the old behavior, exclude the relevant entries before the concat operation.\n",
      "  df_paris = pd.concat(df_paris_filtered)\n"
     ]
    }
   ],
   "source": [
    "import pandas as pd\n",
    "\n",
    "# Chemin du fichier\n",
    "file_path4 = 'C:/Users/NEZHA/OneDrive/Documents/DVF/ValeursFoncieres-2022.txt'\n",
    "\n",
    "# Taille du morceau (par exemple, 100 000 lignes par morceau)\n",
    "chunk_size = 100000\n",
    "\n",
    "# Liste pour stocker les morceaux filtrés et traités\n",
    "df_paris_filtered = []\n",
    "\n",
    "# Lire le fichier par morceaux\n",
    "chunks = pd.read_csv(file_path4, delimiter='|', encoding='utf-8', chunksize=chunk_size, low_memory=False)\n",
    "\n",
    "# Filtrer, convertir et ajouter les morceaux traités\n",
    "for chunk in chunks:\n",
    "    # Filtrer pour Paris (codes postaux entre 75000 et 75020)\n",
    "    df_paris_chunk = chunk[chunk['Code postal'].between(75000, 75020)]\n",
    "\n",
    "    # Convertir la colonne 'Date mutation' en datetime\n",
    "    df_paris_chunk['Date mutation'] = pd.to_datetime(df_paris_chunk['Date mutation'], errors='coerce')\n",
    "\n",
    "    # Extraire l'année après conversion\n",
    "    df_paris_chunk['Année'] = df_paris_chunk['Date mutation'].dt.year\n",
    "\n",
    "    # Ajouter le morceau traité à la liste\n",
    "    df_paris_filtered.append(df_paris_chunk)\n",
    "\n",
    "# Combiner tous les morceaux filtrés et traités en un seul DataFrame\n",
    "df_paris = pd.concat(df_paris_filtered)\n",
    "\n",
    "# Vérifier les résultats\n",
    "print(df_paris[['Date mutation', 'Année']].head())"
   ]
  },
  {
   "cell_type": "code",
   "execution_count": 24,
   "id": "2c8aa94b-4af5-4faf-b40c-feff6af94ac0",
   "metadata": {},
   "outputs": [
    {
     "name": "stdout",
     "output_type": "stream",
     "text": [
      "float64\n",
      "         Valeur fonciere\n",
      "4319312         686000.0\n",
      "4319313         686000.0\n",
      "4320333          40000.0\n",
      "4320945         400000.0\n",
      "4320987          19200.0\n"
     ]
    }
   ],
   "source": [
    "# Créer une copie de df_paris pour éviter la vue et travailler directement sur la copie\n",
    "df_paris_copy = df_paris.copy()\n",
    "\n",
    "# Remplacer les virgules par des points dans 'Valeur fonciere'\n",
    "df_paris_copy['Valeur fonciere'] = df_paris_copy['Valeur fonciere'].replace({',': '.'}, regex=True)\n",
    "\n",
    "# Convertir la colonne 'Valeur fonciere' en numérique, en forçant les erreurs à NaN\n",
    "df_paris_copy['Valeur fonciere'] = pd.to_numeric(df_paris_copy['Valeur fonciere'], errors='coerce')\n",
    "\n",
    "# Vérifier le type des données et s'assurer que la conversion a fonctionné\n",
    "print(df_paris_copy['Valeur fonciere'].dtype)  # Cela doit afficher 'float64' ou un type numérique\n",
    "\n",
    "# Vérifier les premières lignes après la conversion\n",
    "print(df_paris_copy[['Valeur fonciere']].head())\n"
   ]
  },
  {
   "cell_type": "code",
   "execution_count": 25,
   "id": "fe700c87-427b-42ce-9737-ee54bb04bb76",
   "metadata": {},
   "outputs": [
    {
     "name": "stdout",
     "output_type": "stream",
     "text": [
      "         Valeur fonciere\n",
      "4330248        2565900.0\n",
      "4330249        2565900.0\n",
      "4330250        2565900.0\n",
      "4330251        2565900.0\n",
      "4337226        1069750.0\n"
     ]
    }
   ],
   "source": [
    "# Filtrer les transactions dont la valeur foncière est plus élevée que 1 million\n",
    "high_value_transactions = df_paris_copy[df_paris_copy['Valeur fonciere'] > 1000000]\n",
    "\n",
    "# Afficher les premières lignes des transactions avec des valeurs élevées\n",
    "print(high_value_transactions[['Valeur fonciere']].head())"
   ]
  },
  {
   "cell_type": "code",
   "execution_count": 26,
   "id": "2327671b-f1b9-4f3a-8873-99d67dd99016",
   "metadata": {},
   "outputs": [
    {
     "name": "stdout",
     "output_type": "stream",
     "text": [
      "Année\n",
      "2022.0    11023.74618\n",
      "Name: Prix_m2, dtype: float64\n"
     ]
    }
   ],
   "source": [
    "# Vérifier si la surface réelle est présente et valide\n",
    "df_paris_copy['Prix_m2'] = df_paris_copy['Valeur fonciere'] / df_paris_copy['Surface reelle bati']\n",
    "\n",
    "# Filtrer les valeurs de prix par m² raisonnables (par exemple, exclure les valeurs de surface ou prix aberrants)\n",
    "df_paris_filtered_m2 = df_paris_copy[df_paris_copy['Prix_m2'] < 30000]  \n",
    "\n",
    "# Recalculer la moyenne des prix au m² par année après filtrage\n",
    "prix_moyen_par_annee_m2 = df_paris_filtered_m2.groupby('Année')['Prix_m2'].mean()\n",
    "\n",
    "# Afficher les prix moyens par m² par année\n",
    "print(prix_moyen_par_annee_m2)"
   ]
  },
  {
   "cell_type": "markdown",
   "id": "de56a4aa-c00b-4cca-879a-c3aa730d7123",
   "metadata": {},
   "source": [
    "# Analyse 2023 (année complète)"
   ]
  },
  {
   "cell_type": "code",
   "execution_count": 27,
   "id": "27c03463-b694-4e04-9611-8845e7365c17",
   "metadata": {},
   "outputs": [
    {
     "name": "stdout",
     "output_type": "stream",
     "text": [
      "  Date mutation Valeur fonciere  Code postal              Commune  \\\n",
      "0    05/01/2023      1070000,00       1630.0     ST-GENIS-POUILLY   \n",
      "1    05/01/2023      1070000,00       1630.0     ST-GENIS-POUILLY   \n",
      "2    05/01/2023      1070000,00       1630.0     ST-GENIS-POUILLY   \n",
      "3    03/01/2023       152200,00       1450.0    SERRIERES-SUR-AIN   \n",
      "4    05/01/2023       269000,00       1800.0  SAINT-JEAN-DE-NIOST   \n",
      "\n",
      "  Surface Carrez du 1er lot  Nombre de lots   Type local  Surface reelle bati  \n",
      "0                       NaN               1   Dépendance                  0.0  \n",
      "1                       NaN               1  Appartement                233.0  \n",
      "2                       NaN               1   Dépendance                  0.0  \n",
      "3                       NaN               0       Maison                 64.0  \n",
      "4                       NaN               0       Maison                 73.0  \n"
     ]
    }
   ],
   "source": [
    "import pandas as pd\n",
    "# Spécifie le chemin du fichier\n",
    "file_path5 = 'C:/Users/NEZHA/OneDrive/Documents/DVF/ValeursFoncieres-2023.txt'\n",
    "\n",
    "# Liste des colonnes à conserver\n",
    "cols_to_keep = ['Date mutation', 'Valeur fonciere', 'Code postal', 'Commune', \n",
    "                'Surface Carrez du 1er lot', 'Nombre de lots', 'Type local', 'Surface reelle bati']\n",
    "\n",
    "# Lire le fichier en morceaux, par exemple, 100 000 lignes à la fois\n",
    "chunksize = 100000\n",
    "chunks = pd.read_csv(file_path5, delimiter='|', encoding='utf-8', chunksize=chunksize, usecols=cols_to_keep, low_memory=False)\n",
    "\n",
    "# Afficher les 5 premières lignes du premier morceau pour vérifier la structure\n",
    "for chunk in chunks:\n",
    "    print(chunk.head())\n",
    "    break  # On s'arrête après le premier morceau pour l'inspection"
   ]
  },
  {
   "cell_type": "code",
   "execution_count": 28,
   "id": "684571b5-2612-4620-869e-e77870274ddf",
   "metadata": {},
   "outputs": [
    {
     "name": "stderr",
     "output_type": "stream",
     "text": [
      "C:\\Users\\NEZHA\\AppData\\Local\\Temp\\ipykernel_1296\\3145160703.py:24: FutureWarning: The behavior of DataFrame concatenation with empty or all-NA entries is deprecated. In a future version, this will no longer exclude empty or all-NA columns when determining the result dtypes. To retain the old behavior, exclude the relevant entries before the concat operation.\n",
      "  df_paris = pd.concat(df_paris_filtered)\n"
     ]
    },
    {
     "name": "stdout",
     "output_type": "stream",
     "text": [
      "         Identifiant de document  Reference document  1 Articles CGI  \\\n",
      "3507403                      NaN                 NaN             NaN   \n",
      "3507404                      NaN                 NaN             NaN   \n",
      "3507462                      NaN                 NaN             NaN   \n",
      "3509871                      NaN                 NaN             NaN   \n",
      "3511591                      NaN                 NaN             NaN   \n",
      "\n",
      "         2 Articles CGI  3 Articles CGI  4 Articles CGI  5 Articles CGI  \\\n",
      "3507403             NaN             NaN             NaN             NaN   \n",
      "3507404             NaN             NaN             NaN             NaN   \n",
      "3507462             NaN             NaN             NaN             NaN   \n",
      "3509871             NaN             NaN             NaN             NaN   \n",
      "3511591             NaN             NaN             NaN             NaN   \n",
      "\n",
      "         No disposition Date mutation Nature mutation Valeur fonciere  \\\n",
      "3507403               1    13/01/2023           Vente       250000,00   \n",
      "3507404               1    13/01/2023           Vente       250000,00   \n",
      "3507462               1    18/01/2023           Vente        22000,00   \n",
      "3509871               1    02/02/2023           Vente        27000,00   \n",
      "3511591               1    01/03/2023           Vente       339550,00   \n",
      "\n",
      "         No voie B/T/Q Type de voie Code voie                 Voie  \\\n",
      "3507403     10.0   NaN          RUE      6195  D ORADOUR SUR GLANE   \n",
      "3507404      2.0   NaN          RUE      6195  D ORADOUR SUR GLANE   \n",
      "3507462      2.0   NaN          RUE      6195  D ORADOUR SUR GLANE   \n",
      "3509871     35.0   NaN           AV      3520    FERDINAND BUISSON   \n",
      "3511591     26.0   NaN          RUE      6660    NUNGESSER ET COLI   \n",
      "\n",
      "         Code postal               Commune Code departement  Code commune  \\\n",
      "3507403      75015.0   ISSY-LES-MOULINEAUX               92            40   \n",
      "3507404      75015.0   ISSY-LES-MOULINEAUX               92            40   \n",
      "3507462      75015.0   ISSY-LES-MOULINEAUX               92            40   \n",
      "3509871      75016.0  BOULOGNE-BILLANCOURT               92            12   \n",
      "3511591      75016.0  BOULOGNE-BILLANCOURT               92            12   \n",
      "\n",
      "         Prefixe de section Section  No plan  No Volume 1er lot  \\\n",
      "3507403                 NaN      AB      161        NaN     178   \n",
      "3507404                 NaN      AB      161        NaN     392   \n",
      "3507462                 NaN      AB      161        NaN     296   \n",
      "3509871                 NaN      AS       81        NaN      81   \n",
      "3511591                 NaN       U       47        NaN      52   \n",
      "\n",
      "        Surface Carrez du 1er lot 2eme lot Surface Carrez du 2eme lot  \\\n",
      "3507403                     27,53      NaN                        NaN   \n",
      "3507404                       NaN      NaN                        NaN   \n",
      "3507462                       NaN      NaN                        NaN   \n",
      "3509871                       NaN      NaN                        NaN   \n",
      "3511591                     29,53       53                        NaN   \n",
      "\n",
      "         3eme lot Surface Carrez du 3eme lot  4eme lot  \\\n",
      "3507403       NaN                        NaN       NaN   \n",
      "3507404       NaN                        NaN       NaN   \n",
      "3507462       NaN                        NaN       NaN   \n",
      "3509871       NaN                        NaN       NaN   \n",
      "3511591       NaN                        NaN       NaN   \n",
      "\n",
      "        Surface Carrez du 4eme lot  5eme lot Surface Carrez du 5eme lot  \\\n",
      "3507403                        NaN       NaN                        NaN   \n",
      "3507404                        NaN       NaN                        NaN   \n",
      "3507462                        NaN       NaN                        NaN   \n",
      "3509871                        NaN       NaN                        NaN   \n",
      "3511591                        NaN       NaN                        NaN   \n",
      "\n",
      "         Nombre de lots  Code type local   Type local  Identifiant local  \\\n",
      "3507403               1              2.0  Appartement                NaN   \n",
      "3507404               1              3.0   Dépendance                NaN   \n",
      "3507462               1              3.0   Dépendance                NaN   \n",
      "3509871               1              3.0   Dépendance                NaN   \n",
      "3511591               2              2.0  Appartement                NaN   \n",
      "\n",
      "         Surface reelle bati  Nombre pieces principales Nature culture  \\\n",
      "3507403                 28.0                        1.0            NaN   \n",
      "3507404                  0.0                        0.0            NaN   \n",
      "3507462                  0.0                        0.0            NaN   \n",
      "3509871                  0.0                        0.0            NaN   \n",
      "3511591                 29.0                        1.0            NaN   \n",
      "\n",
      "        Nature culture speciale  Surface terrain  \n",
      "3507403                     NaN              NaN  \n",
      "3507404                     NaN              NaN  \n",
      "3507462                     NaN              NaN  \n",
      "3509871                     NaN              NaN  \n",
      "3511591                     NaN              NaN  \n"
     ]
    }
   ],
   "source": [
    "import pandas as pd\n",
    "\n",
    "# Chemin du fichier\n",
    "file_path5 = 'C:/Users/NEZHA/OneDrive/Documents/DVF/ValeursFoncieres-2023.txt'\n",
    "\n",
    "# Taille du morceau (par exemple, 100 000 lignes par morceau)\n",
    "chunk_size = 100000\n",
    "\n",
    "# Liste pour stocker les morceaux filtrés\n",
    "df_paris_filtered = []\n",
    "\n",
    "# Lire le fichier par morceaux\n",
    "chunks = pd.read_csv(file_path5, delimiter='|', encoding='utf-8', chunksize=chunk_size, low_memory=False)\n",
    "\n",
    "# Filtrer et ajouter les morceaux filtrés\n",
    "for chunk in chunks:\n",
    "    # Filtrer pour Paris (codes postaux entre 75000 et 75020)\n",
    "    df_paris_chunk = chunk[chunk['Code postal'].between(75000, 75020)]\n",
    "    \n",
    "    # Ajouter le morceau filtré à la liste\n",
    "    df_paris_filtered.append(df_paris_chunk)\n",
    "\n",
    "# Combiner tous les morceaux filtrés en un seul DataFrame\n",
    "df_paris = pd.concat(df_paris_filtered)\n",
    "\n",
    "# Vérifier les premières lignes du DataFrame filtré\n",
    "print(df_paris.head())\n",
    "\n",
    "# Option d'affichage des colonnes (pour s'assurer que tout est visible)\n",
    "pd.set_option('display.max_columns', None)"
   ]
  },
  {
   "cell_type": "code",
   "execution_count": 29,
   "id": "6c8c3a83-ca56-45b5-97d0-de19e54133d0",
   "metadata": {},
   "outputs": [
    {
     "name": "stderr",
     "output_type": "stream",
     "text": [
      "C:\\Users\\NEZHA\\AppData\\Local\\Temp\\ipykernel_1296\\3283882187.py:21: UserWarning: Parsing dates in %d/%m/%Y format when dayfirst=False (the default) was specified. Pass `dayfirst=True` or specify a format to silence this warning.\n",
      "  df_paris_chunk['Date mutation'] = pd.to_datetime(df_paris_chunk['Date mutation'], errors='coerce')\n",
      "C:\\Users\\NEZHA\\AppData\\Local\\Temp\\ipykernel_1296\\3283882187.py:21: SettingWithCopyWarning: \n",
      "A value is trying to be set on a copy of a slice from a DataFrame.\n",
      "Try using .loc[row_indexer,col_indexer] = value instead\n",
      "\n",
      "See the caveats in the documentation: https://pandas.pydata.org/pandas-docs/stable/user_guide/indexing.html#returning-a-view-versus-a-copy\n",
      "  df_paris_chunk['Date mutation'] = pd.to_datetime(df_paris_chunk['Date mutation'], errors='coerce')\n",
      "C:\\Users\\NEZHA\\AppData\\Local\\Temp\\ipykernel_1296\\3283882187.py:24: SettingWithCopyWarning: \n",
      "A value is trying to be set on a copy of a slice from a DataFrame.\n",
      "Try using .loc[row_indexer,col_indexer] = value instead\n",
      "\n",
      "See the caveats in the documentation: https://pandas.pydata.org/pandas-docs/stable/user_guide/indexing.html#returning-a-view-versus-a-copy\n",
      "  df_paris_chunk['Année'] = df_paris_chunk['Date mutation'].dt.year\n",
      "C:\\Users\\NEZHA\\AppData\\Local\\Temp\\ipykernel_1296\\3283882187.py:21: SettingWithCopyWarning: \n",
      "A value is trying to be set on a copy of a slice from a DataFrame.\n",
      "Try using .loc[row_indexer,col_indexer] = value instead\n",
      "\n",
      "See the caveats in the documentation: https://pandas.pydata.org/pandas-docs/stable/user_guide/indexing.html#returning-a-view-versus-a-copy\n",
      "  df_paris_chunk['Date mutation'] = pd.to_datetime(df_paris_chunk['Date mutation'], errors='coerce')\n",
      "C:\\Users\\NEZHA\\AppData\\Local\\Temp\\ipykernel_1296\\3283882187.py:24: SettingWithCopyWarning: \n",
      "A value is trying to be set on a copy of a slice from a DataFrame.\n",
      "Try using .loc[row_indexer,col_indexer] = value instead\n",
      "\n",
      "See the caveats in the documentation: https://pandas.pydata.org/pandas-docs/stable/user_guide/indexing.html#returning-a-view-versus-a-copy\n",
      "  df_paris_chunk['Année'] = df_paris_chunk['Date mutation'].dt.year\n"
     ]
    },
    {
     "name": "stdout",
     "output_type": "stream",
     "text": [
      "        Date mutation   Année\n",
      "3507403    2023-01-13  2023.0\n",
      "3507404    2023-01-13  2023.0\n",
      "3507462    2023-01-18  2023.0\n",
      "3509871    2023-02-02  2023.0\n",
      "3511591    2023-03-01  2023.0\n"
     ]
    },
    {
     "name": "stderr",
     "output_type": "stream",
     "text": [
      "C:\\Users\\NEZHA\\AppData\\Local\\Temp\\ipykernel_1296\\3283882187.py:30: FutureWarning: The behavior of DataFrame concatenation with empty or all-NA entries is deprecated. In a future version, this will no longer exclude empty or all-NA columns when determining the result dtypes. To retain the old behavior, exclude the relevant entries before the concat operation.\n",
      "  df_paris = pd.concat(df_paris_filtered)\n"
     ]
    }
   ],
   "source": [
    "import pandas as pd\n",
    "\n",
    "# Chemin du fichier\n",
    "file_path5 = 'C:/Users/NEZHA/OneDrive/Documents/DVF/ValeursFoncieres-2023.txt'\n",
    "\n",
    "# Taille du morceau (par exemple, 100 000 lignes par morceau)\n",
    "chunk_size = 100000\n",
    "\n",
    "# Liste pour stocker les morceaux filtrés et traités\n",
    "df_paris_filtered = []\n",
    "\n",
    "# Lire le fichier par morceaux\n",
    "chunks = pd.read_csv(file_path5, delimiter='|', encoding='utf-8', chunksize=chunk_size, low_memory=False)\n",
    "\n",
    "# Filtrer, convertir et ajouter les morceaux traités\n",
    "for chunk in chunks:\n",
    "    # Filtrer pour Paris (codes postaux entre 75000 et 75020)\n",
    "    df_paris_chunk = chunk[chunk['Code postal'].between(75000, 75020)]\n",
    "\n",
    "    # Convertir la colonne 'Date mutation' en datetime\n",
    "    df_paris_chunk['Date mutation'] = pd.to_datetime(df_paris_chunk['Date mutation'], errors='coerce')\n",
    "\n",
    "    # Extraire l'année après conversion\n",
    "    df_paris_chunk['Année'] = df_paris_chunk['Date mutation'].dt.year\n",
    "\n",
    "    # Ajouter le morceau traité à la liste\n",
    "    df_paris_filtered.append(df_paris_chunk)\n",
    "\n",
    "# Combiner tous les morceaux filtrés et traités en un seul DataFrame\n",
    "df_paris = pd.concat(df_paris_filtered)\n",
    "\n",
    "# Vérifier les résultats\n",
    "print(df_paris[['Date mutation', 'Année']].head())"
   ]
  },
  {
   "cell_type": "code",
   "execution_count": 30,
   "id": "b6c8bfda-2341-414b-abbc-3ce14a2b072d",
   "metadata": {},
   "outputs": [
    {
     "name": "stdout",
     "output_type": "stream",
     "text": [
      "float64\n",
      "         Valeur fonciere\n",
      "3507403         250000.0\n",
      "3507404         250000.0\n",
      "3507462          22000.0\n",
      "3509871          27000.0\n",
      "3511591         339550.0\n"
     ]
    }
   ],
   "source": [
    "# Créer une copie de df_paris pour éviter la vue et travailler directement sur la copie\n",
    "df_paris_copy = df_paris.copy()\n",
    "\n",
    "# Remplacer les virgules par des points dans 'Valeur fonciere'\n",
    "df_paris_copy['Valeur fonciere'] = df_paris_copy['Valeur fonciere'].replace({',': '.'}, regex=True)\n",
    "\n",
    "# Convertir la colonne 'Valeur fonciere' en numérique, en forçant les erreurs à NaN\n",
    "df_paris_copy['Valeur fonciere'] = pd.to_numeric(df_paris_copy['Valeur fonciere'], errors='coerce')\n",
    "\n",
    "# Vérifier le type des données et s'assurer que la conversion a fonctionné\n",
    "print(df_paris_copy['Valeur fonciere'].dtype)  # Cela doit afficher 'float64' ou un type numérique\n",
    "\n",
    "# Vérifier les premières lignes après la conversion\n",
    "print(df_paris_copy[['Valeur fonciere']].head())"
   ]
  },
  {
   "cell_type": "code",
   "execution_count": 31,
   "id": "bf5b6795-7a98-472a-8399-8fde387701e6",
   "metadata": {},
   "outputs": [
    {
     "name": "stdout",
     "output_type": "stream",
     "text": [
      "         Valeur fonciere\n",
      "3524340        2329600.0\n",
      "3524341        2329600.0\n",
      "3524342        2329600.0\n",
      "3524343        2329600.0\n",
      "3529290        1343700.0\n"
     ]
    }
   ],
   "source": [
    "# Filtrer les transactions dont la valeur foncière est plus élevée que 1 million\n",
    "high_value_transactions = df_paris_copy[df_paris_copy['Valeur fonciere'] > 1000000]\n",
    "\n",
    "# Afficher les premières lignes des transactions avec des valeurs élevées\n",
    "print(high_value_transactions[['Valeur fonciere']].head())"
   ]
  },
  {
   "cell_type": "code",
   "execution_count": 32,
   "id": "ab858a81-47a8-4162-a764-e3dfdc8ce951",
   "metadata": {},
   "outputs": [
    {
     "name": "stdout",
     "output_type": "stream",
     "text": [
      "Année\n",
      "2023.0    10413.308109\n",
      "Name: Prix_m2, dtype: float64\n"
     ]
    }
   ],
   "source": [
    "# Vérifier si la surface réelle est présente et valide\n",
    "df_paris_copy['Prix_m2'] = df_paris_copy['Valeur fonciere'] / df_paris_copy['Surface reelle bati']\n",
    "\n",
    "# Filtrer les valeurs de prix par m² raisonnables (par exemple, exclure les valeurs de surface ou prix aberrants)\n",
    "df_paris_filtered_m2 = df_paris_copy[df_paris_copy['Prix_m2'] < 30000]  \n",
    "\n",
    "# Recalculer la moyenne des prix au m² par année après filtrage\n",
    "prix_moyen_par_annee_m2 = df_paris_filtered_m2.groupby('Année')['Prix_m2'].mean()\n",
    "\n",
    "# Afficher les prix moyens par m² par année\n",
    "print(prix_moyen_par_annee_m2)"
   ]
  },
  {
   "cell_type": "markdown",
   "id": "4e13fbfc-d7e6-45db-ad96-75bf36c88a5b",
   "metadata": {},
   "source": [
    "# Graphiques et sorties visuelles"
   ]
  },
  {
   "cell_type": "code",
   "execution_count": 33,
   "id": "7579cf3b-8bae-4870-836c-9d3acefe64d7",
   "metadata": {},
   "outputs": [
    {
     "data": {
      "image/png": "[encoded data removed]",
      "text/plain": [
       "<Figure size 640x480 with 1 Axes>"
      ]
     },
     "metadata": {},
     "output_type": "display_data"
    }
   ],
   "source": [
    "import matplotlib.pyplot as plt\n",
    "\n",
    "# Données de prix moyen par année\n",
    "prix_moyen = {\n",
    "    2019: 10224.400024,\n",
    "    2020: 10679.781409,\n",
    "    2021: 10865.6187,\n",
    "    2022: 11023.74618,\n",
    "    2023: 10413.308109,\n",
    "    2024: 9962.475912\n",
    "}\n",
    "\n",
    "# Création du graphique\n",
    "plt.plot(prix_moyen.keys(), prix_moyen.values(), marker='o')\n",
    "\n",
    "# Ajouter des labels et un titre\n",
    "plt.xlabel('Année')\n",
    "plt.ylabel('Prix moyen (€)')\n",
    "plt.title('Évolution du prix moyen de l\\'immobilier à Paris (Prix par m²)')\n",
    "\n",
    "# Ajouter un grid pour faciliter la lecture\n",
    "plt.grid(True)\n",
    "\n",
    "# Afficher le graphique\n",
    "plt.show()\n",
    "\n"
   ]
  },
  {
   "cell_type": "code",
   "execution_count": 34,
   "id": "5f53e8ee-d437-4ba0-996c-1c47253bfc9d",
   "metadata": {},
   "outputs": [
    {
     "data": {
      "image/png": "[encoded data removed]",
      "text/plain": [
       "<Figure size 640x480 with 1 Axes>"
      ]
     },
     "metadata": {},
     "output_type": "display_data"
    }
   ],
   "source": [
    "import numpy as np\n",
    "import matplotlib.pyplot as plt\n",
    "from scipy.stats import linregress\n",
    "\n",
    "# Données de prix moyen par année\n",
    "prix_moyen = {\n",
    "    2019: 10224.400024,\n",
    "    2020: 10679.781409,\n",
    "    2021: 10865.6187,\n",
    "    2022: 11023.74618,\n",
    "    2023: 10413.308109,\n",
    "    2024: 9962.475912\n",
    "}\n",
    "\n",
    "# Extraire les années et les prix moyens\n",
    "years = np.array(list(prix_moyen.keys()))\n",
    "prix = np.array(list(prix_moyen.values()))\n",
    "\n",
    "# Calcul de la régression linéaire\n",
    "slope, intercept, r_value, p_value, std_err = linregress(years, prix)\n",
    "\n",
    "# Calcul des valeurs prédites pour la ligne de régression\n",
    "prix_predits = slope * years + intercept\n",
    "\n",
    "# Création du graphique\n",
    "plt.plot(years, prix, marker='o', label='Prix moyen par m²')\n",
    "\n",
    "# Tracer la ligne de régression\n",
    "plt.plot(years, prix_predits, color='red', linestyle='--', label='Régression linéaire')\n",
    "\n",
    "# Ajouter des labels et un titre\n",
    "plt.xlabel('Année')\n",
    "plt.ylabel('Prix moyen (€)')\n",
    "plt.title('Évolution du prix moyen de l\\'immobilier à Paris (Prix par m²)')\n",
    "\n",
    "# Ajouter une légende\n",
    "plt.legend()\n",
    "\n",
    "# Ajouter un grid pour faciliter la lecture\n",
    "plt.grid(True)\n",
    "\n",
    "# Afficher le graphique\n",
    "plt.show()\n"
   ]
  },
  {
   "cell_type": "code",
   "execution_count": 36,
   "id": "b0bcbf82-d2a1-4db3-9cb9-5e081045a2d1",
   "metadata": {},
   "outputs": [
    {
     "name": "stdout",
     "output_type": "stream",
     "text": [
      "Variation absolue (en euros) :\n",
      "2020: 455.38 €\n",
      "2021: 185.84 €\n",
      "2022: 158.13 €\n",
      "2023: -610.44 €\n",
      "2024: -450.83 €\n",
      "\n",
      "Variation relative (en %) :\n",
      "2020: 4.45 %\n",
      "2021: 1.74 %\n",
      "2022: 1.46 %\n",
      "2023: -5.54 %\n",
      "2024: -4.33 %\n"
     ]
    }
   ],
   "source": [
    "# Prix moyen par année\n",
    "prix_moyen = {\n",
    "    2019: 10224.400024,\n",
    "    2020: 10679.781409,\n",
    "    2021: 10865.6187,\n",
    "    2022: 11023.74618,\n",
    "    2023: 10413.308109,\n",
    "    2024: 9962.475912\n",
    "}\n",
    "\n",
    "# Calcul de la variation absolue et relative\n",
    "variations_absolues = {}\n",
    "variations_relatives = {}\n",
    "\n",
    "years = list(prix_moyen.keys())\n",
    "for i in range(1, len(years)):\n",
    "    # Calcul de la variation absolue (en euros)\n",
    "    variation_absolue = prix_moyen[years[i]] - prix_moyen[years[i-1]]\n",
    "    variations_absolues[years[i]] = variation_absolue\n",
    "\n",
    "    # Calcul de la variation relative (en %)\n",
    "    variation_relative = (variation_absolue / prix_moyen[years[i-1]]) * 100\n",
    "    variations_relatives[years[i]] = variation_relative\n",
    "\n",
    "# Affichage des résultats\n",
    "print(\"Variation absolue (en euros) :\")\n",
    "for year, variation in variations_absolues.items():\n",
    "    print(f\"{year}: {variation:.2f} €\")\n",
    "\n",
    "print(\"\\nVariation relative (en %) :\")\n",
    "for year, variation in variations_relatives.items():\n",
    "    print(f\"{year}: {variation:.2f} %\")\n"
   ]
  },
  {
   "cell_type": "code",
   "execution_count": 42,
   "id": "3d23d53b-04d6-4cff-95c5-8ee6ad62ceb1",
   "metadata": {},
   "outputs": [
    {
     "data": {
      "image/png": "[encoded data removed]",
      "text/plain": [
       "<Figure size 800x500 with 1 Axes>"
      ]
     },
     "metadata": {},
     "output_type": "display_data"
    }
   ],
   "source": [
    "import matplotlib.pyplot as plt\n",
    "\n",
    "# Données de prix moyen par année\n",
    "prix_moyen = {\n",
    "    2019: 10224.400024,\n",
    "    2020: 10679.781409,\n",
    "    2021: 10865.6187,\n",
    "    2022: 11023.74618,\n",
    "    2023: 10413.308109,\n",
    "    2024: 9962.475912\n",
    "}\n",
    "\n",
    "# Calcul de la variation annuelle en pourcentage\n",
    "annees = list(prix_moyen.keys())\n",
    "variations = [(prix_moyen[annees[i]] - prix_moyen[annees[i-1]]) / prix_moyen[annees[i-1]] * 100 for i in range(1, len(annees))]\n",
    "\n",
    "# Création du graphique en barres avec le titre corrigé pour l'agglomération parisienne\n",
    "plt.figure(figsize=(8, 5))\n",
    "plt.bar(annees[1:], variations, color='skyblue', edgecolor='black')\n",
    "\n",
    "# Ajout des labels et du titre modifié\n",
    "plt.xlabel('Année')\n",
    "plt.ylabel('Variation annuelle (%)')\n",
    "plt.title('Variation annuelle du prix moyen de l\\'immobilier dans l\\'agglomération parisienne')\n",
    "plt.axhline(0, color='black', linewidth=0.8, linestyle='--')  # Ligne de référence\n",
    "plt.grid(axis='y', linestyle='--', alpha=0.7)\n",
    "\n",
    "# Affichage des valeurs sur les barres\n",
    "for i, v in enumerate(variations):\n",
    "    plt.text(annees[i+1], v + 0.2 if v > 0 else v - 0.5, f\"{v:.2f}%\", ha='center', fontsize=10)\n",
    "\n",
    "# Afficher le graphique\n",
    "plt.show()"
   ]
  },
  {
   "cell_type": "code",
   "execution_count": 37,
   "id": "d158d7b5-903c-4740-a94b-b40b6c57ec4c",
   "metadata": {},
   "outputs": [
    {
     "data": {
      "image/png": "[encoded data removed]",
      "text/plain": [
       "<Figure size 800x500 with 1 Axes>"
      ]
     },
     "metadata": {},
     "output_type": "display_data"
    },
    {
     "data": {
      "text/plain": [
       "10333.130424333329"
      ]
     },
     "execution_count": 37,
     "metadata": {},
     "output_type": "execute_result"
    }
   ],
   "source": [
    "import numpy as np\n",
    "import matplotlib.pyplot as plt\n",
    "from sklearn.linear_model import LinearRegression\n",
    "\n",
    "# Conversion des données en tableau numpy\n",
    "annees = np.array(list(prix_moyen.keys())).reshape(-1, 1)\n",
    "prix = np.array(list(prix_moyen.values())).reshape(-1, 1)\n",
    "\n",
    "# Création du modèle de régression linéaire\n",
    "model = LinearRegression()\n",
    "model.fit(annees, prix)\n",
    "\n",
    "# Prédiction du prix pour 2025\n",
    "annee_future = np.array([[2025]])\n",
    "prix_2025 = model.predict(annee_future)[0][0]\n",
    "\n",
    "# Création du graphique avec la prédiction\n",
    "plt.figure(figsize=(8, 5))\n",
    "plt.scatter(annees, prix, color='blue', label='Prix réels')\n",
    "plt.plot(annees, model.predict(annees), color='red', linestyle='--', label='Tendance')\n",
    "plt.scatter([2025], [prix_2025], color='green', marker='o', label=f'Prévision 2025: {prix_2025:.2f}€')\n",
    "\n",
    "# Ajout des labels et titre\n",
    "plt.xlabel('Année')\n",
    "plt.ylabel('Prix moyen (€ / m²)')\n",
    "plt.title('Évolution et prévision des prix de l\\'immobilier à Paris')\n",
    "plt.legend()\n",
    "plt.grid(True, linestyle='--', alpha=0.6)\n",
    "\n",
    "# Affichage du graphique\n",
    "plt.show()\n",
    "\n",
    "# Retour de la prévision en texte\n",
    "prix_2025\n"
   ]
  }
 ],
 "metadata": {
  "kernelspec": {
   "display_name": "Python 3 (ipykernel)",
   "language": "python",
   "name": "python3"
  },
  "language_info": {
   "codemirror_mode": {
    "name": "ipython",
    "version": 3
   },
   "file_extension": ".py",
   "mimetype": "text/x-python",
   "name": "python",
   "nbconvert_exporter": "python",
   "pygments_lexer": "ipython3",
   "version": "3.12.7"
  }
 },
 "nbformat": 4,
 "nbformat_minor": 5
}
